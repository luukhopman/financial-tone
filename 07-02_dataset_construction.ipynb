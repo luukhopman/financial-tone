{
 "cells": [
  {
   "cell_type": "markdown",
   "metadata": {},
   "source": [
    "# Dataset Construction"
   ]
  },
  {
   "cell_type": "code",
   "execution_count": 5,
   "metadata": {},
   "outputs": [],
   "source": [
    "NAME = '07-02_dataset_construction'\n",
    "PROJECT = 'conference-calls-sentiment'\n",
    "PYTHON_VERSION = '3.7.0'"
   ]
  },
  {
   "cell_type": "markdown",
   "metadata": {},
   "source": [
    "### Imports  "
   ]
  },
  {
   "cell_type": "code",
   "execution_count": 6,
   "metadata": {},
   "outputs": [],
   "source": [
    "import os\n",
    "import re\n",
    "import numpy as np\n",
    "import pandas as pd"
   ]
  },
  {
   "cell_type": "markdown",
   "metadata": {},
   "source": [
    "### Settings"
   ]
  },
  {
   "cell_type": "code",
   "execution_count": 7,
   "metadata": {},
   "outputs": [],
   "source": [
    "workdir = re.sub(\"(?<={})[\\w\\W]*\".format(PROJECT), \"\", os.getcwd())\n",
    "os.chdir(workdir)\n",
    "\n",
    "pipeline = os.path.join('2_pipeline', NAME)\n",
    "if not os.path.exists(pipeline):\n",
    "    os.makedirs(pipeline)\n",
    "    for folder in ['out', 'store', 'tmp']:\n",
    "        os.makedirs(os.path.join(pipeline, folder))"
   ]
  },
  {
   "cell_type": "markdown",
   "metadata": {},
   "source": [
    "---\n",
    "# Main Code "
   ]
  },
  {
   "cell_type": "markdown",
   "metadata": {},
   "source": [
    "## Firm-level"
   ]
  },
  {
   "cell_type": "markdown",
   "metadata": {},
   "source": [
    "### Tone"
   ]
  },
  {
   "cell_type": "code",
   "execution_count": null,
   "metadata": {},
   "outputs": [],
   "source": [
    "tone_by_firm = pd.read_feather(os.path.join('2_pipeline', '04-03_tone_measures', 'out', 'tone_by_firm.feather'))\r\n",
    "tone_by_firm.head()"
   ]
  },
  {
   "cell_type": "markdown",
   "metadata": {},
   "source": [
    "### Abnormal Return Variable"
   ]
  },
  {
   "cell_type": "code",
   "execution_count": null,
   "metadata": {},
   "outputs": [],
   "source": [
    "abnormal_returns = pd.read_feather(os.path.join('2_pipeline', '05-01_abnormal_returns', 'out', 'abnormal_returns.feather'))\n",
    "abnormal_returns.head()"
   ]
  },
  {
   "cell_type": "markdown",
   "metadata": {},
   "source": [
    "### Control Variables"
   ]
  },
  {
   "cell_type": "code",
   "execution_count": null,
   "metadata": {},
   "outputs": [],
   "source": [
    "controls = pd.read_feather(os.path.join('2_pipeline', '07-01_dataset_control_variables', 'out', 'control_variables.feather'))\n",
    "controls.head()"
   ]
  },
  {
   "cell_type": "markdown",
   "metadata": {},
   "source": [
    "### Merge"
   ]
  },
  {
   "cell_type": "code",
   "execution_count": null,
   "metadata": {},
   "outputs": [],
   "source": [
    "dataset = (tone_by_firm\n",
    "           .merge(abnormal_returns, how='left', validate='1:1')\n",
    "           .merge(controls, on=['gvkey', 'quarter'], how='left', validate='m:1')\n",
    "           .assign(year=lambda x: x['event_date'].dt.year)\n",
    "           .sort_values(['gvkey', 'event_date'])\n",
    "           .reset_index(drop=True))\n",
    "dataset"
   ]
  },
  {
   "cell_type": "code",
   "execution_count": null,
   "metadata": {},
   "outputs": [],
   "source": [
    "dataset.notna().sum().to_frame().T"
   ]
  },
  {
   "cell_type": "code",
   "execution_count": 16,
   "metadata": {},
   "outputs": [],
   "source": [
    "# Save\n",
    "dataset.to_feather(os.path.join(pipeline, 'out', 'dataset.feather'))\n",
    "dataset.drop(columns='quarter').to_stata(os.path.join(pipeline, 'out', 'dataset.dta'))"
   ]
  },
  {
   "cell_type": "markdown",
   "metadata": {},
   "source": [
    "## Analyst Dataset"
   ]
  },
  {
   "cell_type": "markdown",
   "metadata": {},
   "source": [
    "### Sentiment"
   ]
  },
  {
   "cell_type": "code",
   "execution_count": null,
   "metadata": {},
   "outputs": [],
   "source": [
    "tone_by_speaker = pd.read_feather(os.path.join('2_pipeline', '04-03_tone_measures', 'out', 'tone_by_speaker.feather'))\n",
    "tone_by_analyst = (tone_by_speaker\n",
    "                   .query(\"speaker_role == 'Analyst'\")\n",
    "                   .rename(columns={'speaker_name': 'analyst',\n",
    "                                    'speaker_firm': 'brokerage'})\n",
    "                   .drop(columns=['speaker_role'])\n",
    "                   .drop_duplicates(subset=['gvkey', 'event_date', 'analyst']))\n",
    "tone_by_analyst.head()"
   ]
  },
  {
   "cell_type": "markdown",
   "metadata": {},
   "source": [
    "### IBES Variables"
   ]
  },
  {
   "cell_type": "code",
   "execution_count": null,
   "metadata": {},
   "outputs": [],
   "source": [
    "analysts_output = pd.read_feather(os.path.join('2_pipeline', '06-04_analysts_output', 'out', 'analysts_output.feather'))\n",
    "analysts_output = analysts_output.drop_duplicates(['gvkey', 'event_date', 'analyst'])\n",
    "analysts_output.head()"
   ]
  },
  {
   "cell_type": "markdown",
   "metadata": {},
   "source": [
    "### Controls"
   ]
  },
  {
   "cell_type": "code",
   "execution_count": null,
   "metadata": {},
   "outputs": [],
   "source": [
    "controls = pd.read_feather(os.path.join('2_pipeline', '07-01_dataset_control_variables', 'out', 'control_variables.feather'))\n",
    "controls.head()"
   ]
  },
  {
   "cell_type": "markdown",
   "metadata": {},
   "source": [
    "### Merge"
   ]
  },
  {
   "cell_type": "code",
   "execution_count": null,
   "metadata": {},
   "outputs": [],
   "source": [
    "analysts_dataset = (tone_by_analyst\n",
    "                    .merge(analysts_output,\n",
    "                           on=['gvkey', 'event_date', 'analyst'],\n",
    "                           validate='1:1')\n",
    "                    .merge(controls,\n",
    "                           on=['gvkey', 'quarter'],\n",
    "                           validate='m:1')\n",
    "                    .sort_values(['gvkey', 'event_date'])\n",
    "                    .reset_index(drop=True))\n",
    "analysts_dataset"
   ]
  },
  {
   "cell_type": "code",
   "execution_count": null,
   "metadata": {},
   "outputs": [],
   "source": [
    "analysts_dataset.notna().sum().to_frame().T"
   ]
  },
  {
   "cell_type": "code",
   "execution_count": 15,
   "metadata": {},
   "outputs": [],
   "source": [
    "# Save\n",
    "analysts_dataset.to_feather(os.path.join(pipeline, 'out', 'analysts_dataset.feather'))\n",
    "analysts_dataset.drop(columns=['brokerage', 'quarter']).to_stata(os.path.join(pipeline, 'out', 'analysts_dataset.dta'))"
   ]
  }
 ],
 "metadata": {
  "interpreter": {
   "hash": "4ad8bff83ca7a203c8f5c1f2f3a00576dbcaaca98e752b3367803050219b2dc1"
  },
  "kernelspec": {
   "display_name": "Python 3.7.0 64-bit ('ccs': conda)",
   "name": "python3"
  },
  "language_info": {
   "name": "python",
   "version": ""
  },
  "metadata": {
   "interpreter": {
    "hash": "4ad8bff83ca7a203c8f5c1f2f3a00576dbcaaca98e752b3367803050219b2dc1"
   }
  },
  "orig_nbformat": 2
 },
 "nbformat": 4,
 "nbformat_minor": 2
}