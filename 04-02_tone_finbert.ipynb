{
 "cells": [
  {
   "cell_type": "markdown",
   "metadata": {},
   "source": [
    "# Tone - FinBERT"
   ]
  },
  {
   "cell_type": "code",
   "execution_count": 1,
   "metadata": {},
   "outputs": [],
   "source": [
    "NAME = '04-02_tone_finbert'\n",
    "PROJECT = 'conference-calls-sentiment'\n",
    "PYTHON_VERSION = '3.7.0'"
   ]
  },
  {
   "cell_type": "markdown",
   "metadata": {},
   "source": [
    "### Imports  "
   ]
  },
  {
   "cell_type": "code",
   "execution_count": 2,
   "metadata": {},
   "outputs": [
    {
     "output_type": "stream",
     "name": "stdout",
     "text": [
      "Using GPU GeForce GTX 1060 6GB\n"
     ]
    }
   ],
   "source": [
    "import os\n",
    "import re\n",
    "from tqdm import tqdm\n",
    "import numpy as np\n",
    "import pandas as pd\n",
    "import torch\n",
    "from torch.utils.data import TensorDataset, DataLoader\n",
    "from finbert_utils import preprocess_for_finbert, finbert_predict"
   ]
  },
  {
   "cell_type": "markdown",
   "metadata": {},
   "source": [
    "### Settings"
   ]
  },
  {
   "cell_type": "code",
   "execution_count": 3,
   "metadata": {},
   "outputs": [],
   "source": [
    "workdir = re.sub(\"(?<={})[\\w\\W]*\".format(PROJECT), \"\", os.getcwd())\n",
    "os.chdir(workdir)\n",
    "\n",
    "pipeline = os.path.join('2_pipeline', NAME)\n",
    "if not os.path.exists(pipeline):\n",
    "    os.makedirs(pipeline)\n",
    "    for folder in ['out', 'store', 'tmp']:\n",
    "        os.makedirs(os.path.join(pipeline, folder))"
   ]
  },
  {
   "cell_type": "markdown",
   "metadata": {},
   "source": [
    "---\n",
    "# Main Code "
   ]
  },
  {
   "cell_type": "code",
   "execution_count": 4,
   "metadata": {},
   "outputs": [
    {
     "output_type": "execute_result",
     "data": {
      "text/plain": [
       "   gvkey ticker event_date                      coname speaker_role  \\\n",
       "0   1013   ADCT 2004-02-18  ADC TELECOMMUNICATIONS INC      Analyst   \n",
       "1   1013   ADCT 2004-02-18  ADC TELECOMMUNICATIONS INC      Analyst   \n",
       "2   1013   ADCT 2004-02-18  ADC TELECOMMUNICATIONS INC      Analyst   \n",
       "3   1013   ADCT 2004-02-18  ADC TELECOMMUNICATIONS INC      Analyst   \n",
       "4   1013   ADCT 2004-02-18  ADC TELECOMMUNICATIONS INC      Analyst   \n",
       "\n",
       "  speaker_name    speaker_firm  \\\n",
       "0       BUCK E  JANCO PARTNERS   \n",
       "1       BUCK E  JANCO PARTNERS   \n",
       "2       BUCK E  JANCO PARTNERS   \n",
       "3       BUCK E  JANCO PARTNERS   \n",
       "4       BUCK E  JANCO PARTNERS   \n",
       "\n",
       "                                          transcript  num_words  \\\n",
       "0  first i think near the beginning of your discu...         35   \n",
       "1  would you mind running through that list once ...          9   \n",
       "2  and secondly that obviously means youre pretty...         15   \n",
       "3  and if you looked at all those without identif...         27   \n",
       "4  i had assumed that but i was just trying to ge...         16   \n",
       "\n",
       "   transcript_id quarter  year  \n",
       "0   137638020605  2004Q1  2004  \n",
       "1   137638020605  2004Q1  2004  \n",
       "2   137638020605  2004Q1  2004  \n",
       "3   137638020605  2004Q1  2004  \n",
       "4   137638020605  2004Q1  2004  "
      ],
      "text/html": "<div>\n<style scoped>\n    .dataframe tbody tr th:only-of-type {\n        vertical-align: middle;\n    }\n\n    .dataframe tbody tr th {\n        vertical-align: top;\n    }\n\n    .dataframe thead th {\n        text-align: right;\n    }\n</style>\n<table border=\"1\" class=\"dataframe\">\n  <thead>\n    <tr style=\"text-align: right;\">\n      <th></th>\n      <th>gvkey</th>\n      <th>ticker</th>\n      <th>event_date</th>\n      <th>coname</th>\n      <th>speaker_role</th>\n      <th>speaker_name</th>\n      <th>speaker_firm</th>\n      <th>transcript</th>\n      <th>num_words</th>\n      <th>transcript_id</th>\n      <th>quarter</th>\n      <th>year</th>\n    </tr>\n  </thead>\n  <tbody>\n    <tr>\n      <th>0</th>\n      <td>1013</td>\n      <td>ADCT</td>\n      <td>2004-02-18</td>\n      <td>ADC TELECOMMUNICATIONS INC</td>\n      <td>Analyst</td>\n      <td>BUCK E</td>\n      <td>JANCO PARTNERS</td>\n      <td>first i think near the beginning of your discu...</td>\n      <td>35</td>\n      <td>137638020605</td>\n      <td>2004Q1</td>\n      <td>2004</td>\n    </tr>\n    <tr>\n      <th>1</th>\n      <td>1013</td>\n      <td>ADCT</td>\n      <td>2004-02-18</td>\n      <td>ADC TELECOMMUNICATIONS INC</td>\n      <td>Analyst</td>\n      <td>BUCK E</td>\n      <td>JANCO PARTNERS</td>\n      <td>would you mind running through that list once ...</td>\n      <td>9</td>\n      <td>137638020605</td>\n      <td>2004Q1</td>\n      <td>2004</td>\n    </tr>\n    <tr>\n      <th>2</th>\n      <td>1013</td>\n      <td>ADCT</td>\n      <td>2004-02-18</td>\n      <td>ADC TELECOMMUNICATIONS INC</td>\n      <td>Analyst</td>\n      <td>BUCK E</td>\n      <td>JANCO PARTNERS</td>\n      <td>and secondly that obviously means youre pretty...</td>\n      <td>15</td>\n      <td>137638020605</td>\n      <td>2004Q1</td>\n      <td>2004</td>\n    </tr>\n    <tr>\n      <th>3</th>\n      <td>1013</td>\n      <td>ADCT</td>\n      <td>2004-02-18</td>\n      <td>ADC TELECOMMUNICATIONS INC</td>\n      <td>Analyst</td>\n      <td>BUCK E</td>\n      <td>JANCO PARTNERS</td>\n      <td>and if you looked at all those without identif...</td>\n      <td>27</td>\n      <td>137638020605</td>\n      <td>2004Q1</td>\n      <td>2004</td>\n    </tr>\n    <tr>\n      <th>4</th>\n      <td>1013</td>\n      <td>ADCT</td>\n      <td>2004-02-18</td>\n      <td>ADC TELECOMMUNICATIONS INC</td>\n      <td>Analyst</td>\n      <td>BUCK E</td>\n      <td>JANCO PARTNERS</td>\n      <td>i had assumed that but i was just trying to ge...</td>\n      <td>16</td>\n      <td>137638020605</td>\n      <td>2004Q1</td>\n      <td>2004</td>\n    </tr>\n  </tbody>\n</table>\n</div>"
     },
     "metadata": {},
     "execution_count": 4
    }
   ],
   "source": [
    "CC_PATH = os.path.join('2_pipeline', '02-02_conference_calls_preprocess', 'out', 'cc_transcripts.feather')\n",
    "\n",
    "cc = pd.read_feather(CC_PATH)\n",
    "cc.head()"
   ]
  },
  {
   "cell_type": "markdown",
   "metadata": {},
   "source": [
    "## Preprocess for BERT"
   ]
  },
  {
   "cell_type": "code",
   "execution_count": 6,
   "metadata": {},
   "outputs": [],
   "source": [
    "LABELS = {0: 'neutral', 1 :'positive', 2: 'negative'}\n",
    "NUM_LABELS = len(LABELS)\n",
    "MAX_SEQ_LENGTH = 64\n",
    "VOCAB_PATH = os.path.join('0_data', 'finbert', 'finbert_vocab')"
   ]
  },
  {
   "cell_type": "code",
   "execution_count": 7,
   "metadata": {},
   "outputs": [
    {
     "output_type": "stream",
     "name": "stderr",
     "text": [
      "100%|██████████| 6072868/6072868 [1:02:59<00:00, 1606.87it/s]\n"
     ]
    }
   ],
   "source": [
    "input_ids, token_type_ids, attention_masks = preprocess_for_finbert(tqdm(cc['transcript']), VOCAB_PATH)"
   ]
  },
  {
   "cell_type": "code",
   "execution_count": 8,
   "metadata": {},
   "outputs": [],
   "source": [
    "dataset = TensorDataset(input_ids, token_type_ids, attention_masks)\n",
    "dataloader = DataLoader(dataset, batch_size=64)"
   ]
  },
  {
   "cell_type": "markdown",
   "metadata": {},
   "source": [
    "## Predict with FinBERT"
   ]
  },
  {
   "cell_type": "code",
   "execution_count": 9,
   "metadata": {},
   "outputs": [],
   "source": [
    "# Load FinBERT\n",
    "finbert = torch.load(os.path.join('2_pipeline', '03-02_model_finbert', 'out', 'finbert'))"
   ]
  },
  {
   "cell_type": "code",
   "execution_count": 10,
   "metadata": {},
   "outputs": [
    {
     "output_type": "stream",
     "name": "stderr",
     "text": [
      "100%|██████████| 94889/94889 [8:25:00<00:00,  3.13it/s]\n"
     ]
    }
   ],
   "source": [
    "cc['finbert'] = finbert_predict(finbert, dataloader)"
   ]
  },
  {
   "cell_type": "markdown",
   "metadata": {},
   "source": [
    "## Process FinBERT Tone"
   ]
  },
  {
   "cell_type": "code",
   "execution_count": 11,
   "metadata": {},
   "outputs": [
    {
     "output_type": "execute_result",
     "data": {
      "text/plain": [
       "neutral     4100238\n",
       "positive    1300205\n",
       "negative     672425\n",
       "Name: finbert, dtype: int64"
      ]
     },
     "metadata": {},
     "execution_count": 11
    }
   ],
   "source": [
    "cc['finbert'].value_counts()"
   ]
  },
  {
   "cell_type": "code",
   "execution_count": 12,
   "metadata": {},
   "outputs": [],
   "source": [
    "def get_finbert_tone(row):\n",
    "    if (row['positive'] + row['negative']) > 0:  # avoid zero division error\n",
    "        finbert_tone = (row['positive']-row['negative']) / (row['positive']+row['negative'])\n",
    "    else:\n",
    "        finbert_tone = 0\n",
    "    return finbert_tone"
   ]
  },
  {
   "cell_type": "markdown",
   "metadata": {},
   "source": [
    "### Tone by Speaker"
   ]
  },
  {
   "cell_type": "code",
   "execution_count": 13,
   "metadata": {},
   "outputs": [
    {
     "output_type": "execute_result",
     "data": {
      "text/plain": [
       "finbert   gvkey ticker event_date speaker_role     speaker_name  \\\n",
       "0          1013   ADCT 2004-02-18      Analyst           BUCK E   \n",
       "1          1013   ADCT 2004-02-18      Analyst         CHURCH R   \n",
       "2          1013   ADCT 2004-02-18      Analyst        COLEMAN S   \n",
       "3          1013   ADCT 2004-02-18      Analyst  COOPERSCHMIDT M   \n",
       "4          1013   ADCT 2004-02-18      Analyst          GOULD M   \n",
       "...         ...    ...        ...          ...              ...   \n",
       "308182   316056   ALLE 2020-10-22      Analyst         SNYDER C   \n",
       "308183   316056   ALLE 2020-10-22      Analyst           WEST C   \n",
       "308184   316056   ALLE 2020-10-22      Analyst           WOJS T   \n",
       "308185   316056   ALLE 2020-10-22   Management       PETRATIS D   \n",
       "308186   316056   ALLE 2020-10-22   Management        SHANNON P   \n",
       "\n",
       "finbert                        speaker_firm  negative  neutral  positive  \\\n",
       "0                            JANCO PARTNERS         0        6         0   \n",
       "1                       WACHOVIA SECURITIES         1        8         1   \n",
       "2                            MORGAN STANLEY         0        7         1   \n",
       "3                           LEHMAN BROTHERS         1        9         1   \n",
       "4                                      CSFB         0        7         2   \n",
       "...                                     ...       ...      ...       ...   \n",
       "308182                  UBS INVESTMENT BANK         2        6         0   \n",
       "308183                 LONGBOW RESEARCH LLC         2        3         1   \n",
       "308184   ROBERT W. BAIRD & CO. INCORPORATED         0        5         1   \n",
       "308185                         ALLEGION PLC        16       48        51   \n",
       "308186                         ALLEGION PLC         4       13         9   \n",
       "\n",
       "finbert  finbert_tone  finbert_tone_norm  \n",
       "0            0.000000          -0.024677  \n",
       "1            0.000000          -0.024677  \n",
       "2            1.000000           1.458168  \n",
       "3            0.000000          -0.024677  \n",
       "4            1.000000           1.458168  \n",
       "...               ...                ...  \n",
       "308182      -1.000000          -1.507521  \n",
       "308183      -0.333333          -0.518958  \n",
       "308184       1.000000           1.458168  \n",
       "308185       0.522388           0.749943  \n",
       "308186       0.384615           0.545648  \n",
       "\n",
       "[308187 rows x 11 columns]"
      ],
      "text/html": "<div>\n<style scoped>\n    .dataframe tbody tr th:only-of-type {\n        vertical-align: middle;\n    }\n\n    .dataframe tbody tr th {\n        vertical-align: top;\n    }\n\n    .dataframe thead th {\n        text-align: right;\n    }\n</style>\n<table border=\"1\" class=\"dataframe\">\n  <thead>\n    <tr style=\"text-align: right;\">\n      <th>finbert</th>\n      <th>gvkey</th>\n      <th>ticker</th>\n      <th>event_date</th>\n      <th>speaker_role</th>\n      <th>speaker_name</th>\n      <th>speaker_firm</th>\n      <th>negative</th>\n      <th>neutral</th>\n      <th>positive</th>\n      <th>finbert_tone</th>\n      <th>finbert_tone_norm</th>\n    </tr>\n  </thead>\n  <tbody>\n    <tr>\n      <th>0</th>\n      <td>1013</td>\n      <td>ADCT</td>\n      <td>2004-02-18</td>\n      <td>Analyst</td>\n      <td>BUCK E</td>\n      <td>JANCO PARTNERS</td>\n      <td>0</td>\n      <td>6</td>\n      <td>0</td>\n      <td>0.000000</td>\n      <td>-0.024677</td>\n    </tr>\n    <tr>\n      <th>1</th>\n      <td>1013</td>\n      <td>ADCT</td>\n      <td>2004-02-18</td>\n      <td>Analyst</td>\n      <td>CHURCH R</td>\n      <td>WACHOVIA SECURITIES</td>\n      <td>1</td>\n      <td>8</td>\n      <td>1</td>\n      <td>0.000000</td>\n      <td>-0.024677</td>\n    </tr>\n    <tr>\n      <th>2</th>\n      <td>1013</td>\n      <td>ADCT</td>\n      <td>2004-02-18</td>\n      <td>Analyst</td>\n      <td>COLEMAN S</td>\n      <td>MORGAN STANLEY</td>\n      <td>0</td>\n      <td>7</td>\n      <td>1</td>\n      <td>1.000000</td>\n      <td>1.458168</td>\n    </tr>\n    <tr>\n      <th>3</th>\n      <td>1013</td>\n      <td>ADCT</td>\n      <td>2004-02-18</td>\n      <td>Analyst</td>\n      <td>COOPERSCHMIDT M</td>\n      <td>LEHMAN BROTHERS</td>\n      <td>1</td>\n      <td>9</td>\n      <td>1</td>\n      <td>0.000000</td>\n      <td>-0.024677</td>\n    </tr>\n    <tr>\n      <th>4</th>\n      <td>1013</td>\n      <td>ADCT</td>\n      <td>2004-02-18</td>\n      <td>Analyst</td>\n      <td>GOULD M</td>\n      <td>CSFB</td>\n      <td>0</td>\n      <td>7</td>\n      <td>2</td>\n      <td>1.000000</td>\n      <td>1.458168</td>\n    </tr>\n    <tr>\n      <th>...</th>\n      <td>...</td>\n      <td>...</td>\n      <td>...</td>\n      <td>...</td>\n      <td>...</td>\n      <td>...</td>\n      <td>...</td>\n      <td>...</td>\n      <td>...</td>\n      <td>...</td>\n      <td>...</td>\n    </tr>\n    <tr>\n      <th>308182</th>\n      <td>316056</td>\n      <td>ALLE</td>\n      <td>2020-10-22</td>\n      <td>Analyst</td>\n      <td>SNYDER C</td>\n      <td>UBS INVESTMENT BANK</td>\n      <td>2</td>\n      <td>6</td>\n      <td>0</td>\n      <td>-1.000000</td>\n      <td>-1.507521</td>\n    </tr>\n    <tr>\n      <th>308183</th>\n      <td>316056</td>\n      <td>ALLE</td>\n      <td>2020-10-22</td>\n      <td>Analyst</td>\n      <td>WEST C</td>\n      <td>LONGBOW RESEARCH LLC</td>\n      <td>2</td>\n      <td>3</td>\n      <td>1</td>\n      <td>-0.333333</td>\n      <td>-0.518958</td>\n    </tr>\n    <tr>\n      <th>308184</th>\n      <td>316056</td>\n      <td>ALLE</td>\n      <td>2020-10-22</td>\n      <td>Analyst</td>\n      <td>WOJS T</td>\n      <td>ROBERT W. BAIRD &amp; CO. INCORPORATED</td>\n      <td>0</td>\n      <td>5</td>\n      <td>1</td>\n      <td>1.000000</td>\n      <td>1.458168</td>\n    </tr>\n    <tr>\n      <th>308185</th>\n      <td>316056</td>\n      <td>ALLE</td>\n      <td>2020-10-22</td>\n      <td>Management</td>\n      <td>PETRATIS D</td>\n      <td>ALLEGION PLC</td>\n      <td>16</td>\n      <td>48</td>\n      <td>51</td>\n      <td>0.522388</td>\n      <td>0.749943</td>\n    </tr>\n    <tr>\n      <th>308186</th>\n      <td>316056</td>\n      <td>ALLE</td>\n      <td>2020-10-22</td>\n      <td>Management</td>\n      <td>SHANNON P</td>\n      <td>ALLEGION PLC</td>\n      <td>4</td>\n      <td>13</td>\n      <td>9</td>\n      <td>0.384615</td>\n      <td>0.545648</td>\n    </tr>\n  </tbody>\n</table>\n<p>308187 rows × 11 columns</p>\n</div>"
     },
     "metadata": {},
     "execution_count": 13
    }
   ],
   "source": [
    "finbert_tone_by_speaker = (cc\n",
    "                           .groupby(['gvkey', 'ticker', 'event_date', 'speaker_role', 'speaker_name', 'speaker_firm', 'finbert'])\n",
    "                           .size().unstack(fill_value=0)\n",
    "                           .assign(finbert_tone=lambda x: x.apply(get_finbert_tone, axis=1),\n",
    "                                   finbert_tone_norm=lambda x: (x['finbert_tone']-x['finbert_tone'].mean()) \n",
    "                                                                / x['finbert_tone'].std())\n",
    "                           .reset_index())\n",
    "finbert_tone_by_speaker"
   ]
  },
  {
   "cell_type": "code",
   "execution_count": 14,
   "metadata": {},
   "outputs": [],
   "source": [
    "# Save\n",
    "finbert_tone_by_speaker.to_feather(os.path.join(pipeline, 'out', 'finbert_tone_by_speaker.feather'))"
   ]
  },
  {
   "cell_type": "markdown",
   "metadata": {},
   "source": [
    "### Tone by Role"
   ]
  },
  {
   "cell_type": "code",
   "execution_count": 15,
   "metadata": {},
   "outputs": [
    {
     "output_type": "execute_result",
     "data": {
      "text/plain": [
       "finbert   gvkey ticker event_date speaker_role  negative  neutral  positive  \\\n",
       "0          1013   ADCT 2004-02-18      Analyst         7       72         8   \n",
       "1          1013   ADCT 2004-02-18   Management        15       91        24   \n",
       "2          1013   ADCT 2004-05-19      Analyst         4       63         3   \n",
       "3          1013   ADCT 2004-05-19   Management         7       88        30   \n",
       "4          1013   ADCT 2004-08-25      Analyst        11       47         2   \n",
       "...         ...    ...        ...          ...       ...      ...       ...   \n",
       "52139    316056   ALLE 2020-04-23   Management        32      127        70   \n",
       "52140    316056   ALLE 2020-07-23      Analyst         3       32         6   \n",
       "52141    316056   ALLE 2020-07-23   Management        15       90        71   \n",
       "52142    316056   ALLE 2020-10-22      Analyst        10       45        12   \n",
       "52143    316056   ALLE 2020-10-22   Management        20       61        60   \n",
       "\n",
       "finbert  finbert_tone  finbert_tone_norm  \n",
       "0            0.066667          -0.202309  \n",
       "1            0.230769           0.180165  \n",
       "2           -0.142857          -0.690647  \n",
       "3            0.621622           1.091126  \n",
       "4           -0.692308          -1.971253  \n",
       "...               ...                ...  \n",
       "52139        0.372549           0.510612  \n",
       "52140        0.333333           0.419212  \n",
       "52141        0.651163           1.159978  \n",
       "52142        0.090909          -0.145807  \n",
       "52143        0.500000           0.807662  \n",
       "\n",
       "[52144 rows x 9 columns]"
      ],
      "text/html": "<div>\n<style scoped>\n    .dataframe tbody tr th:only-of-type {\n        vertical-align: middle;\n    }\n\n    .dataframe tbody tr th {\n        vertical-align: top;\n    }\n\n    .dataframe thead th {\n        text-align: right;\n    }\n</style>\n<table border=\"1\" class=\"dataframe\">\n  <thead>\n    <tr style=\"text-align: right;\">\n      <th>finbert</th>\n      <th>gvkey</th>\n      <th>ticker</th>\n      <th>event_date</th>\n      <th>speaker_role</th>\n      <th>negative</th>\n      <th>neutral</th>\n      <th>positive</th>\n      <th>finbert_tone</th>\n      <th>finbert_tone_norm</th>\n    </tr>\n  </thead>\n  <tbody>\n    <tr>\n      <th>0</th>\n      <td>1013</td>\n      <td>ADCT</td>\n      <td>2004-02-18</td>\n      <td>Analyst</td>\n      <td>7</td>\n      <td>72</td>\n      <td>8</td>\n      <td>0.066667</td>\n      <td>-0.202309</td>\n    </tr>\n    <tr>\n      <th>1</th>\n      <td>1013</td>\n      <td>ADCT</td>\n      <td>2004-02-18</td>\n      <td>Management</td>\n      <td>15</td>\n      <td>91</td>\n      <td>24</td>\n      <td>0.230769</td>\n      <td>0.180165</td>\n    </tr>\n    <tr>\n      <th>2</th>\n      <td>1013</td>\n      <td>ADCT</td>\n      <td>2004-05-19</td>\n      <td>Analyst</td>\n      <td>4</td>\n      <td>63</td>\n      <td>3</td>\n      <td>-0.142857</td>\n      <td>-0.690647</td>\n    </tr>\n    <tr>\n      <th>3</th>\n      <td>1013</td>\n      <td>ADCT</td>\n      <td>2004-05-19</td>\n      <td>Management</td>\n      <td>7</td>\n      <td>88</td>\n      <td>30</td>\n      <td>0.621622</td>\n      <td>1.091126</td>\n    </tr>\n    <tr>\n      <th>4</th>\n      <td>1013</td>\n      <td>ADCT</td>\n      <td>2004-08-25</td>\n      <td>Analyst</td>\n      <td>11</td>\n      <td>47</td>\n      <td>2</td>\n      <td>-0.692308</td>\n      <td>-1.971253</td>\n    </tr>\n    <tr>\n      <th>...</th>\n      <td>...</td>\n      <td>...</td>\n      <td>...</td>\n      <td>...</td>\n      <td>...</td>\n      <td>...</td>\n      <td>...</td>\n      <td>...</td>\n      <td>...</td>\n    </tr>\n    <tr>\n      <th>52139</th>\n      <td>316056</td>\n      <td>ALLE</td>\n      <td>2020-04-23</td>\n      <td>Management</td>\n      <td>32</td>\n      <td>127</td>\n      <td>70</td>\n      <td>0.372549</td>\n      <td>0.510612</td>\n    </tr>\n    <tr>\n      <th>52140</th>\n      <td>316056</td>\n      <td>ALLE</td>\n      <td>2020-07-23</td>\n      <td>Analyst</td>\n      <td>3</td>\n      <td>32</td>\n      <td>6</td>\n      <td>0.333333</td>\n      <td>0.419212</td>\n    </tr>\n    <tr>\n      <th>52141</th>\n      <td>316056</td>\n      <td>ALLE</td>\n      <td>2020-07-23</td>\n      <td>Management</td>\n      <td>15</td>\n      <td>90</td>\n      <td>71</td>\n      <td>0.651163</td>\n      <td>1.159978</td>\n    </tr>\n    <tr>\n      <th>52142</th>\n      <td>316056</td>\n      <td>ALLE</td>\n      <td>2020-10-22</td>\n      <td>Analyst</td>\n      <td>10</td>\n      <td>45</td>\n      <td>12</td>\n      <td>0.090909</td>\n      <td>-0.145807</td>\n    </tr>\n    <tr>\n      <th>52143</th>\n      <td>316056</td>\n      <td>ALLE</td>\n      <td>2020-10-22</td>\n      <td>Management</td>\n      <td>20</td>\n      <td>61</td>\n      <td>60</td>\n      <td>0.500000</td>\n      <td>0.807662</td>\n    </tr>\n  </tbody>\n</table>\n<p>52144 rows × 9 columns</p>\n</div>"
     },
     "metadata": {},
     "execution_count": 15
    }
   ],
   "source": [
    "finbert_tone_by_role = (cc\n",
    "                        .groupby(['gvkey', 'ticker', 'event_date', 'speaker_role', 'finbert'])\n",
    "                        .size().unstack(fill_value=0)\n",
    "                        .assign(finbert_tone=lambda x: x.apply(get_finbert_tone, axis=1),\n",
    "                                finbert_tone_norm=lambda x: (x['finbert_tone']-x['finbert_tone'].mean()) \n",
    "                                                        / x['finbert_tone'].std())\n",
    "                        .reset_index())\n",
    "finbert_tone_by_role"
   ]
  },
  {
   "cell_type": "code",
   "execution_count": 16,
   "metadata": {},
   "outputs": [],
   "source": [
    "# Save\n",
    "finbert_tone_by_role.to_feather(os.path.join(pipeline, 'out', 'finbert_tone_by_role.feather'))"
   ]
  },
  {
   "cell_type": "markdown",
   "metadata": {},
   "source": [
    "### Tone by Firm"
   ]
  },
  {
   "cell_type": "code",
   "execution_count": 17,
   "metadata": {},
   "outputs": [
    {
     "output_type": "execute_result",
     "data": {
      "text/plain": [
       "finbert   gvkey ticker event_date  negative  neutral  positive  finbert_tone  \\\n",
       "0          1013   ADCT 2004-02-18        22      163        32      0.185185   \n",
       "1          1013   ADCT 2004-05-19        11      151        33      0.500000   \n",
       "2          1013   ADCT 2004-08-25        22      105        18     -0.100000   \n",
       "3          1013   ADCT 2004-12-14        11      128        29      0.450000   \n",
       "4          1013   ADCT 2005-02-28        27      165        40      0.194030   \n",
       "...         ...    ...        ...       ...      ...       ...           ...   \n",
       "26232    316056   ALLE 2019-10-24        13       70        51      0.593750   \n",
       "26233    316056   ALLE 2020-02-18        19       60        48      0.432836   \n",
       "26234    316056   ALLE 2020-04-23        38      164        78      0.344828   \n",
       "26235    316056   ALLE 2020-07-23        18      122        77      0.621053   \n",
       "26236    316056   ALLE 2020-10-22        30      106        72      0.411765   \n",
       "\n",
       "finbert  finbert_tone_norm  \n",
       "0                -0.433520  \n",
       "1                 0.723564  \n",
       "2                -1.481702  \n",
       "3                 0.539792  \n",
       "4                -0.401012  \n",
       "...                    ...  \n",
       "26232             1.068137  \n",
       "26233             0.476706  \n",
       "26234             0.153236  \n",
       "26235             1.168486  \n",
       "26236             0.399260  \n",
       "\n",
       "[26237 rows x 8 columns]"
      ],
      "text/html": "<div>\n<style scoped>\n    .dataframe tbody tr th:only-of-type {\n        vertical-align: middle;\n    }\n\n    .dataframe tbody tr th {\n        vertical-align: top;\n    }\n\n    .dataframe thead th {\n        text-align: right;\n    }\n</style>\n<table border=\"1\" class=\"dataframe\">\n  <thead>\n    <tr style=\"text-align: right;\">\n      <th>finbert</th>\n      <th>gvkey</th>\n      <th>ticker</th>\n      <th>event_date</th>\n      <th>negative</th>\n      <th>neutral</th>\n      <th>positive</th>\n      <th>finbert_tone</th>\n      <th>finbert_tone_norm</th>\n    </tr>\n  </thead>\n  <tbody>\n    <tr>\n      <th>0</th>\n      <td>1013</td>\n      <td>ADCT</td>\n      <td>2004-02-18</td>\n      <td>22</td>\n      <td>163</td>\n      <td>32</td>\n      <td>0.185185</td>\n      <td>-0.433520</td>\n    </tr>\n    <tr>\n      <th>1</th>\n      <td>1013</td>\n      <td>ADCT</td>\n      <td>2004-05-19</td>\n      <td>11</td>\n      <td>151</td>\n      <td>33</td>\n      <td>0.500000</td>\n      <td>0.723564</td>\n    </tr>\n    <tr>\n      <th>2</th>\n      <td>1013</td>\n      <td>ADCT</td>\n      <td>2004-08-25</td>\n      <td>22</td>\n      <td>105</td>\n      <td>18</td>\n      <td>-0.100000</td>\n      <td>-1.481702</td>\n    </tr>\n    <tr>\n      <th>3</th>\n      <td>1013</td>\n      <td>ADCT</td>\n      <td>2004-12-14</td>\n      <td>11</td>\n      <td>128</td>\n      <td>29</td>\n      <td>0.450000</td>\n      <td>0.539792</td>\n    </tr>\n    <tr>\n      <th>4</th>\n      <td>1013</td>\n      <td>ADCT</td>\n      <td>2005-02-28</td>\n      <td>27</td>\n      <td>165</td>\n      <td>40</td>\n      <td>0.194030</td>\n      <td>-0.401012</td>\n    </tr>\n    <tr>\n      <th>...</th>\n      <td>...</td>\n      <td>...</td>\n      <td>...</td>\n      <td>...</td>\n      <td>...</td>\n      <td>...</td>\n      <td>...</td>\n      <td>...</td>\n    </tr>\n    <tr>\n      <th>26232</th>\n      <td>316056</td>\n      <td>ALLE</td>\n      <td>2019-10-24</td>\n      <td>13</td>\n      <td>70</td>\n      <td>51</td>\n      <td>0.593750</td>\n      <td>1.068137</td>\n    </tr>\n    <tr>\n      <th>26233</th>\n      <td>316056</td>\n      <td>ALLE</td>\n      <td>2020-02-18</td>\n      <td>19</td>\n      <td>60</td>\n      <td>48</td>\n      <td>0.432836</td>\n      <td>0.476706</td>\n    </tr>\n    <tr>\n      <th>26234</th>\n      <td>316056</td>\n      <td>ALLE</td>\n      <td>2020-04-23</td>\n      <td>38</td>\n      <td>164</td>\n      <td>78</td>\n      <td>0.344828</td>\n      <td>0.153236</td>\n    </tr>\n    <tr>\n      <th>26235</th>\n      <td>316056</td>\n      <td>ALLE</td>\n      <td>2020-07-23</td>\n      <td>18</td>\n      <td>122</td>\n      <td>77</td>\n      <td>0.621053</td>\n      <td>1.168486</td>\n    </tr>\n    <tr>\n      <th>26236</th>\n      <td>316056</td>\n      <td>ALLE</td>\n      <td>2020-10-22</td>\n      <td>30</td>\n      <td>106</td>\n      <td>72</td>\n      <td>0.411765</td>\n      <td>0.399260</td>\n    </tr>\n  </tbody>\n</table>\n<p>26237 rows × 8 columns</p>\n</div>"
     },
     "metadata": {},
     "execution_count": 17
    }
   ],
   "source": [
    "finbert_tone_by_firm = (cc\n",
    "                        .groupby(['gvkey', 'ticker', 'event_date', 'finbert'])\n",
    "                        .size().unstack(fill_value=0)\n",
    "                        .assign(finbert_tone=lambda x: x.apply(get_finbert_tone, axis=1),\n",
    "                                finbert_tone_norm=lambda x: (x['finbert_tone']-x['finbert_tone'].mean()) \n",
    "                                                        / x['finbert_tone'].std())\n",
    "                        .reset_index())\n",
    "finbert_tone_by_firm"
   ]
  },
  {
   "cell_type": "code",
   "execution_count": 18,
   "metadata": {},
   "outputs": [],
   "source": [
    "# Save\n",
    "finbert_tone_by_firm.to_feather(os.path.join(pipeline, 'out', 'finbert_tone_by_firm.feather'))"
   ]
  }
 ],
 "metadata": {
  "kernelspec": {
   "name": "python370jvsc74a57bd00fd244f8153bc805f524f29c23b1aa2814d4e93d2f2c2e96a05bc405a61fe891",
   "display_name": "Python 3.7.0 64-bit ('ccs': conda)"
  },
  "language_info": {
   "codemirror_mode": {
    "name": "ipython",
    "version": 3
   },
   "file_extension": ".py",
   "mimetype": "text/x-python",
   "name": "python",
   "nbconvert_exporter": "python",
   "pygments_lexer": "ipython3",
   "version": "3.7.0"
  }
 },
 "nbformat": 4,
 "nbformat_minor": 4
}