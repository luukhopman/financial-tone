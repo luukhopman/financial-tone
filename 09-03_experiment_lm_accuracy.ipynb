{
 "cells": [
  {
   "cell_type": "markdown",
   "metadata": {},
   "source": [
    "# Experiment - LM Word Accuracy"
   ]
  },
  {
   "cell_type": "code",
   "execution_count": 1,
   "metadata": {},
   "outputs": [],
   "source": [
    "NAME = '09-03_experiment_lm_accuracy'\r\n",
    "PROJECT = 'conference-calls-sentiment'\r\n",
    "PYTHON_VERSION = '3.7.0'"
   ]
  },
  {
   "cell_type": "markdown",
   "metadata": {},
   "source": [
    "### Imports"
   ]
  },
  {
   "cell_type": "code",
   "execution_count": 2,
   "metadata": {},
   "outputs": [],
   "source": [
    "import os\r\n",
    "import re\r\n",
    "import pickle\r\n",
    "import numpy as np\r\n",
    "import pandas as pd"
   ]
  },
  {
   "cell_type": "markdown",
   "metadata": {},
   "source": [
    "### Settings"
   ]
  },
  {
   "cell_type": "code",
   "execution_count": 3,
   "metadata": {},
   "outputs": [],
   "source": [
    "workdir = re.sub(\"(?<={})[\\w\\W]*\".format(PROJECT), \"\", os.getcwd())\r\n",
    "os.chdir(workdir)"
   ]
  },
  {
   "cell_type": "markdown",
   "metadata": {},
   "source": [
    "---\r\n",
    "# Main Code \r\n",
    "## Read Phrases\r\n",
    "### Financial Phrasebank"
   ]
  },
  {
   "cell_type": "code",
   "execution_count": 4,
   "metadata": {},
   "outputs": [],
   "source": [
    "def read_labeled_sentences(level):\r\n",
    "    with open(os.path.join('0_data', 'financial_phrasebank', f'Sentences_{level}Agree.txt')) as f:\r\n",
    "        labeled_sentences = f.readlines()\r\n",
    "    sentences, labels = [], []\r\n",
    "    for i in labeled_sentences:\r\n",
    "        sentence, label = i.split(('@'))\r\n",
    "        sentences.append(sentence)\r\n",
    "        labels.append(label.strip())\r\n",
    "    return pd.DataFrame({'sentence': sentences, 'label': labels})"
   ]
  },
  {
   "cell_type": "code",
   "execution_count": 5,
   "metadata": {},
   "outputs": [
    {
     "data": {
      "text/plain": "4846"
     },
     "execution_count": 5,
     "metadata": {},
     "output_type": "execute_result"
    }
   ],
   "source": [
    "fpb = read_labeled_sentences('50')\r\n",
    "len(fpb)"
   ]
  },
  {
   "cell_type": "markdown",
   "metadata": {},
   "source": [
    "### FiQa"
   ]
  },
  {
   "cell_type": "code",
   "execution_count": 6,
   "metadata": {},
   "outputs": [],
   "source": [
    "NEUTRAL_THRESHOLD = 0.2"
   ]
  },
  {
   "cell_type": "code",
   "execution_count": 7,
   "metadata": {},
   "outputs": [],
   "source": [
    "REPLACE_BY_SPACE = re.compile(r'[/(){}\\[\\]\\|@,;-]')\r\n",
    "BAD_SYMBOLS = re.compile(r'[^0-9a-z +_]')\r\n",
    "HYPERLINKS = re.compile(r'(http)([^\\s]+)')\r\n",
    "\r\n",
    "def clean_text(transcript):\r\n",
    "    transcript = transcript.lower()\r\n",
    "    transcript = HYPERLINKS.sub('', transcript)\r\n",
    "    transcript = REPLACE_BY_SPACE.sub(' ', transcript)\r\n",
    "    transcript = BAD_SYMBOLS.sub('', transcript)\r\n",
    "    transcript = re.sub(r'\\s+', ' ', transcript)\r\n",
    "    return transcript.strip()"
   ]
  },
  {
   "cell_type": "code",
   "execution_count": 8,
   "metadata": {},
   "outputs": [],
   "source": [
    "headlines = pd.read_json(os.path.join('0_data', 'fiqa', 'task1_headline_ABSA_train.json')).transpose()"
   ]
  },
  {
   "cell_type": "code",
   "execution_count": 9,
   "metadata": {},
   "outputs": [],
   "source": [
    "headlines['sentence'] = headlines['sentence'].apply(clean_text)\r\n",
    "\r\n",
    "headlines['sentiment_score'] = (headlines['info']\r\n",
    "                                .apply(lambda x: x[0]['sentiment_score'])\r\n",
    "                                .astype(np.float))\r\n",
    "\r\n",
    "headlines.loc[np.abs(headlines['sentiment_score']) <= NEUTRAL_THRESHOLD, 'label'] = 'neutral'\r\n",
    "headlines.loc[headlines['sentiment_score'] > NEUTRAL_THRESHOLD, 'label'] = 'positive'\r\n",
    "headlines.loc[headlines['sentiment_score'] < -NEUTRAL_THRESHOLD, 'label'] = 'negative'\r\n",
    "\r\n",
    "headlines.drop(columns=['info'], inplace=True)"
   ]
  },
  {
   "cell_type": "code",
   "execution_count": 10,
   "metadata": {},
   "outputs": [],
   "source": [
    "posts = pd.read_json(os.path.join('0_data', 'fiqa', 'task1_post_ABSA_train.json')).transpose()"
   ]
  },
  {
   "cell_type": "code",
   "execution_count": 11,
   "metadata": {},
   "outputs": [],
   "source": [
    "posts['sentence'] = posts['sentence'].apply(clean_text)\r\n",
    "\r\n",
    "posts['sentiment_score'] = (posts['info']\r\n",
    "                            .apply(lambda x: x[0]['sentiment_score'])\r\n",
    "                            .astype(np.float))\r\n",
    "\r\n",
    "posts.loc[np.abs(posts['sentiment_score']) <= NEUTRAL_THRESHOLD, 'label'] = 'neutral'\r\n",
    "posts.loc[posts['sentiment_score'] > NEUTRAL_THRESHOLD, 'label'] = 'positive'\r\n",
    "posts.loc[posts['sentiment_score'] < -NEUTRAL_THRESHOLD, 'label'] = 'negative'\r\n",
    "\r\n",
    "posts.drop(columns=['info'], inplace=True)"
   ]
  },
  {
   "cell_type": "markdown",
   "metadata": {},
   "source": [
    "### Combine Phrases"
   ]
  },
  {
   "cell_type": "code",
   "execution_count": 12,
   "metadata": {},
   "outputs": [
    {
     "data": {
      "text/plain": "5957"
     },
     "execution_count": 12,
     "metadata": {},
     "output_type": "execute_result"
    }
   ],
   "source": [
    "phrases = pd.concat([fpb, headlines, posts])\r\n",
    "len(phrases)"
   ]
  },
  {
   "cell_type": "markdown",
   "metadata": {},
   "source": [
    "## Sentiment"
   ]
  },
  {
   "cell_type": "markdown",
   "metadata": {},
   "source": [
    "### Loughran & McDonald (2011)"
   ]
  },
  {
   "cell_type": "code",
   "execution_count": 13,
   "metadata": {},
   "outputs": [
    {
     "name": "stdout",
     "output_type": "stream",
     "text": [
      "# Positive: 354\n",
      "# Negative: 2355\n"
     ]
    }
   ],
   "source": [
    "with open(os.path.join('2_pipeline', '03-01_model_dictionaries', 'out', 'lm_positive.pickle'), 'rb') as f:\r\n",
    "    lm_positive = pickle.load(f)\r\n",
    "\r\n",
    "with open(os.path.join('2_pipeline', '03-01_model_dictionaries', 'out', 'lm_negative.pickle'), 'rb') as f:\r\n",
    "    lm_negative = pickle.load(f)\r\n",
    "\r\n",
    "print(f\"# Positive: {len(lm_positive)}\\n# Negative: {len(lm_negative)}\")"
   ]
  },
  {
   "cell_type": "code",
   "execution_count": 14,
   "metadata": {},
   "outputs": [],
   "source": [
    "def count_from_list(sentence, word_list):\r\n",
    "    '''Returns the count of words in word_list in conference calls'''\r\n",
    "    sentence_words = sentence.lower().split()\r\n",
    "    num = 0\r\n",
    "    for word in word_list:\r\n",
    "        num += sentence_words.count(word)\r\n",
    "    return num\r\n",
    "\r\n",
    "def sentiment_words(sentence, word_list):\r\n",
    "    '''Returns the count of words in word_list in conference calls'''\r\n",
    "    sentence_words = sentence.lower().split()\r\n",
    "    words = []\r\n",
    "    for word in sentence_words:\r\n",
    "        if word in word_list:\r\n",
    "            words.append(word)\r\n",
    "    return words\r\n",
    "\r\n",
    "def get_sentiment(row):\r\n",
    "    '''Returns the sentiment classification'''\r\n",
    "    if row['num_positive'] == row['num_negative']:\r\n",
    "        return 'neutral'\r\n",
    "    elif row['num_positive'] > row['num_negative']:\r\n",
    "        return 'positive'\r\n",
    "    else:\r\n",
    "        return 'negative'"
   ]
  },
  {
   "cell_type": "code",
   "execution_count": 15,
   "metadata": {},
   "outputs": [],
   "source": [
    "phrases['num_negative'] = phrases['sentence'].apply(count_from_list, word_list=lm_negative)\r\n",
    "phrases['num_positive'] = phrases['sentence'].apply(count_from_list, word_list=lm_positive)\r\n",
    "\r\n",
    "phrases['words'] = phrases['sentence'].apply(sentiment_words, word_list=lm_positive + lm_negative)\r\n",
    "\r\n",
    "phrases['lm_dictionary'] = phrases.apply(get_sentiment, axis=1)"
   ]
  },
  {
   "cell_type": "code",
   "execution_count": 16,
   "metadata": {},
   "outputs": [
    {
     "data": {
      "text/html": "<div>\n<style scoped>\n    .dataframe tbody tr th:only-of-type {\n        vertical-align: middle;\n    }\n\n    .dataframe tbody tr th {\n        vertical-align: top;\n    }\n\n    .dataframe thead th {\n        text-align: right;\n    }\n</style>\n<table border=\"1\" class=\"dataframe\">\n  <thead>\n    <tr style=\"text-align: right;\">\n      <th></th>\n      <th>sentence</th>\n      <th>label</th>\n      <th>sentiment_score</th>\n      <th>num_negative</th>\n      <th>num_positive</th>\n      <th>words</th>\n      <th>lm_dictionary</th>\n      <th>word</th>\n    </tr>\n  </thead>\n  <tbody>\n    <tr>\n      <th>0</th>\n      <td>According to Gran , the company has no plans t...</td>\n      <td>neutral</td>\n      <td>NaN</td>\n      <td>0</td>\n      <td>0</td>\n      <td>[]</td>\n      <td>neutral</td>\n      <td>NaN</td>\n    </tr>\n    <tr>\n      <th>1</th>\n      <td>Technopolis plans to develop in stages an area...</td>\n      <td>neutral</td>\n      <td>NaN</td>\n      <td>0</td>\n      <td>0</td>\n      <td>[]</td>\n      <td>neutral</td>\n      <td>NaN</td>\n    </tr>\n    <tr>\n      <th>2</th>\n      <td>The international electronic industry company ...</td>\n      <td>negative</td>\n      <td>NaN</td>\n      <td>2</td>\n      <td>0</td>\n      <td>[contrary, layoffs]</td>\n      <td>negative</td>\n      <td>contrary</td>\n    </tr>\n    <tr>\n      <th>2</th>\n      <td>The international electronic industry company ...</td>\n      <td>negative</td>\n      <td>NaN</td>\n      <td>2</td>\n      <td>0</td>\n      <td>[contrary, layoffs]</td>\n      <td>negative</td>\n      <td>layoffs</td>\n    </tr>\n    <tr>\n      <th>3</th>\n      <td>With the new production plant the company woul...</td>\n      <td>positive</td>\n      <td>NaN</td>\n      <td>0</td>\n      <td>2</td>\n      <td>[improve, profitability]</td>\n      <td>positive</td>\n      <td>improve</td>\n    </tr>\n    <tr>\n      <th>...</th>\n      <td>...</td>\n      <td>...</td>\n      <td>...</td>\n      <td>...</td>\n      <td>...</td>\n      <td>...</td>\n      <td>...</td>\n      <td>...</td>\n    </tr>\n    <tr>\n      <th>19130</th>\n      <td>facebook fb received a buy rating from wells f...</td>\n      <td>positive</td>\n      <td>0.456</td>\n      <td>0</td>\n      <td>0</td>\n      <td>[]</td>\n      <td>neutral</td>\n      <td>NaN</td>\n    </tr>\n    <tr>\n      <th>19149</th>\n      <td>tsla wish had my puts back but see if we can f...</td>\n      <td>negative</td>\n      <td>-0.485</td>\n      <td>0</td>\n      <td>0</td>\n      <td>[]</td>\n      <td>neutral</td>\n      <td>NaN</td>\n    </tr>\n    <tr>\n      <th>19161</th>\n      <td>citrix systems inc ctxs position increased by ...</td>\n      <td>positive</td>\n      <td>0.529</td>\n      <td>0</td>\n      <td>0</td>\n      <td>[]</td>\n      <td>neutral</td>\n      <td>NaN</td>\n    </tr>\n    <tr>\n      <th>19163</th>\n      <td>notable gainers among liquid option names this...</td>\n      <td>positive</td>\n      <td>0.513</td>\n      <td>0</td>\n      <td>0</td>\n      <td>[]</td>\n      <td>neutral</td>\n      <td>NaN</td>\n    </tr>\n    <tr>\n      <th>19167</th>\n      <td>is facebooks user engagement falling fb</td>\n      <td>negative</td>\n      <td>-0.390</td>\n      <td>0</td>\n      <td>0</td>\n      <td>[]</td>\n      <td>neutral</td>\n      <td>NaN</td>\n    </tr>\n  </tbody>\n</table>\n<p>6174 rows × 8 columns</p>\n</div>",
      "text/plain": "                                                sentence     label  \\\n0      According to Gran , the company has no plans t...   neutral   \n1      Technopolis plans to develop in stages an area...   neutral   \n2      The international electronic industry company ...  negative   \n2      The international electronic industry company ...  negative   \n3      With the new production plant the company woul...  positive   \n...                                                  ...       ...   \n19130  facebook fb received a buy rating from wells f...  positive   \n19149  tsla wish had my puts back but see if we can f...  negative   \n19161  citrix systems inc ctxs position increased by ...  positive   \n19163  notable gainers among liquid option names this...  positive   \n19167            is facebooks user engagement falling fb  negative   \n\n       sentiment_score  num_negative  num_positive                     words  \\\n0                  NaN             0             0                        []   \n1                  NaN             0             0                        []   \n2                  NaN             2             0       [contrary, layoffs]   \n2                  NaN             2             0       [contrary, layoffs]   \n3                  NaN             0             2  [improve, profitability]   \n...                ...           ...           ...                       ...   \n19130            0.456             0             0                        []   \n19149           -0.485             0             0                        []   \n19161            0.529             0             0                        []   \n19163            0.513             0             0                        []   \n19167           -0.390             0             0                        []   \n\n      lm_dictionary      word  \n0           neutral       NaN  \n1           neutral       NaN  \n2          negative  contrary  \n2          negative   layoffs  \n3          positive   improve  \n...             ...       ...  \n19130       neutral       NaN  \n19149       neutral       NaN  \n19161       neutral       NaN  \n19163       neutral       NaN  \n19167       neutral       NaN  \n\n[6174 rows x 8 columns]"
     },
     "execution_count": 16,
     "metadata": {},
     "output_type": "execute_result"
    }
   ],
   "source": [
    "sentiment_words = (phrases\r\n",
    "                   .assign(word=lambda x: x['words'])\r\n",
    "                   .explode('word')\r\n",
    "                   .drop_duplicates(['sentence', 'word']))\r\n",
    "sentiment_words"
   ]
  },
  {
   "cell_type": "code",
   "execution_count": 25,
   "metadata": {},
   "outputs": [],
   "source": [
    "word_overview = (sentiment_words\r\n",
    "                 .loc[sentiment_words['words'].str.len() == 1]\r\n",
    "                 ['word'].value_counts()\r\n",
    "                 .reset_index()\r\n",
    "                 .rename(columns={'index': 'word', 'word': 'frequency'})\r\n",
    "                 .assign(lm_sentiment=lambda x: x['word'].apply(lambda x: 'Positive' if x in lm_positive else 'Negative')))"
   ]
  },
  {
   "cell_type": "code",
   "execution_count": 26,
   "metadata": {},
   "outputs": [
    {
     "data": {
      "text/html": "<div>\n<style scoped>\n    .dataframe tbody tr th:only-of-type {\n        vertical-align: middle;\n    }\n\n    .dataframe tbody tr th {\n        vertical-align: top;\n    }\n\n    .dataframe thead th {\n        text-align: right;\n    }\n</style>\n<table border=\"1\" class=\"dataframe\">\n  <thead>\n    <tr style=\"text-align: right;\">\n      <th></th>\n      <th>word</th>\n      <th>frequency</th>\n      <th>lm_sentiment</th>\n    </tr>\n  </thead>\n  <tbody>\n    <tr>\n      <th>0</th>\n      <td>loss</td>\n      <td>132</td>\n      <td>Negative</td>\n    </tr>\n    <tr>\n      <th>1</th>\n      <td>positive</td>\n      <td>35</td>\n      <td>Positive</td>\n    </tr>\n    <tr>\n      <th>2</th>\n      <td>strong</td>\n      <td>34</td>\n      <td>Positive</td>\n    </tr>\n    <tr>\n      <th>3</th>\n      <td>leading</td>\n      <td>34</td>\n      <td>Positive</td>\n    </tr>\n    <tr>\n      <th>4</th>\n      <td>good</td>\n      <td>33</td>\n      <td>Positive</td>\n    </tr>\n    <tr>\n      <th>...</th>\n      <td>...</td>\n      <td>...</td>\n      <td>...</td>\n    </tr>\n    <tr>\n      <th>342</th>\n      <td>rebound</td>\n      <td>1</td>\n      <td>Positive</td>\n    </tr>\n    <tr>\n      <th>343</th>\n      <td>disgraceful</td>\n      <td>1</td>\n      <td>Negative</td>\n    </tr>\n    <tr>\n      <th>344</th>\n      <td>turmoil</td>\n      <td>1</td>\n      <td>Negative</td>\n    </tr>\n    <tr>\n      <th>345</th>\n      <td>wrong</td>\n      <td>1</td>\n      <td>Negative</td>\n    </tr>\n    <tr>\n      <th>346</th>\n      <td>damages</td>\n      <td>1</td>\n      <td>Negative</td>\n    </tr>\n  </tbody>\n</table>\n<p>347 rows × 3 columns</p>\n</div>",
      "text/plain": "            word  frequency lm_sentiment\n0           loss        132     Negative\n1       positive         35     Positive\n2         strong         34     Positive\n3        leading         34     Positive\n4           good         33     Positive\n..           ...        ...          ...\n342      rebound          1     Positive\n343  disgraceful          1     Negative\n344      turmoil          1     Negative\n345        wrong          1     Negative\n346      damages          1     Negative\n\n[347 rows x 3 columns]"
     },
     "execution_count": 26,
     "metadata": {},
     "output_type": "execute_result"
    }
   ],
   "source": [
    "word_overview"
   ]
  },
  {
   "cell_type": "code",
   "execution_count": 31,
   "metadata": {},
   "outputs": [],
   "source": [
    "def get_actual_sentiment(word):\r\n",
    "    return (sentiment_words\r\n",
    "            .loc[sentiment_words['words'].str.len() == 1]\r\n",
    "            .loc[lambda x: x['word'] == word]\r\n",
    "            .drop_duplicates('sentence')\r\n",
    "            ['label'].value_counts())"
   ]
  },
  {
   "cell_type": "code",
   "execution_count": 33,
   "metadata": {},
   "outputs": [],
   "source": [
    "word_overview[['Negative', 'Positive', 'Neutral']] = word_overview['word'].apply(lambda x: get_actual_sentiment(x)).fillna(0).astype('int')"
   ]
  },
  {
   "cell_type": "code",
   "execution_count": 34,
   "metadata": {},
   "outputs": [],
   "source": [
    "word_overview['num_correct'] = word_overview.apply(lambda x: x[x['lm_sentiment']], axis=1)\r\n",
    "word_overview['Accuracy'] = word_overview['num_correct'] / word_overview['frequency']"
   ]
  },
  {
   "cell_type": "markdown",
   "metadata": {},
   "source": [
    "## Tables"
   ]
  },
  {
   "cell_type": "code",
   "execution_count": 40,
   "metadata": {},
   "outputs": [
    {
     "data": {
      "text/html": "<div>\n<style scoped>\n    .dataframe tbody tr th:only-of-type {\n        vertical-align: middle;\n    }\n\n    .dataframe tbody tr th {\n        vertical-align: top;\n    }\n\n    .dataframe thead th {\n        text-align: right;\n    }\n</style>\n<table border=\"1\" class=\"dataframe\">\n  <thead>\n    <tr style=\"text-align: right;\">\n      <th></th>\n      <th>Frequency</th>\n      <th>Positive</th>\n      <th>Neutral</th>\n      <th>Negative</th>\n      <th>Accuracy</th>\n    </tr>\n    <tr>\n      <th>word</th>\n      <th></th>\n      <th></th>\n      <th></th>\n      <th></th>\n      <th></th>\n    </tr>\n  </thead>\n  <tbody>\n    <tr>\n      <th>improved</th>\n      <td>17</td>\n      <td>17</td>\n      <td>0</td>\n      <td>0</td>\n      <td>100.00%</td>\n    </tr>\n    <tr>\n      <th>boosted</th>\n      <td>7</td>\n      <td>7</td>\n      <td>0</td>\n      <td>0</td>\n      <td>100.00%</td>\n    </tr>\n    <tr>\n      <th>outperform</th>\n      <td>8</td>\n      <td>8</td>\n      <td>0</td>\n      <td>0</td>\n      <td>100.00%</td>\n    </tr>\n    <tr>\n      <th>positive</th>\n      <td>35</td>\n      <td>33</td>\n      <td>1</td>\n      <td>1</td>\n      <td>94.29%</td>\n    </tr>\n    <tr>\n      <th>good</th>\n      <td>33</td>\n      <td>28</td>\n      <td>4</td>\n      <td>1</td>\n      <td>84.85%</td>\n    </tr>\n    <tr>\n      <th>happy</th>\n      <td>6</td>\n      <td>5</td>\n      <td>1</td>\n      <td>0</td>\n      <td>83.33%</td>\n    </tr>\n    <tr>\n      <th>efficient</th>\n      <td>6</td>\n      <td>5</td>\n      <td>1</td>\n      <td>0</td>\n      <td>83.33%</td>\n    </tr>\n    <tr>\n      <th>pleased</th>\n      <td>10</td>\n      <td>8</td>\n      <td>2</td>\n      <td>0</td>\n      <td>80.00%</td>\n    </tr>\n  </tbody>\n</table>\n</div>",
      "text/plain": "            Frequency  Positive  Neutral  Negative Accuracy\nword                                                       \nimproved           17        17        0         0  100.00%\nboosted             7         7        0         0  100.00%\noutperform          8         8        0         0  100.00%\npositive           35        33        1         1   94.29%\ngood               33        28        4         1   84.85%\nhappy               6         5        1         0   83.33%\nefficient           6         5        1         0   83.33%\npleased            10         8        2         0   80.00%"
     },
     "execution_count": 40,
     "metadata": {},
     "output_type": "execute_result"
    }
   ],
   "source": [
    "(word_overview\r\n",
    ".query(\"frequency >= 5 & lm_sentiment == 'Positive'\")\r\n",
    ".sort_values('Accuracy', ascending=False)\r\n",
    ".head(8)\r\n",
    ".set_index('word')\r\n",
    ".rename(columns={'frequency': 'Frequency',\r\n",
    "                 'lm_sentiment': 'LM Dictionary'})\r\n",
    ".assign(Accuracy=lambda x: x['Accuracy'].apply(lambda s: f'{s:.2%}'))\r\n",
    ".filter(['Frequency', 'Positive',\r\n",
    "         'Neutral', 'Negative', 'Accuracy']))"
   ]
  },
  {
   "cell_type": "code",
   "execution_count": 44,
   "metadata": {},
   "outputs": [
    {
     "data": {
      "text/html": "<div>\n<style scoped>\n    .dataframe tbody tr th:only-of-type {\n        vertical-align: middle;\n    }\n\n    .dataframe tbody tr th {\n        vertical-align: top;\n    }\n\n    .dataframe thead th {\n        text-align: right;\n    }\n</style>\n<table border=\"1\" class=\"dataframe\">\n  <thead>\n    <tr style=\"text-align: right;\">\n      <th></th>\n      <th>Frequency</th>\n      <th>Positive</th>\n      <th>Neutral</th>\n      <th>Negative</th>\n      <th>Accuracy</th>\n    </tr>\n    <tr>\n      <th>word</th>\n      <th></th>\n      <th></th>\n      <th></th>\n      <th></th>\n      <th></th>\n    </tr>\n  </thead>\n  <tbody>\n    <tr>\n      <th>opportunities</th>\n      <td>5</td>\n      <td>2</td>\n      <td>3</td>\n      <td>0</td>\n      <td>40.00%</td>\n    </tr>\n    <tr>\n      <th>innovative</th>\n      <td>6</td>\n      <td>2</td>\n      <td>4</td>\n      <td>0</td>\n      <td>33.33%</td>\n    </tr>\n    <tr>\n      <th>popular</th>\n      <td>6</td>\n      <td>2</td>\n      <td>4</td>\n      <td>0</td>\n      <td>33.33%</td>\n    </tr>\n    <tr>\n      <th>enable</th>\n      <td>14</td>\n      <td>3</td>\n      <td>11</td>\n      <td>0</td>\n      <td>21.43%</td>\n    </tr>\n    <tr>\n      <th>enabling</th>\n      <td>5</td>\n      <td>1</td>\n      <td>4</td>\n      <td>0</td>\n      <td>20.00%</td>\n    </tr>\n    <tr>\n      <th>enables</th>\n      <td>13</td>\n      <td>2</td>\n      <td>11</td>\n      <td>0</td>\n      <td>15.38%</td>\n    </tr>\n    <tr>\n      <th>effective</th>\n      <td>8</td>\n      <td>1</td>\n      <td>6</td>\n      <td>1</td>\n      <td>12.50%</td>\n    </tr>\n    <tr>\n      <th>invention</th>\n      <td>5</td>\n      <td>0</td>\n      <td>5</td>\n      <td>0</td>\n      <td>0.00%</td>\n    </tr>\n  </tbody>\n</table>\n</div>",
      "text/plain": "               Frequency  Positive  Neutral  Negative Accuracy\nword                                                          \nopportunities          5         2        3         0   40.00%\ninnovative             6         2        4         0   33.33%\npopular                6         2        4         0   33.33%\nenable                14         3       11         0   21.43%\nenabling               5         1        4         0   20.00%\nenables               13         2       11         0   15.38%\neffective              8         1        6         1   12.50%\ninvention              5         0        5         0    0.00%"
     },
     "execution_count": 44,
     "metadata": {},
     "output_type": "execute_result"
    }
   ],
   "source": [
    "(word_overview\r\n",
    ".query(\"frequency >= 5 & lm_sentiment == 'Positive'\")\r\n",
    ".sort_values('Accuracy', ascending=False)\r\n",
    ".tail(8)\r\n",
    ".set_index('word')\r\n",
    ".rename(columns={'frequency': 'Frequency',\r\n",
    "                 'lm_sentiment': 'LM Dictionary'})\r\n",
    ".assign(Accuracy=lambda x: x['Accuracy'].apply(lambda s: f'{s:.2%}'))\r\n",
    ".filter(['Frequency', 'Positive',\r\n",
    "         'Neutral', 'Negative', 'Accuracy']))"
   ]
  },
  {
   "cell_type": "code",
   "execution_count": 173,
   "metadata": {},
   "outputs": [
    {
     "data": {
      "text/html": "<div>\n<style scoped>\n    .dataframe tbody tr th:only-of-type {\n        vertical-align: middle;\n    }\n\n    .dataframe tbody tr th {\n        vertical-align: top;\n    }\n\n    .dataframe thead th {\n        text-align: right;\n    }\n</style>\n<table border=\"1\" class=\"dataframe\">\n  <thead>\n    <tr style=\"text-align: right;\">\n      <th></th>\n      <th>Frequency</th>\n      <th>Positive</th>\n      <th>Neutral</th>\n      <th>Negative</th>\n      <th>Accuracy</th>\n    </tr>\n    <tr>\n      <th>word</th>\n      <th></th>\n      <th></th>\n      <th></th>\n      <th></th>\n      <th></th>\n    </tr>\n  </thead>\n  <tbody>\n    <tr>\n      <th>warning</th>\n      <td>12</td>\n      <td>0</td>\n      <td>0</td>\n      <td>12</td>\n      <td>100.00%</td>\n    </tr>\n    <tr>\n      <th>dropped</th>\n      <td>15</td>\n      <td>1</td>\n      <td>1</td>\n      <td>13</td>\n      <td>86.67%</td>\n    </tr>\n    <tr>\n      <th>weak</th>\n      <td>17</td>\n      <td>2</td>\n      <td>2</td>\n      <td>13</td>\n      <td>76.47%</td>\n    </tr>\n    <tr>\n      <th>cut</th>\n      <td>30</td>\n      <td>3</td>\n      <td>6</td>\n      <td>21</td>\n      <td>70.00%</td>\n    </tr>\n    <tr>\n      <th>recall</th>\n      <td>13</td>\n      <td>2</td>\n      <td>2</td>\n      <td>9</td>\n      <td>69.23%</td>\n    </tr>\n    <tr>\n      <th>declined</th>\n      <td>16</td>\n      <td>1</td>\n      <td>4</td>\n      <td>11</td>\n      <td>68.75%</td>\n    </tr>\n    <tr>\n      <th>negative</th>\n      <td>19</td>\n      <td>6</td>\n      <td>0</td>\n      <td>13</td>\n      <td>68.42%</td>\n    </tr>\n    <tr>\n      <th>against</th>\n      <td>14</td>\n      <td>3</td>\n      <td>4</td>\n      <td>7</td>\n      <td>50.00%</td>\n    </tr>\n  </tbody>\n</table>\n</div>",
      "text/plain": "          Frequency  Positive  Neutral  Negative Accuracy\nword                                                     \nwarning          12         0        0        12  100.00%\ndropped          15         1        1        13   86.67%\nweak             17         2        2        13   76.47%\ncut              30         3        6        21   70.00%\nrecall           13         2        2         9   69.23%\ndeclined         16         1        4        11   68.75%\nnegative         19         6        0        13   68.42%\nagainst          14         3        4         7   50.00%"
     },
     "execution_count": 173,
     "metadata": {},
     "output_type": "execute_result"
    }
   ],
   "source": [
    "(word_overview\r\n",
    ".query(\"frequency >= 5 & lm_sentiment == 'Negative'\")\r\n",
    ".sort_values('Accuracy', ascending=False)\r\n",
    ".head(8)\r\n",
    ".set_index('word')\r\n",
    ".rename(columns={'frequency': 'Frequency',\r\n",
    "                 'lm_sentiment': 'LM Dictionary'})\r\n",
    ".assign(Accuracy=lambda x: x['Accuracy'].apply(lambda s: f'{s:.2%}'))\r\n",
    ".filter(['Frequency', 'Positive',\r\n",
    "         'Neutral', 'Negative', 'Accuracy']))"
   ]
  },
  {
   "cell_type": "code",
   "execution_count": 174,
   "metadata": {},
   "outputs": [
    {
     "data": {
      "text/html": "<div>\n<style scoped>\n    .dataframe tbody tr th:only-of-type {\n        vertical-align: middle;\n    }\n\n    .dataframe tbody tr th {\n        vertical-align: top;\n    }\n\n    .dataframe thead th {\n        text-align: right;\n    }\n</style>\n<table border=\"1\" class=\"dataframe\">\n  <thead>\n    <tr style=\"text-align: right;\">\n      <th></th>\n      <th>Frequency</th>\n      <th>Positive</th>\n      <th>Neutral</th>\n      <th>Negative</th>\n      <th>Accuracy</th>\n    </tr>\n    <tr>\n      <th>word</th>\n      <th></th>\n      <th></th>\n      <th></th>\n      <th></th>\n      <th></th>\n    </tr>\n  </thead>\n  <tbody>\n    <tr>\n      <th>breaking</th>\n      <td>12</td>\n      <td>8</td>\n      <td>2</td>\n      <td>2</td>\n      <td>16.67%</td>\n    </tr>\n    <tr>\n      <th>break</th>\n      <td>21</td>\n      <td>12</td>\n      <td>6</td>\n      <td>3</td>\n      <td>14.29%</td>\n    </tr>\n    <tr>\n      <th>closing</th>\n      <td>11</td>\n      <td>5</td>\n      <td>5</td>\n      <td>1</td>\n      <td>9.09%</td>\n    </tr>\n    <tr>\n      <th>bridge</th>\n      <td>18</td>\n      <td>9</td>\n      <td>9</td>\n      <td>0</td>\n      <td>0.00%</td>\n    </tr>\n    <tr>\n      <th>disclosed</th>\n      <td>24</td>\n      <td>0</td>\n      <td>24</td>\n      <td>0</td>\n      <td>0.00%</td>\n    </tr>\n    <tr>\n      <th>disclose</th>\n      <td>12</td>\n      <td>0</td>\n      <td>12</td>\n      <td>0</td>\n      <td>0.00%</td>\n    </tr>\n    <tr>\n      <th>undisclosed</th>\n      <td>10</td>\n      <td>2</td>\n      <td>8</td>\n      <td>0</td>\n      <td>0.00%</td>\n    </tr>\n    <tr>\n      <th>divestment</th>\n      <td>10</td>\n      <td>3</td>\n      <td>7</td>\n      <td>0</td>\n      <td>0.00%</td>\n    </tr>\n  </tbody>\n</table>\n</div>",
      "text/plain": "             Frequency  Positive  Neutral  Negative Accuracy\nword                                                        \nbreaking            12         8        2         2   16.67%\nbreak               21        12        6         3   14.29%\nclosing             11         5        5         1    9.09%\nbridge              18         9        9         0    0.00%\ndisclosed           24         0       24         0    0.00%\ndisclose            12         0       12         0    0.00%\nundisclosed         10         2        8         0    0.00%\ndivestment          10         3        7         0    0.00%"
     },
     "execution_count": 174,
     "metadata": {},
     "output_type": "execute_result"
    }
   ],
   "source": [
    "(word_overview\r\n",
    ".query(\"frequency >= 5 & lm_sentiment == 'Negative'\")\r\n",
    ".sort_values('Accuracy', ascending=False)\r\n",
    ".tail(8)\r\n",
    ".set_index('word')\r\n",
    ".rename(columns={'frequency': 'Frequency',\r\n",
    "                 'lm_sentiment': 'LM Dictionary'})\r\n",
    ".assign(Accuracy=lambda x: x['Accuracy'].apply(lambda s: f'{s:.2%}'))\r\n",
    ".filter(['Frequency', 'Positive',\r\n",
    "         'Neutral', 'Negative', 'Accuracy']))"
   ]
  }
 ],
 "metadata": {
  "interpreter": {
   "hash": "4ad8bff83ca7a203c8f5c1f2f3a00576dbcaaca98e752b3367803050219b2dc1"
  },
  "kernelspec": {
   "display_name": "Python 3.7.0 64-bit ('ccs': conda)",
   "name": "python3"
  },
  "language_info": {
   "codemirror_mode": {
    "name": "ipython",
    "version": 3
   },
   "file_extension": ".py",
   "mimetype": "text/x-python",
   "name": "python",
   "nbconvert_exporter": "python",
   "pygments_lexer": "ipython3",
   "version": "3.7.0"
  },
  "orig_nbformat": 2
 },
 "nbformat": 4,
 "nbformat_minor": 2
}