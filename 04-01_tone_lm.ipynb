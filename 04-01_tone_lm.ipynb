{
 "cells": [
  {
   "cell_type": "markdown",
   "metadata": {},
   "source": [
    "# Tone - LM Dictionary\r\n",
    "*Source: [Loughran & McDonald (2011)](https://sraf.nd.edu/textual-analysis/resources/#Master%20Dictionary)*"
   ]
  },
  {
   "cell_type": "code",
   "execution_count": 1,
   "metadata": {},
   "outputs": [],
   "source": [
    "NAME = '04-01_tone_lm'\n",
    "PROJECT = 'conference-calls-sentiment'\n",
    "PYTHON_VERSION = '3.7.0'"
   ]
  },
  {
   "cell_type": "markdown",
   "metadata": {},
   "source": [
    "### Imports  "
   ]
  },
  {
   "cell_type": "code",
   "execution_count": 2,
   "metadata": {},
   "outputs": [],
   "source": [
    "%%capture\n",
    "import os\n",
    "import re\n",
    "import pickle\n",
    "from datetime import datetime\n",
    "import numpy as np\n",
    "import pandas as pd\n",
    "import matplotlib.pyplot as plt\n",
    "\n",
    "# Progress bar\n",
    "from tqdm import tqdm\n",
    "tqdm.pandas()\n",
    "\n",
    "# NLP\n",
    "from sklearn.feature_extraction.text import CountVectorizer"
   ]
  },
  {
   "cell_type": "markdown",
   "metadata": {},
   "source": [
    "### Settings"
   ]
  },
  {
   "cell_type": "code",
   "execution_count": 3,
   "metadata": {},
   "outputs": [],
   "source": [
    "workdir = re.sub(\"(?<={})[\\w\\W]*\".format(PROJECT), \"\", os.getcwd())\n",
    "os.chdir(workdir)\n",
    "\n",
    "pipeline = os.path.join('2_pipeline', NAME)\n",
    "if not os.path.exists(pipeline):\n",
    "    os.makedirs(pipeline)\n",
    "    for folder in ['out', 'store', 'tmp']:\n",
    "        os.makedirs(os.path.join(pipeline, folder))"
   ]
  },
  {
   "cell_type": "markdown",
   "metadata": {},
   "source": [
    "---\n",
    "# Main Code "
   ]
  },
  {
   "cell_type": "code",
   "execution_count": null,
   "metadata": {},
   "outputs": [],
   "source": [
    "cc = pd.read_feather(os.path.join('2_pipeline', '02-02_conference_calls_preprocess', 'out', 'cc_transcripts.feather'))\n",
    "cc.head()"
   ]
  },
  {
   "cell_type": "markdown",
   "metadata": {},
   "source": [
    "## Loughran & McDonald (2011)"
   ]
  },
  {
   "cell_type": "code",
   "execution_count": 5,
   "metadata": {},
   "outputs": [
    {
     "name": "stdout",
     "output_type": "stream",
     "text": [
      "# Positive: 354\n",
      "# Negative: 2355\n"
     ]
    }
   ],
   "source": [
    "with open(os.path.join('2_pipeline', '03-01_model_dictionaries', 'out', 'lm_positive.pickle'), 'rb') as f:\n",
    "    lm_positive = pickle.load(f)\n",
    "\n",
    "with open(os.path.join('2_pipeline', '03-01_model_dictionaries', 'out', 'lm_negative.pickle'), 'rb') as f:\n",
    "    lm_negative = pickle.load(f)\n",
    "\n",
    "print(f\"# Positive: {len(lm_positive)}\\n# Negative: {len(lm_negative)}\")"
   ]
  },
  {
   "cell_type": "code",
   "execution_count": 6,
   "metadata": {},
   "outputs": [],
   "source": [
    "lm_vocabulary = {j: i for i, j in enumerate(lm_positive + lm_negative)}\n",
    "cv = CountVectorizer(vocabulary=lm_vocabulary)\n",
    "\n",
    "cv_transcripts = cv.fit_transform(cc['transcript'])"
   ]
  },
  {
   "cell_type": "code",
   "execution_count": 7,
   "metadata": {},
   "outputs": [],
   "source": [
    "# Vocabulary mapping\n",
    "lm_positive_mapping = np.array([True if f in lm_positive else False for f in cv.get_feature_names()])\n",
    "lm_negative_mapping = np.array([True if f in lm_negative else False for f in cv.get_feature_names()])\n",
    "\n",
    "def sentiment_count(row):\n",
    "    positive_count = cv_transcripts[row.name, lm_positive_mapping].sum()\n",
    "    negative_count = cv_transcripts[row.name, lm_negative_mapping].sum()\n",
    "    return positive_count, negative_count"
   ]
  },
  {
   "cell_type": "code",
   "execution_count": 8,
   "metadata": {},
   "outputs": [
    {
     "name": "stderr",
     "output_type": "stream",
     "text": [
      "100%|██████████| 6072868/6072868 [50:27<00:00, 2006.16it/s]\n"
     ]
    }
   ],
   "source": [
    "cc['lm_positive'], cc['lm_negative'] = zip(*cc.progress_apply(sentiment_count, axis=1))"
   ]
  },
  {
   "cell_type": "markdown",
   "metadata": {},
   "source": [
    "## Process Sentiment"
   ]
  },
  {
   "cell_type": "code",
   "execution_count": 9,
   "metadata": {},
   "outputs": [],
   "source": [
    "def get_lm_tone(row):\n",
    "    if (row['lm_positive'] + row['lm_negative']) > 0:  # avoid zero division error\n",
    "        tone_lm = (row['lm_positive']-row['lm_negative']) / (row['lm_positive']+row['lm_negative'])\n",
    "    else:\n",
    "        tone_lm = 0\n",
    "    return tone_lm"
   ]
  },
  {
   "cell_type": "markdown",
   "metadata": {},
   "source": [
    "### Tone by Speaker"
   ]
  },
  {
   "cell_type": "code",
   "execution_count": null,
   "metadata": {},
   "outputs": [],
   "source": [
    "lm_tone_by_speaker = (cc\n",
    "                      .groupby(['gvkey', 'ticker', 'event_date', 'speaker_role', 'speaker_name', 'speaker_firm'])\n",
    "                      .agg(num_words=('num_words', np.sum),\n",
    "                           num_sentences=('num_words', 'count'),\n",
    "                           lm_positive=('lm_positive', np.sum),\n",
    "                           lm_negative=('lm_negative', np.sum))\n",
    "                      .assign(lm_tone=lambda x: x.apply(get_lm_tone, axis=1),\n",
    "                              lm_tone_norm=lambda x: (x['lm_tone']-x['lm_tone'].mean()) \n",
    "                                          / x['lm_tone'].std())\n",
    "                      .reset_index())\n",
    "lm_tone_by_speaker"
   ]
  },
  {
   "cell_type": "code",
   "execution_count": 11,
   "metadata": {},
   "outputs": [],
   "source": [
    "# Save\n",
    "lm_tone_by_speaker.to_feather(os.path.join(pipeline, 'out', 'lm_tone_by_speaker.feather'))"
   ]
  },
  {
   "cell_type": "markdown",
   "metadata": {},
   "source": [
    "### Tone by Role"
   ]
  },
  {
   "cell_type": "code",
   "execution_count": 12,
   "metadata": {},
   "outputs": [
    {
     "data": {
      "text/html": "<div>\n<style scoped>\n    .dataframe tbody tr th:only-of-type {\n        vertical-align: middle;\n    }\n\n    .dataframe tbody tr th {\n        vertical-align: top;\n    }\n\n    .dataframe thead th {\n        text-align: right;\n    }\n</style>\n<table border=\"1\" class=\"dataframe\">\n  <thead>\n    <tr style=\"text-align: right;\">\n      <th></th>\n      <th>gvkey</th>\n      <th>ticker</th>\n      <th>event_date</th>\n      <th>speaker_role</th>\n      <th>num_words</th>\n      <th>num_sentences</th>\n      <th>num_speakers</th>\n      <th>lm_positive</th>\n      <th>lm_negative</th>\n      <th>lm_tone</th>\n      <th>lm_tone_norm</th>\n    </tr>\n  </thead>\n  <tbody>\n    <tr>\n      <th>0</th>\n      <td>1013</td>\n      <td>ADCT</td>\n      <td>2004-02-18</td>\n      <td>Analyst</td>\n      <td>1511</td>\n      <td>87</td>\n      <td>12</td>\n      <td>13</td>\n      <td>21</td>\n      <td>-0.235294</td>\n      <td>-0.877963</td>\n    </tr>\n    <tr>\n      <th>1</th>\n      <td>1013</td>\n      <td>ADCT</td>\n      <td>2004-02-18</td>\n      <td>Management</td>\n      <td>2371</td>\n      <td>130</td>\n      <td>2</td>\n      <td>34</td>\n      <td>17</td>\n      <td>0.333333</td>\n      <td>0.774359</td>\n    </tr>\n    <tr>\n      <th>2</th>\n      <td>1013</td>\n      <td>ADCT</td>\n      <td>2004-05-19</td>\n      <td>Analyst</td>\n      <td>1306</td>\n      <td>70</td>\n      <td>7</td>\n      <td>7</td>\n      <td>14</td>\n      <td>-0.333333</td>\n      <td>-1.162846</td>\n    </tr>\n    <tr>\n      <th>3</th>\n      <td>1013</td>\n      <td>ADCT</td>\n      <td>2004-05-19</td>\n      <td>Management</td>\n      <td>2414</td>\n      <td>125</td>\n      <td>2</td>\n      <td>33</td>\n      <td>15</td>\n      <td>0.375000</td>\n      <td>0.895435</td>\n    </tr>\n    <tr>\n      <th>4</th>\n      <td>1013</td>\n      <td>ADCT</td>\n      <td>2004-08-25</td>\n      <td>Analyst</td>\n      <td>1248</td>\n      <td>60</td>\n      <td>8</td>\n      <td>6</td>\n      <td>24</td>\n      <td>-0.600000</td>\n      <td>-1.937729</td>\n    </tr>\n    <tr>\n      <th>...</th>\n      <td>...</td>\n      <td>...</td>\n      <td>...</td>\n      <td>...</td>\n      <td>...</td>\n      <td>...</td>\n      <td>...</td>\n      <td>...</td>\n      <td>...</td>\n      <td>...</td>\n      <td>...</td>\n    </tr>\n    <tr>\n      <th>52139</th>\n      <td>316056</td>\n      <td>ALLE</td>\n      <td>2020-04-23</td>\n      <td>Management</td>\n      <td>3934</td>\n      <td>229</td>\n      <td>2</td>\n      <td>83</td>\n      <td>48</td>\n      <td>0.267176</td>\n      <td>0.582118</td>\n    </tr>\n    <tr>\n      <th>52140</th>\n      <td>316056</td>\n      <td>ALLE</td>\n      <td>2020-07-23</td>\n      <td>Analyst</td>\n      <td>811</td>\n      <td>41</td>\n      <td>7</td>\n      <td>10</td>\n      <td>11</td>\n      <td>-0.047619</td>\n      <td>-0.332615</td>\n    </tr>\n    <tr>\n      <th>52141</th>\n      <td>316056</td>\n      <td>ALLE</td>\n      <td>2020-07-23</td>\n      <td>Management</td>\n      <td>3225</td>\n      <td>176</td>\n      <td>2</td>\n      <td>80</td>\n      <td>34</td>\n      <td>0.403509</td>\n      <td>0.978276</td>\n    </tr>\n    <tr>\n      <th>52142</th>\n      <td>316056</td>\n      <td>ALLE</td>\n      <td>2020-10-22</td>\n      <td>Analyst</td>\n      <td>1130</td>\n      <td>67</td>\n      <td>8</td>\n      <td>12</td>\n      <td>7</td>\n      <td>0.263158</td>\n      <td>0.570443</td>\n    </tr>\n    <tr>\n      <th>52143</th>\n      <td>316056</td>\n      <td>ALLE</td>\n      <td>2020-10-22</td>\n      <td>Management</td>\n      <td>2627</td>\n      <td>141</td>\n      <td>2</td>\n      <td>63</td>\n      <td>23</td>\n      <td>0.465116</td>\n      <td>1.157295</td>\n    </tr>\n  </tbody>\n</table>\n<p>52144 rows × 11 columns</p>\n</div>",
      "text/plain": [
       "        gvkey ticker event_date speaker_role  num_words  num_sentences  \\\n",
       "0        1013   ADCT 2004-02-18      Analyst       1511             87   \n",
       "1        1013   ADCT 2004-02-18   Management       2371            130   \n",
       "2        1013   ADCT 2004-05-19      Analyst       1306             70   \n",
       "3        1013   ADCT 2004-05-19   Management       2414            125   \n",
       "4        1013   ADCT 2004-08-25      Analyst       1248             60   \n",
       "...       ...    ...        ...          ...        ...            ...   \n",
       "52139  316056   ALLE 2020-04-23   Management       3934            229   \n",
       "52140  316056   ALLE 2020-07-23      Analyst        811             41   \n",
       "52141  316056   ALLE 2020-07-23   Management       3225            176   \n",
       "52142  316056   ALLE 2020-10-22      Analyst       1130             67   \n",
       "52143  316056   ALLE 2020-10-22   Management       2627            141   \n",
       "\n",
       "       num_speakers  lm_positive  lm_negative   lm_tone  lm_tone_norm  \n",
       "0                12           13           21 -0.235294     -0.877963  \n",
       "1                 2           34           17  0.333333      0.774359  \n",
       "2                 7            7           14 -0.333333     -1.162846  \n",
       "3                 2           33           15  0.375000      0.895435  \n",
       "4                 8            6           24 -0.600000     -1.937729  \n",
       "...             ...          ...          ...       ...           ...  \n",
       "52139             2           83           48  0.267176      0.582118  \n",
       "52140             7           10           11 -0.047619     -0.332615  \n",
       "52141             2           80           34  0.403509      0.978276  \n",
       "52142             8           12            7  0.263158      0.570443  \n",
       "52143             2           63           23  0.465116      1.157295  \n",
       "\n",
       "[52144 rows x 11 columns]"
      ]
     },
     "execution_count": 12,
     "metadata": {},
     "output_type": "execute_result"
    }
   ],
   "source": [
    "lm_tone_by_role = (cc\n",
    "                   .groupby(['gvkey', 'ticker', 'event_date', 'speaker_role'])\n",
    "                   .agg(num_words=('num_words', np.sum),\n",
    "                        num_sentences=('num_words', 'count'),\n",
    "                        num_speakers=('speaker_name', 'nunique'),\n",
    "                        lm_positive=('lm_positive', np.sum),\n",
    "                        lm_negative=('lm_negative', np.sum))\n",
    "                   .assign(lm_tone=lambda x: x.apply(get_lm_tone, axis=1),\n",
    "                           lm_tone_norm=lambda x: (x['lm_tone']-x['lm_tone'].mean()) \n",
    "                         / x['lm_tone'].std())\n",
    "                   .reset_index())\n",
    "\n",
    "lm_tone_by_role"
   ]
  },
  {
   "cell_type": "code",
   "execution_count": 13,
   "metadata": {},
   "outputs": [],
   "source": [
    "# Save\n",
    "lm_tone_by_role.to_feather(os.path.join(pipeline, 'out', 'lm_tone_by_role.feather'))"
   ]
  },
  {
   "cell_type": "markdown",
   "metadata": {},
   "source": [
    "### Sentiment by Firm"
   ]
  },
  {
   "cell_type": "code",
   "execution_count": null,
   "metadata": {},
   "outputs": [],
   "source": [
    "lm_tone_by_firm = (cc\n",
    "                   .groupby(['gvkey', 'ticker', 'event_date'])\n",
    "                   .agg(num_words=('num_words', np.sum),\n",
    "                        num_sentences=('num_words', 'count'),\n",
    "                        num_speakers=('speaker_name', 'nunique'),\n",
    "                        lm_positive=('lm_positive', np.sum),\n",
    "                        lm_negative=('lm_negative', np.sum))\n",
    "                   .assign(lm_tone=lambda x: x.apply(get_lm_tone, axis=1),\n",
    "                           lm_tone_norm=lambda x: (x['lm_tone']-x['lm_tone'].mean()) \n",
    "                                            / x['lm_tone'].std())\n",
    "                   .reset_index())\n",
    "lm_tone_by_firm"
   ]
  },
  {
   "cell_type": "code",
   "execution_count": 15,
   "metadata": {},
   "outputs": [],
   "source": [
    "# Save\n",
    "lm_tone_by_firm.to_feather(os.path.join(pipeline, 'out', 'lm_tone_by_firm.feather'))"
   ]
  }
 ],
 "metadata": {
  "kernelspec": {
   "display_name": "Python 3.7.0 64-bit ('ccs': conda)",
   "name": "python370jvsc74a57bd00fd244f8153bc805f524f29c23b1aa2814d4e93d2f2c2e96a05bc405a61fe891"
  },
  "language_info": {
   "codemirror_mode": {
    "name": "ipython",
    "version": 3
   },
   "file_extension": ".py",
   "mimetype": "text/x-python",
   "name": "python",
   "nbconvert_exporter": "python",
   "pygments_lexer": "ipython3",
   "version": "3.7.0"
  }
 },
 "nbformat": 4,
 "nbformat_minor": 4
}