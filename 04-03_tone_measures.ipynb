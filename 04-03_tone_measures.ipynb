{
 "cells": [
  {
   "cell_type": "markdown",
   "metadata": {},
   "source": [
    "# Tone - Combine"
   ]
  },
  {
   "cell_type": "code",
   "execution_count": 1,
   "metadata": {},
   "outputs": [],
   "source": [
    "NAME = '04-03_tone_measures'\n",
    "PROJECT = 'conference-calls-sentiment'\n",
    "PYTHON_VERSION = '3.7.0'"
   ]
  },
  {
   "cell_type": "markdown",
   "metadata": {},
   "source": [
    "### Imports"
   ]
  },
  {
   "cell_type": "code",
   "execution_count": 2,
   "metadata": {},
   "outputs": [],
   "source": [
    "import os\n",
    "import re\n",
    "import numpy as np\n",
    "import pandas as pd"
   ]
  },
  {
   "cell_type": "markdown",
   "metadata": {},
   "source": [
    "### Settings"
   ]
  },
  {
   "cell_type": "code",
   "execution_count": 3,
   "metadata": {},
   "outputs": [],
   "source": [
    "workdir = re.sub(\"(?<={})[\\w\\W]*\".format(PROJECT), \"\", os.getcwd())\n",
    "os.chdir(workdir)\n",
    "\n",
    "pipeline = os.path.join('2_pipeline', NAME)\n",
    "if not os.path.exists(pipeline):\n",
    "    os.makedirs(pipeline)\n",
    "    for folder in ['out', 'store', 'tmp']:\n",
    "        os.makedirs(os.path.join(pipeline, folder))"
   ]
  },
  {
   "cell_type": "markdown",
   "metadata": {},
   "source": [
    "---\n",
    "# Main code"
   ]
  },
  {
   "cell_type": "markdown",
   "metadata": {},
   "source": [
    "## Tone by Firm"
   ]
  },
  {
   "cell_type": "code",
   "execution_count": 4,
   "metadata": {},
   "outputs": [
    {
     "output_type": "execute_result",
     "data": {
      "text/plain": [
       "   gvkey ticker event_date  num_words  num_sentences  num_speakers  \\\n",
       "0   1013   ADCT 2004-02-18       3882            217            14   \n",
       "1   1013   ADCT 2004-05-19       3720            195             9   \n",
       "2   1013   ADCT 2004-08-25       3424            145            10   \n",
       "3   1013   ADCT 2004-12-14       3583            168            13   \n",
       "4   1013   ADCT 2005-02-28       4503            232            13   \n",
       "\n",
       "   lm_positive  lm_negative   lm_tone  lm_tone_norm  \n",
       "0           47           38  0.105882     -0.187908  \n",
       "1           40           29  0.159420      0.032320  \n",
       "2           28           40 -0.176471     -1.349363  \n",
       "3           40           41 -0.012346     -0.674237  \n",
       "4           53           42  0.115789     -0.147155  "
      ],
      "text/html": "<div>\n<style scoped>\n    .dataframe tbody tr th:only-of-type {\n        vertical-align: middle;\n    }\n\n    .dataframe tbody tr th {\n        vertical-align: top;\n    }\n\n    .dataframe thead th {\n        text-align: right;\n    }\n</style>\n<table border=\"1\" class=\"dataframe\">\n  <thead>\n    <tr style=\"text-align: right;\">\n      <th></th>\n      <th>gvkey</th>\n      <th>ticker</th>\n      <th>event_date</th>\n      <th>num_words</th>\n      <th>num_sentences</th>\n      <th>num_speakers</th>\n      <th>lm_positive</th>\n      <th>lm_negative</th>\n      <th>lm_tone</th>\n      <th>lm_tone_norm</th>\n    </tr>\n  </thead>\n  <tbody>\n    <tr>\n      <th>0</th>\n      <td>1013</td>\n      <td>ADCT</td>\n      <td>2004-02-18</td>\n      <td>3882</td>\n      <td>217</td>\n      <td>14</td>\n      <td>47</td>\n      <td>38</td>\n      <td>0.105882</td>\n      <td>-0.187908</td>\n    </tr>\n    <tr>\n      <th>1</th>\n      <td>1013</td>\n      <td>ADCT</td>\n      <td>2004-05-19</td>\n      <td>3720</td>\n      <td>195</td>\n      <td>9</td>\n      <td>40</td>\n      <td>29</td>\n      <td>0.159420</td>\n      <td>0.032320</td>\n    </tr>\n    <tr>\n      <th>2</th>\n      <td>1013</td>\n      <td>ADCT</td>\n      <td>2004-08-25</td>\n      <td>3424</td>\n      <td>145</td>\n      <td>10</td>\n      <td>28</td>\n      <td>40</td>\n      <td>-0.176471</td>\n      <td>-1.349363</td>\n    </tr>\n    <tr>\n      <th>3</th>\n      <td>1013</td>\n      <td>ADCT</td>\n      <td>2004-12-14</td>\n      <td>3583</td>\n      <td>168</td>\n      <td>13</td>\n      <td>40</td>\n      <td>41</td>\n      <td>-0.012346</td>\n      <td>-0.674237</td>\n    </tr>\n    <tr>\n      <th>4</th>\n      <td>1013</td>\n      <td>ADCT</td>\n      <td>2005-02-28</td>\n      <td>4503</td>\n      <td>232</td>\n      <td>13</td>\n      <td>53</td>\n      <td>42</td>\n      <td>0.115789</td>\n      <td>-0.147155</td>\n    </tr>\n  </tbody>\n</table>\n</div>"
     },
     "metadata": {},
     "execution_count": 4
    }
   ],
   "source": [
    "lm_tone_by_firm = pd.read_feather(os.path.join('2_pipeline', '04-01_tone_lm', 'out', 'lm_tone_by_firm.feather'))\n",
    "lm_tone_by_firm.head()"
   ]
  },
  {
   "cell_type": "code",
   "execution_count": 5,
   "metadata": {},
   "outputs": [
    {
     "output_type": "execute_result",
     "data": {
      "text/plain": [
       "   gvkey ticker event_date  negative  neutral  positive  finbert_tone  \\\n",
       "0   1013   ADCT 2004-02-18        22      163        32      0.185185   \n",
       "1   1013   ADCT 2004-05-19        11      151        33      0.500000   \n",
       "2   1013   ADCT 2004-08-25        22      105        18     -0.100000   \n",
       "3   1013   ADCT 2004-12-14        11      128        29      0.450000   \n",
       "4   1013   ADCT 2005-02-28        27      165        40      0.194030   \n",
       "\n",
       "   finbert_tone_norm  \n",
       "0          -0.433520  \n",
       "1           0.723564  \n",
       "2          -1.481702  \n",
       "3           0.539792  \n",
       "4          -0.401012  "
      ],
      "text/html": "<div>\n<style scoped>\n    .dataframe tbody tr th:only-of-type {\n        vertical-align: middle;\n    }\n\n    .dataframe tbody tr th {\n        vertical-align: top;\n    }\n\n    .dataframe thead th {\n        text-align: right;\n    }\n</style>\n<table border=\"1\" class=\"dataframe\">\n  <thead>\n    <tr style=\"text-align: right;\">\n      <th></th>\n      <th>gvkey</th>\n      <th>ticker</th>\n      <th>event_date</th>\n      <th>negative</th>\n      <th>neutral</th>\n      <th>positive</th>\n      <th>finbert_tone</th>\n      <th>finbert_tone_norm</th>\n    </tr>\n  </thead>\n  <tbody>\n    <tr>\n      <th>0</th>\n      <td>1013</td>\n      <td>ADCT</td>\n      <td>2004-02-18</td>\n      <td>22</td>\n      <td>163</td>\n      <td>32</td>\n      <td>0.185185</td>\n      <td>-0.433520</td>\n    </tr>\n    <tr>\n      <th>1</th>\n      <td>1013</td>\n      <td>ADCT</td>\n      <td>2004-05-19</td>\n      <td>11</td>\n      <td>151</td>\n      <td>33</td>\n      <td>0.500000</td>\n      <td>0.723564</td>\n    </tr>\n    <tr>\n      <th>2</th>\n      <td>1013</td>\n      <td>ADCT</td>\n      <td>2004-08-25</td>\n      <td>22</td>\n      <td>105</td>\n      <td>18</td>\n      <td>-0.100000</td>\n      <td>-1.481702</td>\n    </tr>\n    <tr>\n      <th>3</th>\n      <td>1013</td>\n      <td>ADCT</td>\n      <td>2004-12-14</td>\n      <td>11</td>\n      <td>128</td>\n      <td>29</td>\n      <td>0.450000</td>\n      <td>0.539792</td>\n    </tr>\n    <tr>\n      <th>4</th>\n      <td>1013</td>\n      <td>ADCT</td>\n      <td>2005-02-28</td>\n      <td>27</td>\n      <td>165</td>\n      <td>40</td>\n      <td>0.194030</td>\n      <td>-0.401012</td>\n    </tr>\n  </tbody>\n</table>\n</div>"
     },
     "metadata": {},
     "execution_count": 5
    }
   ],
   "source": [
    "finbert_tone_by_firm = pd.read_feather(os.path.join('2_pipeline', '04-02_tone_finbert', 'out', 'finbert_tone_by_firm.feather'))\n",
    "finbert_tone_by_firm.head()"
   ]
  },
  {
   "cell_type": "code",
   "execution_count": 6,
   "metadata": {},
   "outputs": [
    {
     "output_type": "execute_result",
     "data": {
      "text/plain": [
       "        gvkey ticker event_date  num_words  num_sentences   lm_tone  \\\n",
       "0        1013   ADCT 2004-02-18       3882            217  0.105882   \n",
       "1        1013   ADCT 2004-05-19       3720            195  0.159420   \n",
       "2        1013   ADCT 2004-08-25       3424            145 -0.176471   \n",
       "3        1013   ADCT 2004-12-14       3583            168 -0.012346   \n",
       "4        1013   ADCT 2005-02-28       4503            232  0.115789   \n",
       "...       ...    ...        ...        ...            ...       ...   \n",
       "26232  316056   ALLE 2019-10-24       2329            134  0.629630   \n",
       "26233  316056   ALLE 2020-02-18       2243            127  0.178571   \n",
       "26234  316056   ALLE 2020-04-23       5007            280  0.204969   \n",
       "26235  316056   ALLE 2020-07-23       4036            217  0.333333   \n",
       "26236  316056   ALLE 2020-10-22       3757            208  0.428571   \n",
       "\n",
       "       lm_tone_norm  finbert_tone  finbert_tone_norm quarter  year  \n",
       "0         -0.187908      0.185185          -0.433520  2004Q1  2004  \n",
       "1          0.032320      0.500000           0.723564  2004Q2  2004  \n",
       "2         -1.349363     -0.100000          -1.481702  2004Q3  2004  \n",
       "3         -0.674237      0.450000           0.539792  2004Q4  2004  \n",
       "4         -0.147155      0.194030          -0.401012  2005Q1  2005  \n",
       "...             ...           ...                ...     ...   ...  \n",
       "26232      1.966520      0.593750           1.068137  2019Q4  2019  \n",
       "26233      0.111098      0.432836           0.476706  2020Q1  2020  \n",
       "26234      0.219684      0.344828           0.153236  2020Q2  2020  \n",
       "26235      0.747709      0.621053           1.168486  2020Q3  2020  \n",
       "26236      1.139470      0.411765           0.399260  2020Q4  2020  \n",
       "\n",
       "[26237 rows x 11 columns]"
      ],
      "text/html": "<div>\n<style scoped>\n    .dataframe tbody tr th:only-of-type {\n        vertical-align: middle;\n    }\n\n    .dataframe tbody tr th {\n        vertical-align: top;\n    }\n\n    .dataframe thead th {\n        text-align: right;\n    }\n</style>\n<table border=\"1\" class=\"dataframe\">\n  <thead>\n    <tr style=\"text-align: right;\">\n      <th></th>\n      <th>gvkey</th>\n      <th>ticker</th>\n      <th>event_date</th>\n      <th>num_words</th>\n      <th>num_sentences</th>\n      <th>lm_tone</th>\n      <th>lm_tone_norm</th>\n      <th>finbert_tone</th>\n      <th>finbert_tone_norm</th>\n      <th>quarter</th>\n      <th>year</th>\n    </tr>\n  </thead>\n  <tbody>\n    <tr>\n      <th>0</th>\n      <td>1013</td>\n      <td>ADCT</td>\n      <td>2004-02-18</td>\n      <td>3882</td>\n      <td>217</td>\n      <td>0.105882</td>\n      <td>-0.187908</td>\n      <td>0.185185</td>\n      <td>-0.433520</td>\n      <td>2004Q1</td>\n      <td>2004</td>\n    </tr>\n    <tr>\n      <th>1</th>\n      <td>1013</td>\n      <td>ADCT</td>\n      <td>2004-05-19</td>\n      <td>3720</td>\n      <td>195</td>\n      <td>0.159420</td>\n      <td>0.032320</td>\n      <td>0.500000</td>\n      <td>0.723564</td>\n      <td>2004Q2</td>\n      <td>2004</td>\n    </tr>\n    <tr>\n      <th>2</th>\n      <td>1013</td>\n      <td>ADCT</td>\n      <td>2004-08-25</td>\n      <td>3424</td>\n      <td>145</td>\n      <td>-0.176471</td>\n      <td>-1.349363</td>\n      <td>-0.100000</td>\n      <td>-1.481702</td>\n      <td>2004Q3</td>\n      <td>2004</td>\n    </tr>\n    <tr>\n      <th>3</th>\n      <td>1013</td>\n      <td>ADCT</td>\n      <td>2004-12-14</td>\n      <td>3583</td>\n      <td>168</td>\n      <td>-0.012346</td>\n      <td>-0.674237</td>\n      <td>0.450000</td>\n      <td>0.539792</td>\n      <td>2004Q4</td>\n      <td>2004</td>\n    </tr>\n    <tr>\n      <th>4</th>\n      <td>1013</td>\n      <td>ADCT</td>\n      <td>2005-02-28</td>\n      <td>4503</td>\n      <td>232</td>\n      <td>0.115789</td>\n      <td>-0.147155</td>\n      <td>0.194030</td>\n      <td>-0.401012</td>\n      <td>2005Q1</td>\n      <td>2005</td>\n    </tr>\n    <tr>\n      <th>...</th>\n      <td>...</td>\n      <td>...</td>\n      <td>...</td>\n      <td>...</td>\n      <td>...</td>\n      <td>...</td>\n      <td>...</td>\n      <td>...</td>\n      <td>...</td>\n      <td>...</td>\n      <td>...</td>\n    </tr>\n    <tr>\n      <th>26232</th>\n      <td>316056</td>\n      <td>ALLE</td>\n      <td>2019-10-24</td>\n      <td>2329</td>\n      <td>134</td>\n      <td>0.629630</td>\n      <td>1.966520</td>\n      <td>0.593750</td>\n      <td>1.068137</td>\n      <td>2019Q4</td>\n      <td>2019</td>\n    </tr>\n    <tr>\n      <th>26233</th>\n      <td>316056</td>\n      <td>ALLE</td>\n      <td>2020-02-18</td>\n      <td>2243</td>\n      <td>127</td>\n      <td>0.178571</td>\n      <td>0.111098</td>\n      <td>0.432836</td>\n      <td>0.476706</td>\n      <td>2020Q1</td>\n      <td>2020</td>\n    </tr>\n    <tr>\n      <th>26234</th>\n      <td>316056</td>\n      <td>ALLE</td>\n      <td>2020-04-23</td>\n      <td>5007</td>\n      <td>280</td>\n      <td>0.204969</td>\n      <td>0.219684</td>\n      <td>0.344828</td>\n      <td>0.153236</td>\n      <td>2020Q2</td>\n      <td>2020</td>\n    </tr>\n    <tr>\n      <th>26235</th>\n      <td>316056</td>\n      <td>ALLE</td>\n      <td>2020-07-23</td>\n      <td>4036</td>\n      <td>217</td>\n      <td>0.333333</td>\n      <td>0.747709</td>\n      <td>0.621053</td>\n      <td>1.168486</td>\n      <td>2020Q3</td>\n      <td>2020</td>\n    </tr>\n    <tr>\n      <th>26236</th>\n      <td>316056</td>\n      <td>ALLE</td>\n      <td>2020-10-22</td>\n      <td>3757</td>\n      <td>208</td>\n      <td>0.428571</td>\n      <td>1.139470</td>\n      <td>0.411765</td>\n      <td>0.399260</td>\n      <td>2020Q4</td>\n      <td>2020</td>\n    </tr>\n  </tbody>\n</table>\n<p>26237 rows × 11 columns</p>\n</div>"
     },
     "metadata": {},
     "execution_count": 6
    }
   ],
   "source": [
    "tone_by_firm = (pd.merge(lm_tone_by_firm, finbert_tone_by_firm, how='outer', validate='1:1')\n",
    "                .assign(year=lambda x: x['event_date'].dt.year,\n",
    "                        quarter=lambda x: x['event_date'].dt.to_period('Q'))\n",
    "                .filter(['gvkey', 'ticker', 'event_date', 'num_words', 'num_sentences',\n",
    "                         'lm_tone', 'lm_tone_norm', 'finbert_tone', 'finbert_tone_norm',\n",
    "                         'quarter', 'year']))\n",
    "tone_by_firm"
   ]
  },
  {
   "cell_type": "code",
   "execution_count": 7,
   "metadata": {},
   "outputs": [],
   "source": [
    "# Save\n",
    "tone_by_firm.to_feather(os.path.join(pipeline, 'out', 'tone_by_firm.feather'))"
   ]
  },
  {
   "cell_type": "markdown",
   "metadata": {},
   "source": [
    "## Tone by Role"
   ]
  },
  {
   "cell_type": "code",
   "execution_count": 8,
   "metadata": {},
   "outputs": [
    {
     "output_type": "execute_result",
     "data": {
      "text/plain": [
       "   gvkey ticker event_date speaker_role  num_words  num_sentences  \\\n",
       "0   1013   ADCT 2004-02-18      Analyst       1511             87   \n",
       "1   1013   ADCT 2004-02-18   Management       2371            130   \n",
       "2   1013   ADCT 2004-05-19      Analyst       1306             70   \n",
       "3   1013   ADCT 2004-05-19   Management       2414            125   \n",
       "4   1013   ADCT 2004-08-25      Analyst       1248             60   \n",
       "\n",
       "   num_speakers  lm_positive  lm_negative   lm_tone  lm_tone_norm  \n",
       "0            12           13           21 -0.235294     -0.877963  \n",
       "1             2           34           17  0.333333      0.774359  \n",
       "2             7            7           14 -0.333333     -1.162846  \n",
       "3             2           33           15  0.375000      0.895435  \n",
       "4             8            6           24 -0.600000     -1.937729  "
      ],
      "text/html": "<div>\n<style scoped>\n    .dataframe tbody tr th:only-of-type {\n        vertical-align: middle;\n    }\n\n    .dataframe tbody tr th {\n        vertical-align: top;\n    }\n\n    .dataframe thead th {\n        text-align: right;\n    }\n</style>\n<table border=\"1\" class=\"dataframe\">\n  <thead>\n    <tr style=\"text-align: right;\">\n      <th></th>\n      <th>gvkey</th>\n      <th>ticker</th>\n      <th>event_date</th>\n      <th>speaker_role</th>\n      <th>num_words</th>\n      <th>num_sentences</th>\n      <th>num_speakers</th>\n      <th>lm_positive</th>\n      <th>lm_negative</th>\n      <th>lm_tone</th>\n      <th>lm_tone_norm</th>\n    </tr>\n  </thead>\n  <tbody>\n    <tr>\n      <th>0</th>\n      <td>1013</td>\n      <td>ADCT</td>\n      <td>2004-02-18</td>\n      <td>Analyst</td>\n      <td>1511</td>\n      <td>87</td>\n      <td>12</td>\n      <td>13</td>\n      <td>21</td>\n      <td>-0.235294</td>\n      <td>-0.877963</td>\n    </tr>\n    <tr>\n      <th>1</th>\n      <td>1013</td>\n      <td>ADCT</td>\n      <td>2004-02-18</td>\n      <td>Management</td>\n      <td>2371</td>\n      <td>130</td>\n      <td>2</td>\n      <td>34</td>\n      <td>17</td>\n      <td>0.333333</td>\n      <td>0.774359</td>\n    </tr>\n    <tr>\n      <th>2</th>\n      <td>1013</td>\n      <td>ADCT</td>\n      <td>2004-05-19</td>\n      <td>Analyst</td>\n      <td>1306</td>\n      <td>70</td>\n      <td>7</td>\n      <td>7</td>\n      <td>14</td>\n      <td>-0.333333</td>\n      <td>-1.162846</td>\n    </tr>\n    <tr>\n      <th>3</th>\n      <td>1013</td>\n      <td>ADCT</td>\n      <td>2004-05-19</td>\n      <td>Management</td>\n      <td>2414</td>\n      <td>125</td>\n      <td>2</td>\n      <td>33</td>\n      <td>15</td>\n      <td>0.375000</td>\n      <td>0.895435</td>\n    </tr>\n    <tr>\n      <th>4</th>\n      <td>1013</td>\n      <td>ADCT</td>\n      <td>2004-08-25</td>\n      <td>Analyst</td>\n      <td>1248</td>\n      <td>60</td>\n      <td>8</td>\n      <td>6</td>\n      <td>24</td>\n      <td>-0.600000</td>\n      <td>-1.937729</td>\n    </tr>\n  </tbody>\n</table>\n</div>"
     },
     "metadata": {},
     "execution_count": 8
    }
   ],
   "source": [
    "lm_tone_by_role = pd.read_feather(os.path.join('2_pipeline', '04-01_tone_lm', 'out', 'lm_tone_by_role.feather'))\n",
    "lm_tone_by_role.head()"
   ]
  },
  {
   "cell_type": "code",
   "execution_count": 9,
   "metadata": {},
   "outputs": [
    {
     "output_type": "execute_result",
     "data": {
      "text/plain": [
       "   gvkey ticker event_date speaker_role  negative  neutral  positive  \\\n",
       "0   1013   ADCT 2004-02-18      Analyst         7       72         8   \n",
       "1   1013   ADCT 2004-02-18   Management        15       91        24   \n",
       "2   1013   ADCT 2004-05-19      Analyst         4       63         3   \n",
       "3   1013   ADCT 2004-05-19   Management         7       88        30   \n",
       "4   1013   ADCT 2004-08-25      Analyst        11       47         2   \n",
       "\n",
       "   finbert_tone  finbert_tone_norm  \n",
       "0      0.066667          -0.202309  \n",
       "1      0.230769           0.180165  \n",
       "2     -0.142857          -0.690647  \n",
       "3      0.621622           1.091126  \n",
       "4     -0.692308          -1.971253  "
      ],
      "text/html": "<div>\n<style scoped>\n    .dataframe tbody tr th:only-of-type {\n        vertical-align: middle;\n    }\n\n    .dataframe tbody tr th {\n        vertical-align: top;\n    }\n\n    .dataframe thead th {\n        text-align: right;\n    }\n</style>\n<table border=\"1\" class=\"dataframe\">\n  <thead>\n    <tr style=\"text-align: right;\">\n      <th></th>\n      <th>gvkey</th>\n      <th>ticker</th>\n      <th>event_date</th>\n      <th>speaker_role</th>\n      <th>negative</th>\n      <th>neutral</th>\n      <th>positive</th>\n      <th>finbert_tone</th>\n      <th>finbert_tone_norm</th>\n    </tr>\n  </thead>\n  <tbody>\n    <tr>\n      <th>0</th>\n      <td>1013</td>\n      <td>ADCT</td>\n      <td>2004-02-18</td>\n      <td>Analyst</td>\n      <td>7</td>\n      <td>72</td>\n      <td>8</td>\n      <td>0.066667</td>\n      <td>-0.202309</td>\n    </tr>\n    <tr>\n      <th>1</th>\n      <td>1013</td>\n      <td>ADCT</td>\n      <td>2004-02-18</td>\n      <td>Management</td>\n      <td>15</td>\n      <td>91</td>\n      <td>24</td>\n      <td>0.230769</td>\n      <td>0.180165</td>\n    </tr>\n    <tr>\n      <th>2</th>\n      <td>1013</td>\n      <td>ADCT</td>\n      <td>2004-05-19</td>\n      <td>Analyst</td>\n      <td>4</td>\n      <td>63</td>\n      <td>3</td>\n      <td>-0.142857</td>\n      <td>-0.690647</td>\n    </tr>\n    <tr>\n      <th>3</th>\n      <td>1013</td>\n      <td>ADCT</td>\n      <td>2004-05-19</td>\n      <td>Management</td>\n      <td>7</td>\n      <td>88</td>\n      <td>30</td>\n      <td>0.621622</td>\n      <td>1.091126</td>\n    </tr>\n    <tr>\n      <th>4</th>\n      <td>1013</td>\n      <td>ADCT</td>\n      <td>2004-08-25</td>\n      <td>Analyst</td>\n      <td>11</td>\n      <td>47</td>\n      <td>2</td>\n      <td>-0.692308</td>\n      <td>-1.971253</td>\n    </tr>\n  </tbody>\n</table>\n</div>"
     },
     "metadata": {},
     "execution_count": 9
    }
   ],
   "source": [
    "finbert_tone_by_role = pd.read_feather(os.path.join('2_pipeline', '04-02_tone_finbert', 'out', 'finbert_tone_by_role.feather'))\n",
    "finbert_tone_by_role.head()"
   ]
  },
  {
   "cell_type": "code",
   "execution_count": 10,
   "metadata": {},
   "outputs": [
    {
     "output_type": "execute_result",
     "data": {
      "text/plain": [
       "        gvkey ticker event_date speaker_role  num_words  num_sentences  \\\n",
       "0        1013   ADCT 2004-02-18      Analyst       1511             87   \n",
       "1        1013   ADCT 2004-02-18   Management       2371            130   \n",
       "2        1013   ADCT 2004-05-19      Analyst       1306             70   \n",
       "3        1013   ADCT 2004-05-19   Management       2414            125   \n",
       "4        1013   ADCT 2004-08-25      Analyst       1248             60   \n",
       "...       ...    ...        ...          ...        ...            ...   \n",
       "52139  316056   ALLE 2020-04-23   Management       3934            229   \n",
       "52140  316056   ALLE 2020-07-23      Analyst        811             41   \n",
       "52141  316056   ALLE 2020-07-23   Management       3225            176   \n",
       "52142  316056   ALLE 2020-10-22      Analyst       1130             67   \n",
       "52143  316056   ALLE 2020-10-22   Management       2627            141   \n",
       "\n",
       "        lm_tone  lm_tone_norm  finbert_tone  finbert_tone_norm quarter  year  \n",
       "0     -0.235294     -0.877963      0.066667          -0.202309  2004Q1  2004  \n",
       "1      0.333333      0.774359      0.230769           0.180165  2004Q1  2004  \n",
       "2     -0.333333     -1.162846     -0.142857          -0.690647  2004Q2  2004  \n",
       "3      0.375000      0.895435      0.621622           1.091126  2004Q2  2004  \n",
       "4     -0.600000     -1.937729     -0.692308          -1.971253  2004Q3  2004  \n",
       "...         ...           ...           ...                ...     ...   ...  \n",
       "52139  0.267176      0.582118      0.372549           0.510612  2020Q2  2020  \n",
       "52140 -0.047619     -0.332615      0.333333           0.419212  2020Q3  2020  \n",
       "52141  0.403509      0.978276      0.651163           1.159978  2020Q3  2020  \n",
       "52142  0.263158      0.570443      0.090909          -0.145807  2020Q4  2020  \n",
       "52143  0.465116      1.157295      0.500000           0.807662  2020Q4  2020  \n",
       "\n",
       "[52144 rows x 12 columns]"
      ],
      "text/html": "<div>\n<style scoped>\n    .dataframe tbody tr th:only-of-type {\n        vertical-align: middle;\n    }\n\n    .dataframe tbody tr th {\n        vertical-align: top;\n    }\n\n    .dataframe thead th {\n        text-align: right;\n    }\n</style>\n<table border=\"1\" class=\"dataframe\">\n  <thead>\n    <tr style=\"text-align: right;\">\n      <th></th>\n      <th>gvkey</th>\n      <th>ticker</th>\n      <th>event_date</th>\n      <th>speaker_role</th>\n      <th>num_words</th>\n      <th>num_sentences</th>\n      <th>lm_tone</th>\n      <th>lm_tone_norm</th>\n      <th>finbert_tone</th>\n      <th>finbert_tone_norm</th>\n      <th>quarter</th>\n      <th>year</th>\n    </tr>\n  </thead>\n  <tbody>\n    <tr>\n      <th>0</th>\n      <td>1013</td>\n      <td>ADCT</td>\n      <td>2004-02-18</td>\n      <td>Analyst</td>\n      <td>1511</td>\n      <td>87</td>\n      <td>-0.235294</td>\n      <td>-0.877963</td>\n      <td>0.066667</td>\n      <td>-0.202309</td>\n      <td>2004Q1</td>\n      <td>2004</td>\n    </tr>\n    <tr>\n      <th>1</th>\n      <td>1013</td>\n      <td>ADCT</td>\n      <td>2004-02-18</td>\n      <td>Management</td>\n      <td>2371</td>\n      <td>130</td>\n      <td>0.333333</td>\n      <td>0.774359</td>\n      <td>0.230769</td>\n      <td>0.180165</td>\n      <td>2004Q1</td>\n      <td>2004</td>\n    </tr>\n    <tr>\n      <th>2</th>\n      <td>1013</td>\n      <td>ADCT</td>\n      <td>2004-05-19</td>\n      <td>Analyst</td>\n      <td>1306</td>\n      <td>70</td>\n      <td>-0.333333</td>\n      <td>-1.162846</td>\n      <td>-0.142857</td>\n      <td>-0.690647</td>\n      <td>2004Q2</td>\n      <td>2004</td>\n    </tr>\n    <tr>\n      <th>3</th>\n      <td>1013</td>\n      <td>ADCT</td>\n      <td>2004-05-19</td>\n      <td>Management</td>\n      <td>2414</td>\n      <td>125</td>\n      <td>0.375000</td>\n      <td>0.895435</td>\n      <td>0.621622</td>\n      <td>1.091126</td>\n      <td>2004Q2</td>\n      <td>2004</td>\n    </tr>\n    <tr>\n      <th>4</th>\n      <td>1013</td>\n      <td>ADCT</td>\n      <td>2004-08-25</td>\n      <td>Analyst</td>\n      <td>1248</td>\n      <td>60</td>\n      <td>-0.600000</td>\n      <td>-1.937729</td>\n      <td>-0.692308</td>\n      <td>-1.971253</td>\n      <td>2004Q3</td>\n      <td>2004</td>\n    </tr>\n    <tr>\n      <th>...</th>\n      <td>...</td>\n      <td>...</td>\n      <td>...</td>\n      <td>...</td>\n      <td>...</td>\n      <td>...</td>\n      <td>...</td>\n      <td>...</td>\n      <td>...</td>\n      <td>...</td>\n      <td>...</td>\n      <td>...</td>\n    </tr>\n    <tr>\n      <th>52139</th>\n      <td>316056</td>\n      <td>ALLE</td>\n      <td>2020-04-23</td>\n      <td>Management</td>\n      <td>3934</td>\n      <td>229</td>\n      <td>0.267176</td>\n      <td>0.582118</td>\n      <td>0.372549</td>\n      <td>0.510612</td>\n      <td>2020Q2</td>\n      <td>2020</td>\n    </tr>\n    <tr>\n      <th>52140</th>\n      <td>316056</td>\n      <td>ALLE</td>\n      <td>2020-07-23</td>\n      <td>Analyst</td>\n      <td>811</td>\n      <td>41</td>\n      <td>-0.047619</td>\n      <td>-0.332615</td>\n      <td>0.333333</td>\n      <td>0.419212</td>\n      <td>2020Q3</td>\n      <td>2020</td>\n    </tr>\n    <tr>\n      <th>52141</th>\n      <td>316056</td>\n      <td>ALLE</td>\n      <td>2020-07-23</td>\n      <td>Management</td>\n      <td>3225</td>\n      <td>176</td>\n      <td>0.403509</td>\n      <td>0.978276</td>\n      <td>0.651163</td>\n      <td>1.159978</td>\n      <td>2020Q3</td>\n      <td>2020</td>\n    </tr>\n    <tr>\n      <th>52142</th>\n      <td>316056</td>\n      <td>ALLE</td>\n      <td>2020-10-22</td>\n      <td>Analyst</td>\n      <td>1130</td>\n      <td>67</td>\n      <td>0.263158</td>\n      <td>0.570443</td>\n      <td>0.090909</td>\n      <td>-0.145807</td>\n      <td>2020Q4</td>\n      <td>2020</td>\n    </tr>\n    <tr>\n      <th>52143</th>\n      <td>316056</td>\n      <td>ALLE</td>\n      <td>2020-10-22</td>\n      <td>Management</td>\n      <td>2627</td>\n      <td>141</td>\n      <td>0.465116</td>\n      <td>1.157295</td>\n      <td>0.500000</td>\n      <td>0.807662</td>\n      <td>2020Q4</td>\n      <td>2020</td>\n    </tr>\n  </tbody>\n</table>\n<p>52144 rows × 12 columns</p>\n</div>"
     },
     "metadata": {},
     "execution_count": 10
    }
   ],
   "source": [
    "tone_by_role = (pd.merge(lm_tone_by_role, finbert_tone_by_role, how='outer', validate='1:1')\n",
    "                   .assign(year=lambda x: x['event_date'].dt.year,\n",
    "                           quarter=lambda x: x['event_date'].dt.to_period('Q'))\n",
    "                   .filter(['gvkey', 'ticker', 'event_date', 'speaker_role', 'num_words',\n",
    "                            'num_sentences', 'lm_tone', 'lm_tone_norm', 'finbert_tone',\n",
    "                            'finbert_tone_norm', 'quarter', 'year']))\n",
    "tone_by_role"
   ]
  },
  {
   "cell_type": "code",
   "execution_count": 11,
   "metadata": {},
   "outputs": [],
   "source": [
    "# Save\n",
    "tone_by_role.to_feather(os.path.join(pipeline, 'out', 'tone_by_role.feather'))"
   ]
  },
  {
   "cell_type": "markdown",
   "metadata": {},
   "source": [
    "## Tone by Speaker"
   ]
  },
  {
   "cell_type": "code",
   "execution_count": 12,
   "metadata": {},
   "outputs": [
    {
     "output_type": "execute_result",
     "data": {
      "text/plain": [
       "   gvkey ticker event_date speaker_role     speaker_name         speaker_firm  \\\n",
       "0   1013   ADCT 2004-02-18      Analyst           BUCK E       JANCO PARTNERS   \n",
       "1   1013   ADCT 2004-02-18      Analyst         CHURCH R  WACHOVIA SECURITIES   \n",
       "2   1013   ADCT 2004-02-18      Analyst        COLEMAN S       MORGAN STANLEY   \n",
       "3   1013   ADCT 2004-02-18      Analyst  COOPERSCHMIDT M      LEHMAN BROTHERS   \n",
       "4   1013   ADCT 2004-02-18      Analyst          GOULD M                 CSFB   \n",
       "\n",
       "   num_words  num_sentences  lm_positive  lm_negative   lm_tone  lm_tone_norm  \n",
       "0        117              6            1            0  1.000000      1.696411  \n",
       "1        111             10            2            1  0.333333      0.649002  \n",
       "2         78              8            0            0  0.000000      0.125298  \n",
       "3        135             11            1            2 -0.333333     -0.398407  \n",
       "4        159              9            3            2  0.200000      0.439520  "
      ],
      "text/html": "<div>\n<style scoped>\n    .dataframe tbody tr th:only-of-type {\n        vertical-align: middle;\n    }\n\n    .dataframe tbody tr th {\n        vertical-align: top;\n    }\n\n    .dataframe thead th {\n        text-align: right;\n    }\n</style>\n<table border=\"1\" class=\"dataframe\">\n  <thead>\n    <tr style=\"text-align: right;\">\n      <th></th>\n      <th>gvkey</th>\n      <th>ticker</th>\n      <th>event_date</th>\n      <th>speaker_role</th>\n      <th>speaker_name</th>\n      <th>speaker_firm</th>\n      <th>num_words</th>\n      <th>num_sentences</th>\n      <th>lm_positive</th>\n      <th>lm_negative</th>\n      <th>lm_tone</th>\n      <th>lm_tone_norm</th>\n    </tr>\n  </thead>\n  <tbody>\n    <tr>\n      <th>0</th>\n      <td>1013</td>\n      <td>ADCT</td>\n      <td>2004-02-18</td>\n      <td>Analyst</td>\n      <td>BUCK E</td>\n      <td>JANCO PARTNERS</td>\n      <td>117</td>\n      <td>6</td>\n      <td>1</td>\n      <td>0</td>\n      <td>1.000000</td>\n      <td>1.696411</td>\n    </tr>\n    <tr>\n      <th>1</th>\n      <td>1013</td>\n      <td>ADCT</td>\n      <td>2004-02-18</td>\n      <td>Analyst</td>\n      <td>CHURCH R</td>\n      <td>WACHOVIA SECURITIES</td>\n      <td>111</td>\n      <td>10</td>\n      <td>2</td>\n      <td>1</td>\n      <td>0.333333</td>\n      <td>0.649002</td>\n    </tr>\n    <tr>\n      <th>2</th>\n      <td>1013</td>\n      <td>ADCT</td>\n      <td>2004-02-18</td>\n      <td>Analyst</td>\n      <td>COLEMAN S</td>\n      <td>MORGAN STANLEY</td>\n      <td>78</td>\n      <td>8</td>\n      <td>0</td>\n      <td>0</td>\n      <td>0.000000</td>\n      <td>0.125298</td>\n    </tr>\n    <tr>\n      <th>3</th>\n      <td>1013</td>\n      <td>ADCT</td>\n      <td>2004-02-18</td>\n      <td>Analyst</td>\n      <td>COOPERSCHMIDT M</td>\n      <td>LEHMAN BROTHERS</td>\n      <td>135</td>\n      <td>11</td>\n      <td>1</td>\n      <td>2</td>\n      <td>-0.333333</td>\n      <td>-0.398407</td>\n    </tr>\n    <tr>\n      <th>4</th>\n      <td>1013</td>\n      <td>ADCT</td>\n      <td>2004-02-18</td>\n      <td>Analyst</td>\n      <td>GOULD M</td>\n      <td>CSFB</td>\n      <td>159</td>\n      <td>9</td>\n      <td>3</td>\n      <td>2</td>\n      <td>0.200000</td>\n      <td>0.439520</td>\n    </tr>\n  </tbody>\n</table>\n</div>"
     },
     "metadata": {},
     "execution_count": 12
    }
   ],
   "source": [
    "lm_tone_by_speaker = pd.read_feather(os.path.join('2_pipeline', '04-01_tone_lm', 'out', 'lm_tone_by_speaker.feather'))\n",
    "lm_tone_by_speaker.head()"
   ]
  },
  {
   "cell_type": "code",
   "execution_count": 13,
   "metadata": {},
   "outputs": [
    {
     "output_type": "execute_result",
     "data": {
      "text/plain": [
       "   gvkey ticker event_date speaker_role     speaker_name         speaker_firm  \\\n",
       "0   1013   ADCT 2004-02-18      Analyst           BUCK E       JANCO PARTNERS   \n",
       "1   1013   ADCT 2004-02-18      Analyst         CHURCH R  WACHOVIA SECURITIES   \n",
       "2   1013   ADCT 2004-02-18      Analyst        COLEMAN S       MORGAN STANLEY   \n",
       "3   1013   ADCT 2004-02-18      Analyst  COOPERSCHMIDT M      LEHMAN BROTHERS   \n",
       "4   1013   ADCT 2004-02-18      Analyst          GOULD M                 CSFB   \n",
       "\n",
       "   negative  neutral  positive  finbert_tone  finbert_tone_norm  \n",
       "0         0        6         0           0.0          -0.024677  \n",
       "1         1        8         1           0.0          -0.024677  \n",
       "2         0        7         1           1.0           1.458168  \n",
       "3         1        9         1           0.0          -0.024677  \n",
       "4         0        7         2           1.0           1.458168  "
      ],
      "text/html": "<div>\n<style scoped>\n    .dataframe tbody tr th:only-of-type {\n        vertical-align: middle;\n    }\n\n    .dataframe tbody tr th {\n        vertical-align: top;\n    }\n\n    .dataframe thead th {\n        text-align: right;\n    }\n</style>\n<table border=\"1\" class=\"dataframe\">\n  <thead>\n    <tr style=\"text-align: right;\">\n      <th></th>\n      <th>gvkey</th>\n      <th>ticker</th>\n      <th>event_date</th>\n      <th>speaker_role</th>\n      <th>speaker_name</th>\n      <th>speaker_firm</th>\n      <th>negative</th>\n      <th>neutral</th>\n      <th>positive</th>\n      <th>finbert_tone</th>\n      <th>finbert_tone_norm</th>\n    </tr>\n  </thead>\n  <tbody>\n    <tr>\n      <th>0</th>\n      <td>1013</td>\n      <td>ADCT</td>\n      <td>2004-02-18</td>\n      <td>Analyst</td>\n      <td>BUCK E</td>\n      <td>JANCO PARTNERS</td>\n      <td>0</td>\n      <td>6</td>\n      <td>0</td>\n      <td>0.0</td>\n      <td>-0.024677</td>\n    </tr>\n    <tr>\n      <th>1</th>\n      <td>1013</td>\n      <td>ADCT</td>\n      <td>2004-02-18</td>\n      <td>Analyst</td>\n      <td>CHURCH R</td>\n      <td>WACHOVIA SECURITIES</td>\n      <td>1</td>\n      <td>8</td>\n      <td>1</td>\n      <td>0.0</td>\n      <td>-0.024677</td>\n    </tr>\n    <tr>\n      <th>2</th>\n      <td>1013</td>\n      <td>ADCT</td>\n      <td>2004-02-18</td>\n      <td>Analyst</td>\n      <td>COLEMAN S</td>\n      <td>MORGAN STANLEY</td>\n      <td>0</td>\n      <td>7</td>\n      <td>1</td>\n      <td>1.0</td>\n      <td>1.458168</td>\n    </tr>\n    <tr>\n      <th>3</th>\n      <td>1013</td>\n      <td>ADCT</td>\n      <td>2004-02-18</td>\n      <td>Analyst</td>\n      <td>COOPERSCHMIDT M</td>\n      <td>LEHMAN BROTHERS</td>\n      <td>1</td>\n      <td>9</td>\n      <td>1</td>\n      <td>0.0</td>\n      <td>-0.024677</td>\n    </tr>\n    <tr>\n      <th>4</th>\n      <td>1013</td>\n      <td>ADCT</td>\n      <td>2004-02-18</td>\n      <td>Analyst</td>\n      <td>GOULD M</td>\n      <td>CSFB</td>\n      <td>0</td>\n      <td>7</td>\n      <td>2</td>\n      <td>1.0</td>\n      <td>1.458168</td>\n    </tr>\n  </tbody>\n</table>\n</div>"
     },
     "metadata": {},
     "execution_count": 13
    }
   ],
   "source": [
    "finbert_tone_by_speaker = pd.read_feather(os.path.join('2_pipeline', '04-02_tone_finbert', 'out', 'finbert_tone_by_speaker.feather'))\n",
    "finbert_tone_by_speaker.head()"
   ]
  },
  {
   "cell_type": "code",
   "execution_count": 14,
   "metadata": {},
   "outputs": [
    {
     "output_type": "execute_result",
     "data": {
      "text/plain": [
       "         gvkey ticker event_date speaker_role     speaker_name  \\\n",
       "0         1013   ADCT 2004-02-18      Analyst           BUCK E   \n",
       "1         1013   ADCT 2004-02-18      Analyst         CHURCH R   \n",
       "2         1013   ADCT 2004-02-18      Analyst        COLEMAN S   \n",
       "3         1013   ADCT 2004-02-18      Analyst  COOPERSCHMIDT M   \n",
       "4         1013   ADCT 2004-02-18      Analyst          GOULD M   \n",
       "...        ...    ...        ...          ...              ...   \n",
       "308182  316056   ALLE 2020-10-22      Analyst         SNYDER C   \n",
       "308183  316056   ALLE 2020-10-22      Analyst           WEST C   \n",
       "308184  316056   ALLE 2020-10-22      Analyst           WOJS T   \n",
       "308185  316056   ALLE 2020-10-22   Management       PETRATIS D   \n",
       "308186  316056   ALLE 2020-10-22   Management        SHANNON P   \n",
       "\n",
       "                              speaker_firm  num_words  num_sentences  \\\n",
       "0                           JANCO PARTNERS        117              6   \n",
       "1                      WACHOVIA SECURITIES        111             10   \n",
       "2                           MORGAN STANLEY         78              8   \n",
       "3                          LEHMAN BROTHERS        135             11   \n",
       "4                                     CSFB        159              9   \n",
       "...                                    ...        ...            ...   \n",
       "308182                 UBS INVESTMENT BANK        114              8   \n",
       "308183                LONGBOW RESEARCH LLC         83              6   \n",
       "308184  ROBERT W. BAIRD & CO. INCORPORATED         89              6   \n",
       "308185                        ALLEGION PLC       2047            115   \n",
       "308186                        ALLEGION PLC        580             26   \n",
       "\n",
       "         lm_tone  lm_tone_norm  finbert_tone  finbert_tone_norm quarter  year  \n",
       "0       1.000000      1.696411      0.000000          -0.024677  2004Q1  2004  \n",
       "1       0.333333      0.649002      0.000000          -0.024677  2004Q1  2004  \n",
       "2       0.000000      0.125298      1.000000           1.458168  2004Q1  2004  \n",
       "3      -0.333333     -0.398407      0.000000          -0.024677  2004Q1  2004  \n",
       "4       0.200000      0.439520      1.000000           1.458168  2004Q1  2004  \n",
       "...          ...           ...           ...                ...     ...   ...  \n",
       "308182 -1.000000     -1.445816     -1.000000          -1.507521  2020Q4  2020  \n",
       "308183  1.000000      1.696411     -0.333333          -0.518958  2020Q4  2020  \n",
       "308184 -1.000000     -1.445816      1.000000           1.458168  2020Q4  2020  \n",
       "308185  0.500000      0.910855      0.522388           0.749943  2020Q4  2020  \n",
       "308186  0.285714      0.574187      0.384615           0.545648  2020Q4  2020  \n",
       "\n",
       "[308187 rows x 14 columns]"
      ],
      "text/html": "<div>\n<style scoped>\n    .dataframe tbody tr th:only-of-type {\n        vertical-align: middle;\n    }\n\n    .dataframe tbody tr th {\n        vertical-align: top;\n    }\n\n    .dataframe thead th {\n        text-align: right;\n    }\n</style>\n<table border=\"1\" class=\"dataframe\">\n  <thead>\n    <tr style=\"text-align: right;\">\n      <th></th>\n      <th>gvkey</th>\n      <th>ticker</th>\n      <th>event_date</th>\n      <th>speaker_role</th>\n      <th>speaker_name</th>\n      <th>speaker_firm</th>\n      <th>num_words</th>\n      <th>num_sentences</th>\n      <th>lm_tone</th>\n      <th>lm_tone_norm</th>\n      <th>finbert_tone</th>\n      <th>finbert_tone_norm</th>\n      <th>quarter</th>\n      <th>year</th>\n    </tr>\n  </thead>\n  <tbody>\n    <tr>\n      <th>0</th>\n      <td>1013</td>\n      <td>ADCT</td>\n      <td>2004-02-18</td>\n      <td>Analyst</td>\n      <td>BUCK E</td>\n      <td>JANCO PARTNERS</td>\n      <td>117</td>\n      <td>6</td>\n      <td>1.000000</td>\n      <td>1.696411</td>\n      <td>0.000000</td>\n      <td>-0.024677</td>\n      <td>2004Q1</td>\n      <td>2004</td>\n    </tr>\n    <tr>\n      <th>1</th>\n      <td>1013</td>\n      <td>ADCT</td>\n      <td>2004-02-18</td>\n      <td>Analyst</td>\n      <td>CHURCH R</td>\n      <td>WACHOVIA SECURITIES</td>\n      <td>111</td>\n      <td>10</td>\n      <td>0.333333</td>\n      <td>0.649002</td>\n      <td>0.000000</td>\n      <td>-0.024677</td>\n      <td>2004Q1</td>\n      <td>2004</td>\n    </tr>\n    <tr>\n      <th>2</th>\n      <td>1013</td>\n      <td>ADCT</td>\n      <td>2004-02-18</td>\n      <td>Analyst</td>\n      <td>COLEMAN S</td>\n      <td>MORGAN STANLEY</td>\n      <td>78</td>\n      <td>8</td>\n      <td>0.000000</td>\n      <td>0.125298</td>\n      <td>1.000000</td>\n      <td>1.458168</td>\n      <td>2004Q1</td>\n      <td>2004</td>\n    </tr>\n    <tr>\n      <th>3</th>\n      <td>1013</td>\n      <td>ADCT</td>\n      <td>2004-02-18</td>\n      <td>Analyst</td>\n      <td>COOPERSCHMIDT M</td>\n      <td>LEHMAN BROTHERS</td>\n      <td>135</td>\n      <td>11</td>\n      <td>-0.333333</td>\n      <td>-0.398407</td>\n      <td>0.000000</td>\n      <td>-0.024677</td>\n      <td>2004Q1</td>\n      <td>2004</td>\n    </tr>\n    <tr>\n      <th>4</th>\n      <td>1013</td>\n      <td>ADCT</td>\n      <td>2004-02-18</td>\n      <td>Analyst</td>\n      <td>GOULD M</td>\n      <td>CSFB</td>\n      <td>159</td>\n      <td>9</td>\n      <td>0.200000</td>\n      <td>0.439520</td>\n      <td>1.000000</td>\n      <td>1.458168</td>\n      <td>2004Q1</td>\n      <td>2004</td>\n    </tr>\n    <tr>\n      <th>...</th>\n      <td>...</td>\n      <td>...</td>\n      <td>...</td>\n      <td>...</td>\n      <td>...</td>\n      <td>...</td>\n      <td>...</td>\n      <td>...</td>\n      <td>...</td>\n      <td>...</td>\n      <td>...</td>\n      <td>...</td>\n      <td>...</td>\n      <td>...</td>\n    </tr>\n    <tr>\n      <th>308182</th>\n      <td>316056</td>\n      <td>ALLE</td>\n      <td>2020-10-22</td>\n      <td>Analyst</td>\n      <td>SNYDER C</td>\n      <td>UBS INVESTMENT BANK</td>\n      <td>114</td>\n      <td>8</td>\n      <td>-1.000000</td>\n      <td>-1.445816</td>\n      <td>-1.000000</td>\n      <td>-1.507521</td>\n      <td>2020Q4</td>\n      <td>2020</td>\n    </tr>\n    <tr>\n      <th>308183</th>\n      <td>316056</td>\n      <td>ALLE</td>\n      <td>2020-10-22</td>\n      <td>Analyst</td>\n      <td>WEST C</td>\n      <td>LONGBOW RESEARCH LLC</td>\n      <td>83</td>\n      <td>6</td>\n      <td>1.000000</td>\n      <td>1.696411</td>\n      <td>-0.333333</td>\n      <td>-0.518958</td>\n      <td>2020Q4</td>\n      <td>2020</td>\n    </tr>\n    <tr>\n      <th>308184</th>\n      <td>316056</td>\n      <td>ALLE</td>\n      <td>2020-10-22</td>\n      <td>Analyst</td>\n      <td>WOJS T</td>\n      <td>ROBERT W. BAIRD &amp; CO. INCORPORATED</td>\n      <td>89</td>\n      <td>6</td>\n      <td>-1.000000</td>\n      <td>-1.445816</td>\n      <td>1.000000</td>\n      <td>1.458168</td>\n      <td>2020Q4</td>\n      <td>2020</td>\n    </tr>\n    <tr>\n      <th>308185</th>\n      <td>316056</td>\n      <td>ALLE</td>\n      <td>2020-10-22</td>\n      <td>Management</td>\n      <td>PETRATIS D</td>\n      <td>ALLEGION PLC</td>\n      <td>2047</td>\n      <td>115</td>\n      <td>0.500000</td>\n      <td>0.910855</td>\n      <td>0.522388</td>\n      <td>0.749943</td>\n      <td>2020Q4</td>\n      <td>2020</td>\n    </tr>\n    <tr>\n      <th>308186</th>\n      <td>316056</td>\n      <td>ALLE</td>\n      <td>2020-10-22</td>\n      <td>Management</td>\n      <td>SHANNON P</td>\n      <td>ALLEGION PLC</td>\n      <td>580</td>\n      <td>26</td>\n      <td>0.285714</td>\n      <td>0.574187</td>\n      <td>0.384615</td>\n      <td>0.545648</td>\n      <td>2020Q4</td>\n      <td>2020</td>\n    </tr>\n  </tbody>\n</table>\n<p>308187 rows × 14 columns</p>\n</div>"
     },
     "metadata": {},
     "execution_count": 14
    }
   ],
   "source": [
    "tone_by_speaker = (pd.merge(lm_tone_by_speaker, finbert_tone_by_speaker, how='outer', validate='1:1')\n",
    "                   .assign(year=lambda x: x['event_date'].dt.year,\n",
    "                           quarter=lambda x: x['event_date'].dt.to_period('Q'))\n",
    "                   .filter(['gvkey', 'ticker', 'event_date', 'speaker_role', 'speaker_name',\n",
    "                            'speaker_firm', 'num_words', 'num_sentences', 'lm_tone', 'lm_tone_norm',\n",
    "                            'finbert_tone', 'finbert_tone_norm', 'quarter', 'year']))\n",
    "tone_by_speaker"
   ]
  },
  {
   "cell_type": "code",
   "execution_count": 15,
   "metadata": {},
   "outputs": [],
   "source": [
    "# Save\n",
    "tone_by_speaker.to_feather(os.path.join(pipeline, 'out', 'tone_by_speaker.feather'))"
   ]
  }
 ],
 "metadata": {
  "kernelspec": {
   "name": "python370jvsc74a57bd00fd244f8153bc805f524f29c23b1aa2814d4e93d2f2c2e96a05bc405a61fe891",
   "display_name": "Python 3.7.0 64-bit ('ccs': conda)"
  },
  "language_info": {
   "codemirror_mode": {
    "name": "ipython",
    "version": 3
   },
   "file_extension": ".py",
   "mimetype": "text/x-python",
   "name": "python",
   "nbconvert_exporter": "python",
   "pygments_lexer": "ipython3",
   "version": "3.7.0"
  },
  "orig_nbformat": 2
 },
 "nbformat": 4,
 "nbformat_minor": 2
}