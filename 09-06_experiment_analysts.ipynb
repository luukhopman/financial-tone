{
 "cells": [
  {
   "cell_type": "markdown",
   "metadata": {},
   "source": [
    "# Experiment - Analyst Output"
   ]
  },
  {
   "cell_type": "code",
   "execution_count": 1,
   "metadata": {},
   "outputs": [],
   "source": [
    "NAME = '09-06-experiment_analysts'\n",
    "PROJECT = 'conference-calls-sentiment'\n",
    "PYTHON_VERSION = '3.7.0'"
   ]
  },
  {
   "cell_type": "markdown",
   "metadata": {},
   "source": [
    "### Imports  "
   ]
  },
  {
   "cell_type": "code",
   "execution_count": 2,
   "metadata": {
    "collapsed": true,
    "jupyter": {
     "outputs_hidden": true
    }
   },
   "outputs": [],
   "source": [
    "import os\n",
    "import re\n",
    "import numpy as np\n",
    "import pandas as pd\n",
    "\n",
    "# Regressions\n",
    "from linearmodels import PanelOLS\n",
    "import statsmodels.api as sm\n",
    "\n",
    "# Hide annoying warnings\n",
    "import warnings\n",
    "warnings.filterwarnings('ignore')"
   ]
  },
  {
   "cell_type": "markdown",
   "metadata": {},
   "source": [
    "### Settings"
   ]
  },
  {
   "cell_type": "code",
   "execution_count": 3,
   "metadata": {},
   "outputs": [],
   "source": [
    "workdir = re.sub(\"(?<={})[\\w\\W]*\".format(PROJECT), \"\", os.getcwd())\n",
    "os.chdir(workdir)"
   ]
  },
  {
   "cell_type": "markdown",
   "metadata": {},
   "source": [
    "--- \n",
    "# Main code"
   ]
  },
  {
   "cell_type": "code",
   "execution_count": null,
   "metadata": {},
   "outputs": [],
   "source": [
    "analysts_dataset = pd.read_feather(os.path.join('2_pipeline', '07-02_dataset_construction', 'out', 'analysts_dataset.feather'))\n",
    "analysts_dataset = analysts_dataset.set_index(['gvkey', 'year'])\n",
    "analysts_dataset.head()"
   ]
  },
  {
   "cell_type": "code",
   "execution_count": 5,
   "metadata": {},
   "outputs": [],
   "source": [
    "def ols_model(df, tone, dependent):\n",
    "    dependent = df[dependent]\n",
    "    exog_vars = [tone, 'num_words', 'surprise', 'size', 'roa', 'leverage', 'loss', 'capex']\n",
    "    exog = sm.add_constant(df[exog_vars])\n",
    "    model = PanelOLS(dependent, exog, entity_effects=True, time_effects=True)\n",
    "    return model.fit(cov_type='clustered', cluster_entity=True)"
   ]
  },
  {
   "cell_type": "markdown",
   "metadata": {},
   "source": [
    "## Regressions"
   ]
  },
  {
   "cell_type": "code",
   "execution_count": 6,
   "metadata": {},
   "outputs": [],
   "source": [
    "def get_stars(pvalue):\n",
    "    if pvalue < 0.01:\n",
    "        return '***'\n",
    "    if pvalue < 0.05:\n",
    "        return '**'\n",
    "    if pvalue < 0.1:\n",
    "        return '*'\n",
    "    else:\n",
    "        return ''"
   ]
  },
  {
   "cell_type": "code",
   "execution_count": 7,
   "metadata": {},
   "outputs": [
    {
     "name": "stdout",
     "output_type": "stream",
     "text": [
      "RATING_CHANGE\n",
      "==================================================\n",
      "const                   1.429** \t(2.18)\n",
      "lm_tone_norm            0.032   \t(1.64)\n",
      "num_words              -0.001** \t(-2.40)\n",
      "surprise                0.005***\t(3.00)\n",
      "size                   -0.133** \t(-2.03)\n",
      "roa                    -0.008   \t(-1.01)\n",
      "leverage               -0.101   \t(-0.29)\n",
      "loss                   -0.134   \t(-1.44)\n",
      "capex                  -0.007   \t(-0.61)\n",
      "--------------------------------------------------\n",
      "const                   1.491** \t(2.30)\n",
      "finbert_tone_norm       0.099***\t(5.43)\n",
      "num_words              -0.001** \t(-2.13)\n",
      "surprise                0.006***\t(3.25)\n",
      "size                   -0.140** \t(-2.15)\n",
      "roa                    -0.008   \t(-0.96)\n",
      "leverage               -0.110   \t(-0.32)\n",
      "loss                   -0.129   \t(-1.41)\n",
      "capex                  -0.005   \t(-0.45)\n",
      "--------------------------------------------------\n",
      "\n",
      "PRICE_CHANGE\n",
      "==================================================\n",
      "const                 -24.746** \t(-2.49)\n",
      "lm_tone_norm            0.530***\t(6.32)\n",
      "num_words              -0.005***\t(-2.64)\n",
      "surprise                0.348   \t(1.25)\n",
      "size                    2.634***\t(2.67)\n",
      "roa                     0.137   \t(1.12)\n",
      "leverage                6.515** \t(2.12)\n",
      "loss                    0.561   \t(0.92)\n",
      "capex                  -0.369***\t(-3.37)\n",
      "--------------------------------------------------\n",
      "const                 -24.469** \t(-2.47)\n",
      "finbert_tone_norm       0.859***\t(10.73)\n",
      "num_words              -0.004** \t(-2.48)\n",
      "surprise                0.349   \t(1.25)\n",
      "size                    2.606***\t(2.64)\n",
      "roa                     0.137   \t(1.12)\n",
      "leverage                6.462** \t(2.12)\n",
      "loss                    0.579   \t(0.96)\n",
      "capex                  -0.365***\t(-3.32)\n",
      "--------------------------------------------------\n",
      "\n",
      "EPS_CHANGE\n",
      "==================================================\n",
      "const                  -0.870***\t(-4.25)\n",
      "lm_tone_norm            0.003   \t(0.85)\n",
      "num_words              -0.000*  \t(-1.65)\n",
      "surprise               -0.012** \t(-2.10)\n",
      "size                    0.099***\t(4.21)\n",
      "roa                    -0.027** \t(-2.14)\n",
      "leverage                0.206   \t(1.28)\n",
      "loss                    0.050   \t(0.70)\n",
      "capex                  -0.014   \t(-1.09)\n",
      "--------------------------------------------------\n",
      "const                  -0.868***\t(-4.23)\n",
      "finbert_tone_norm       0.008***\t(4.01)\n",
      "num_words              -0.000   \t(-1.58)\n",
      "surprise               -0.012** \t(-2.10)\n",
      "size                    0.099***\t(4.19)\n",
      "roa                    -0.027** \t(-2.14)\n",
      "leverage                0.206   \t(1.28)\n",
      "loss                    0.050   \t(0.70)\n",
      "capex                  -0.014   \t(-1.08)\n",
      "--------------------------------------------------\n",
      "\n"
     ]
    }
   ],
   "source": [
    "for dv in ['rating_change', 'price_change', 'eps_change']:\n",
    "    print(dv.upper())\n",
    "    print('=' * 50)\n",
    "    for tone in ['lm_tone_norm', 'finbert_tone_norm']:\n",
    "        res = ols_model(analysts_dataset, tone, dv)\n",
    "        for name, coefficient, tstat, pvalue in zip(res._var_names, res.params, res.tstats, res.pvalues):\n",
    "            print(f\"{name:18s} {coefficient:10.3f}{get_stars(pvalue):3s}\\t({tstat:.2f})\")\n",
    "        print('-' * 50)\n",
    "    print('')"
   ]
  },
  {
   "cell_type": "markdown",
   "metadata": {},
   "source": [
    "## Bootstrapping"
   ]
  },
  {
   "cell_type": "code",
   "execution_count": 8,
   "metadata": {},
   "outputs": [],
   "source": [
    "def create_sample(df, dependent, n_obs):\n",
    "    sample = (df\n",
    "              .copy()\n",
    "              .filter([dv, 'lm_tone_norm', 'finbert_tone_norm', 'num_words',\n",
    "                       'surprise', 'size', 'roa', 'leverage', 'loss', 'capex'])\n",
    "              .dropna()\n",
    "              .sample(n_obs))\n",
    "    return sample"
   ]
  },
  {
   "cell_type": "code",
   "execution_count": 15,
   "metadata": {},
   "outputs": [],
   "source": [
    "N_ITERS = 500\n",
    "N_OBS = 2500\n",
    "\n",
    "columns = ['dv', 'tone', 'coefficient', 'pvalue']\n",
    "results = pd.DataFrame(columns=columns)\n",
    "for dv in ['rating_change', 'price_change', 'eps_change']:\n",
    "    for tone in ['lm_tone_norm', 'finbert_tone_norm']:\n",
    "        for _ in range(N_ITERS):\n",
    "            # Create random sample\n",
    "            sample = create_sample(analysts_dataset, dv, N_OBS)\n",
    "            res = ols_model(sample, tone, dv)\n",
    "\n",
    "            # Get coefficient and p-value\n",
    "            coefficient, pvalue = res.params[tone], res.pvalues[tone]\n",
    "\n",
    "            # Append to results\n",
    "            results.loc[len(results)] = [dv, tone, coefficient, pvalue]"
   ]
  },
  {
   "cell_type": "code",
   "execution_count": 16,
   "metadata": {},
   "outputs": [
    {
     "data": {
      "text/html": "<div>\n<style scoped>\n    .dataframe tbody tr th:only-of-type {\n        vertical-align: middle;\n    }\n\n    .dataframe tbody tr th {\n        vertical-align: top;\n    }\n\n    .dataframe thead th {\n        text-align: right;\n    }\n</style>\n<table border=\"1\" class=\"dataframe\">\n  <thead>\n    <tr style=\"text-align: right;\">\n      <th></th>\n      <th></th>\n      <th>coefficient</th>\n      <th>positive_sign</th>\n      <th>pct_10</th>\n      <th>pct_5</th>\n      <th>pct_1</th>\n    </tr>\n    <tr>\n      <th>dv</th>\n      <th>tone</th>\n      <th></th>\n      <th></th>\n      <th></th>\n      <th></th>\n      <th></th>\n    </tr>\n  </thead>\n  <tbody>\n    <tr>\n      <th rowspan=\"2\" valign=\"top\">rating_change</th>\n      <th>lm_tone_norm</th>\n      <td>0.032</td>\n      <td>0.940</td>\n      <td>0.210</td>\n      <td>0.098</td>\n      <td>0.008</td>\n    </tr>\n    <tr>\n      <th>finbert_tone_norm</th>\n      <td>0.096</td>\n      <td>1.000</td>\n      <td>0.994</td>\n      <td>0.964</td>\n      <td>0.804</td>\n    </tr>\n    <tr>\n      <th rowspan=\"2\" valign=\"top\">price_change</th>\n      <th>lm_tone_norm</th>\n      <td>0.503</td>\n      <td>0.934</td>\n      <td>0.464</td>\n      <td>0.346</td>\n      <td>0.136</td>\n    </tr>\n    <tr>\n      <th>finbert_tone_norm</th>\n      <td>0.840</td>\n      <td>0.984</td>\n      <td>0.826</td>\n      <td>0.732</td>\n      <td>0.508</td>\n    </tr>\n    <tr>\n      <th rowspan=\"2\" valign=\"top\">eps_change</th>\n      <th>lm_tone_norm</th>\n      <td>0.002</td>\n      <td>0.586</td>\n      <td>0.048</td>\n      <td>0.024</td>\n      <td>0.004</td>\n    </tr>\n    <tr>\n      <th>finbert_tone_norm</th>\n      <td>0.008</td>\n      <td>0.744</td>\n      <td>0.144</td>\n      <td>0.074</td>\n      <td>0.010</td>\n    </tr>\n  </tbody>\n</table>\n</div>",
      "text/plain": [
       "                                 coefficient  positive_sign  pct_10  pct_5  \\\n",
       "dv            tone                                                           \n",
       "rating_change lm_tone_norm             0.032          0.940   0.210  0.098   \n",
       "              finbert_tone_norm        0.096          1.000   0.994  0.964   \n",
       "price_change  lm_tone_norm             0.503          0.934   0.464  0.346   \n",
       "              finbert_tone_norm        0.840          0.984   0.826  0.732   \n",
       "eps_change    lm_tone_norm             0.002          0.586   0.048  0.024   \n",
       "              finbert_tone_norm        0.008          0.744   0.144  0.074   \n",
       "\n",
       "                                 pct_1  \n",
       "dv            tone                      \n",
       "rating_change lm_tone_norm       0.008  \n",
       "              finbert_tone_norm  0.804  \n",
       "price_change  lm_tone_norm       0.136  \n",
       "              finbert_tone_norm  0.508  \n",
       "eps_change    lm_tone_norm       0.004  \n",
       "              finbert_tone_norm  0.010  "
      ]
     },
     "execution_count": 16,
     "metadata": {},
     "output_type": "execute_result"
    }
   ],
   "source": [
    "table = (results.assign(positive_sign=lambda x: (x['coefficient'] > 0),\n",
    "                        pct_10=lambda x: x['positive_sign'] & (x['pvalue'] < 0.10),\n",
    "                        pct_5=lambda x: x['positive_sign'] & (x['pvalue'] < 0.05),\n",
    "                        pct_1=lambda x: x['positive_sign'] & (x['pvalue'] < 0.01))\n",
    "                .groupby(['dv', 'tone'])\n",
    "                .agg({'coefficient': np.mean,\n",
    "                      'positive_sign': np.mean,\n",
    "                      'pct_10': np.mean,\n",
    "                      'pct_5': np.mean,\n",
    "                      'pct_1': np.mean})\n",
    "                .sort_index(ascending=False)\n",
    "                .round(3))\n",
    "table"
   ]
  },
  {
   "cell_type": "code",
   "execution_count": 18,
   "metadata": {},
   "outputs": [
    {
     "name": "stdout",
     "output_type": "stream",
     "text": [
      "\\begin{tabular}{llrrrrr}\n",
      "\\toprule\n",
      "           &                   &  coefficient &  positive\\_sign &  pct\\_10 &  pct\\_5 &  pct\\_1 \\\\\n",
      "dv & tone &              &                &         &        &        \\\\\n",
      "\\midrule\n",
      "rating\\_change & lm\\_tone\\_norm &        0.032 &          0.940 &   0.210 &  0.098 &  0.008 \\\\\n",
      "           & finbert\\_tone\\_norm &        0.096 &          1.000 &   0.994 &  0.964 &  0.804 \\\\\n",
      "price\\_change & lm\\_tone\\_norm &        0.503 &          0.934 &   0.464 &  0.346 &  0.136 \\\\\n",
      "           & finbert\\_tone\\_norm &        0.840 &          0.984 &   0.826 &  0.732 &  0.508 \\\\\n",
      "eps\\_change & lm\\_tone\\_norm &        0.002 &          0.586 &   0.048 &  0.024 &  0.004 \\\\\n",
      "           & finbert\\_tone\\_norm &        0.008 &          0.744 &   0.144 &  0.074 &  0.010 \\\\\n",
      "\\bottomrule\n",
      "\\end{tabular}\n",
      "\n"
     ]
    }
   ],
   "source": [
    "print(table.to_latex())"
   ]
  },
  {
   "cell_type": "code",
   "execution_count": null,
   "metadata": {},
   "outputs": [],
   "source": []
  }
 ],
 "metadata": {
  "kernelspec": {
   "display_name": "Python 3.7.0 64-bit ('ccs': conda)",
   "name": "python370jvsc74a57bd00fd244f8153bc805f524f29c23b1aa2814d4e93d2f2c2e96a05bc405a61fe891"
  },
  "language_info": {
   "name": "python",
   "version": "3.7.0"
  },
  "orig_nbformat": 2
 },
 "nbformat": 4,
 "nbformat_minor": 2
}