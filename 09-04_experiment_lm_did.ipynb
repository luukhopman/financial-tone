{
 "cells": [
  {
   "cell_type": "markdown",
   "metadata": {},
   "source": [
    "# Experiment - Loughran & McDonald Difference-in-difference"
   ]
  },
  {
   "cell_type": "code",
   "execution_count": 1,
   "metadata": {},
   "outputs": [],
   "source": [
    "NAME = '09-04_experiment_lm_did'\n",
    "PROJECT = 'conference-calls-sentiment'\n",
    "PYTHON_VERSION = '3.7.0'"
   ]
  },
  {
   "cell_type": "markdown",
   "metadata": {},
   "source": [
    "### Imports  "
   ]
  },
  {
   "cell_type": "code",
   "execution_count": 2,
   "metadata": {
    "collapsed": true,
    "jupyter": {
     "outputs_hidden": true
    }
   },
   "outputs": [],
   "source": [
    "import os\n",
    "import re\n",
    "import numpy as np\n",
    "import pandas as pd\n",
    "\n",
    "# Regressions\n",
    "from linearmodels import PanelOLS\n",
    "import statsmodels.api as sm\n",
    "\n",
    "# Hide annoying warnings\n",
    "import warnings\n",
    "warnings.filterwarnings('ignore')"
   ]
  },
  {
   "cell_type": "markdown",
   "metadata": {},
   "source": [
    "### Settings"
   ]
  },
  {
   "cell_type": "code",
   "execution_count": 3,
   "metadata": {},
   "outputs": [],
   "source": [
    "workdir = re.sub(\"(?<={})[\\w\\W]*\".format(PROJECT), \"\", os.getcwd())\n",
    "os.chdir(workdir)\n",
    "\n",
    "pipeline = os.path.join('2_pipeline', NAME)\n",
    "if not os.path.exists(pipeline):\n",
    "    os.makedirs(pipeline)\n",
    "    for folder in ['out', 'store', 'tmp']:\n",
    "        os.makedirs(os.path.join(pipeline, folder))"
   ]
  },
  {
   "cell_type": "markdown",
   "metadata": {},
   "source": [
    "--- \n",
    "# Main code"
   ]
  },
  {
   "cell_type": "markdown",
   "metadata": {},
   "source": [
    "# Preprocess Transcripts"
   ]
  },
  {
   "cell_type": "code",
   "execution_count": null,
   "metadata": {},
   "outputs": [],
   "source": [
    "controls = pd.read_feather(os.path.join('2_pipeline', '07-01_dataset_control_variables', 'out', 'control_variables.feather'))\n",
    "controls.head()"
   ]
  },
  {
   "cell_type": "code",
   "execution_count": null,
   "metadata": {},
   "outputs": [],
   "source": [
    "LM_PUBLICATION = '2011-01-06'  # Date of Loughran & McDonald (2011) Publication\n",
    "tone_by_role = pd.read_feather(os.path.join('2_pipeline', '04-01_tone_lm', 'out', 'lm_tone_by_role.feather'))\n",
    "\n",
    "tone_did = (tone_by_role\n",
    "            .assign(year=lambda x: x['event_date'].dt.year,\n",
    "                    quarter=lambda x: x['event_date'].dt.to_period('Q'),\n",
    "                    treated=lambda x: np.where(x['speaker_role'] == 'Management', 1, 0),\n",
    "                    post=lambda x: (x['event_date'] >= LM_PUBLICATION).astype('int'),\n",
    "                    treated_post=lambda x: x['post'] * x['treated'])\n",
    "            .merge(controls, on=['gvkey', 'quarter'])\n",
    "            .assign(quarter=lambda x: x['quarter'].astype('str'))  # Stata cannot handle the pandas.Period dtype\n",
    "            .dropna()\n",
    "            .set_index(['gvkey', 'year']))\n",
    "\n",
    "tone_did"
   ]
  },
  {
   "cell_type": "code",
   "execution_count": 32,
   "metadata": {},
   "outputs": [
    {
     "data": {
      "text/plain": [
       "0    22293\n",
       "1    22289\n",
       "Name: treated, dtype: int64"
      ]
     },
     "execution_count": 32,
     "metadata": {},
     "output_type": "execute_result"
    }
   ],
   "source": [
    "tone_did['treated'].value_counts()"
   ]
  },
  {
   "cell_type": "code",
   "execution_count": 33,
   "metadata": {},
   "outputs": [],
   "source": [
    "# Save\n",
    "tone_did.to_stata(os.path.join(pipeline, 'out', 'tone_did.dta'))"
   ]
  },
  {
   "cell_type": "markdown",
   "metadata": {},
   "source": [
    "## Diffrence-in-difference"
   ]
  },
  {
   "cell_type": "code",
   "execution_count": 34,
   "metadata": {},
   "outputs": [],
   "source": [
    "controls = ['surprise', 'size', 'roa', 'leverage', 'loss', 'capex']"
   ]
  },
  {
   "cell_type": "code",
   "execution_count": 35,
   "metadata": {},
   "outputs": [],
   "source": [
    "def ols_model(df, dependent, exog, ffe, tfe):\n",
    "    dependent = df[dependent]\n",
    "    exog = sm.add_constant(df[exog])\n",
    "    model = PanelOLS(dependent, exog, entity_effects=ffe, time_effects=tfe)\n",
    "    return model.fit(cov_type='clustered', cluster_entity=True)"
   ]
  },
  {
   "cell_type": "markdown",
   "metadata": {},
   "source": [
    "### Negative Words"
   ]
  },
  {
   "cell_type": "code",
   "execution_count": 37,
   "metadata": {},
   "outputs": [
    {
     "data": {
      "text/html": "<table class=\"simpletable\">\n<caption>PanelOLS Estimation Summary</caption>\n<tr>\n  <th>Dep. Variable:</th>       <td>lm_negative</td>   <th>  R-squared:         </th>     <td>0.5858</td>  \n</tr>\n<tr>\n  <th>Estimator:</th>            <td>PanelOLS</td>     <th>  R-squared (Between):</th>    <td>0.6215</td>  \n</tr>\n<tr>\n  <th>No. Observations:</th>       <td>44582</td>      <th>  R-squared (Within):</th>     <td>0.5690</td>  \n</tr>\n<tr>\n  <th>Date:</th>             <td>Thu, May 13 2021</td> <th>  R-squared (Overall):</th>    <td>0.5858</td>  \n</tr>\n<tr>\n  <th>Time:</th>                 <td>20:08:42</td>     <th>  Log-likelihood     </th>   <td>-1.602e+05</td>\n</tr>\n<tr>\n  <th>Cov. Estimator:</th>       <td>Clustered</td>    <th>                     </th>        <td></td>     \n</tr>\n<tr>\n  <th></th>                          <td></td>         <th>  F-statistic:       </th>    <td>1.576e+04</td>\n</tr>\n<tr>\n  <th>Entities:</th>                <td>601</td>       <th>  P-value            </th>     <td>0.0000</td>  \n</tr>\n<tr>\n  <th>Avg Obs:</th>               <td>74.180</td>      <th>  Distribution:      </th>   <td>F(4,44577)</td>\n</tr>\n<tr>\n  <th>Min Obs:</th>               <td>1.0000</td>      <th>                     </th>        <td></td>     \n</tr>\n<tr>\n  <th>Max Obs:</th>               <td>136.00</td>      <th>  F-statistic (robust):</th>   <td>1049.2</td>  \n</tr>\n<tr>\n  <th></th>                          <td></td>         <th>  P-value            </th>     <td>0.0000</td>  \n</tr>\n<tr>\n  <th>Time periods:</th>            <td>17</td>        <th>  Distribution:      </th>   <td>F(4,44577)</td>\n</tr>\n<tr>\n  <th>Avg Obs:</th>               <td>2622.5</td>      <th>                     </th>        <td></td>     \n</tr>\n<tr>\n  <th>Min Obs:</th>               <td>1903.0</td>      <th>                     </th>        <td></td>     \n</tr>\n<tr>\n  <th>Max Obs:</th>               <td>3089.0</td>      <th>                     </th>        <td></td>     \n</tr>\n<tr>\n  <th></th>                          <td></td>         <th>                     </th>        <td></td>     \n</tr>\n</table>\n<table class=\"simpletable\">\n<caption>Parameter Estimates</caption>\n<tr>\n        <td></td>       <th>Parameter</th> <th>Std. Err.</th> <th>T-stat</th>  <th>P-value</th> <th>Lower CI</th> <th>Upper CI</th>\n</tr>\n<tr>\n  <th>const</th>         <td>7.3750</td>    <td>0.2470</td>   <td>29.857</td>  <td>0.0000</td>   <td>6.8909</td>   <td>7.8592</td> \n</tr>\n<tr>\n  <th>treated</th>       <td>-7.5995</td>   <td>0.3093</td>   <td>-24.573</td> <td>0.0000</td>   <td>-8.2057</td>  <td>-6.9934</td>\n</tr>\n<tr>\n  <th>post</th>          <td>-2.8507</td>   <td>0.1856</td>   <td>-15.363</td> <td>0.0000</td>   <td>-3.2144</td>  <td>-2.4870</td>\n</tr>\n<tr>\n  <th>treated_post</th>  <td>-0.6473</td>   <td>0.2933</td>   <td>-2.2067</td> <td>0.0273</td>   <td>-1.2222</td>  <td>-0.0723</td>\n</tr>\n<tr>\n  <th>num_words</th>     <td>0.0090</td>    <td>0.0002</td>   <td>54.303</td>  <td>0.0000</td>   <td>0.0087</td>   <td>0.0093</td> \n</tr>\n</table><br/><br/><br/>id: 0x252e5956f28",
      "text/plain": [
       "                          PanelOLS Estimation Summary                           \n",
       "================================================================================\n",
       "Dep. Variable:            lm_negative   R-squared:                        0.5858\n",
       "Estimator:                   PanelOLS   R-squared (Between):              0.6215\n",
       "No. Observations:               44582   R-squared (Within):               0.5690\n",
       "Date:                Thu, May 13 2021   R-squared (Overall):              0.5858\n",
       "Time:                        20:08:42   Log-likelihood                -1.602e+05\n",
       "Cov. Estimator:             Clustered                                           \n",
       "                                        F-statistic:                   1.576e+04\n",
       "Entities:                         601   P-value                           0.0000\n",
       "Avg Obs:                       74.180   Distribution:                 F(4,44577)\n",
       "Min Obs:                       1.0000                                           \n",
       "Max Obs:                       136.00   F-statistic (robust):             1049.2\n",
       "                                        P-value                           0.0000\n",
       "Time periods:                      17   Distribution:                 F(4,44577)\n",
       "Avg Obs:                       2622.5                                           \n",
       "Min Obs:                       1903.0                                           \n",
       "Max Obs:                       3089.0                                           \n",
       "                                                                                \n",
       "                              Parameter Estimates                               \n",
       "================================================================================\n",
       "              Parameter  Std. Err.     T-stat    P-value    Lower CI    Upper CI\n",
       "--------------------------------------------------------------------------------\n",
       "const            7.3750     0.2470     29.857     0.0000      6.8909      7.8592\n",
       "treated         -7.5995     0.3093    -24.573     0.0000     -8.2057     -6.9934\n",
       "post            -2.8507     0.1856    -15.363     0.0000     -3.2144     -2.4870\n",
       "treated_post    -0.6473     0.2933    -2.2067     0.0273     -1.2222     -0.0723\n",
       "num_words        0.0090     0.0002     54.303     0.0000      0.0087      0.0093\n",
       "================================================================================\n",
       "\n",
       "\n",
       "PanelEffectsResults, id: 0x252e5956f28"
      ]
     },
     "execution_count": 37,
     "metadata": {},
     "output_type": "execute_result"
    }
   ],
   "source": [
    "ols_model(df=tone_did, \n",
    "          dependent='lm_negative',\n",
    "          exog=['treated', 'post', 'treated_post' ,'num_words'],\n",
    "          ffe=False,\n",
    "          tfe=False)"
   ]
  },
  {
   "cell_type": "code",
   "execution_count": 11,
   "metadata": {},
   "outputs": [
    {
     "data": {
      "text/html": "<table class=\"simpletable\">\n<caption>PanelOLS Estimation Summary</caption>\n<tr>\n  <th>Dep. Variable:</th>       <td>lm_negative</td>   <th>  R-squared:         </th>     <td>0.5904</td>   \n</tr>\n<tr>\n  <th>Estimator:</th>            <td>PanelOLS</td>     <th>  R-squared (Between):</th>    <td>0.6374</td>   \n</tr>\n<tr>\n  <th>No. Observations:</th>       <td>44582</td>      <th>  R-squared (Within):</th>     <td>0.5713</td>   \n</tr>\n<tr>\n  <th>Date:</th>             <td>Thu, May 13 2021</td> <th>  R-squared (Overall):</th>    <td>0.5904</td>   \n</tr>\n<tr>\n  <th>Time:</th>                 <td>20:02:05</td>     <th>  Log-likelihood     </th>   <td>-1.599e+05</td> \n</tr>\n<tr>\n  <th>Cov. Estimator:</th>       <td>Clustered</td>    <th>                     </th>        <td></td>      \n</tr>\n<tr>\n  <th></th>                          <td></td>         <th>  F-statistic:       </th>     <td>6423.4</td>   \n</tr>\n<tr>\n  <th>Entities:</th>                <td>601</td>       <th>  P-value            </th>     <td>0.0000</td>   \n</tr>\n<tr>\n  <th>Avg Obs:</th>               <td>74.180</td>      <th>  Distribution:      </th>   <td>F(10,44571)</td>\n</tr>\n<tr>\n  <th>Min Obs:</th>               <td>1.0000</td>      <th>                     </th>        <td></td>      \n</tr>\n<tr>\n  <th>Max Obs:</th>               <td>136.00</td>      <th>  F-statistic (robust):</th>   <td>454.43</td>   \n</tr>\n<tr>\n  <th></th>                          <td></td>         <th>  P-value            </th>     <td>0.0000</td>   \n</tr>\n<tr>\n  <th>Time periods:</th>            <td>17</td>        <th>  Distribution:      </th>   <td>F(10,44571)</td>\n</tr>\n<tr>\n  <th>Avg Obs:</th>               <td>2622.5</td>      <th>                     </th>        <td></td>      \n</tr>\n<tr>\n  <th>Min Obs:</th>               <td>1903.0</td>      <th>                     </th>        <td></td>      \n</tr>\n<tr>\n  <th>Max Obs:</th>               <td>3089.0</td>      <th>                     </th>        <td></td>      \n</tr>\n<tr>\n  <th></th>                          <td></td>         <th>                     </th>        <td></td>      \n</tr>\n</table>\n<table class=\"simpletable\">\n<caption>Parameter Estimates</caption>\n<tr>\n        <td></td>       <th>Parameter</th> <th>Std. Err.</th> <th>T-stat</th>  <th>P-value</th> <th>Lower CI</th> <th>Upper CI</th>\n</tr>\n<tr>\n  <th>const</th>         <td>9.6578</td>    <td>1.5922</td>   <td>6.0656</td>  <td>0.0000</td>   <td>6.5370</td>   <td>12.779</td> \n</tr>\n<tr>\n  <th>treated</th>       <td>-7.5696</td>   <td>0.3069</td>   <td>-24.668</td> <td>0.0000</td>   <td>-8.1711</td>  <td>-6.9682</td>\n</tr>\n<tr>\n  <th>post</th>          <td>-2.7532</td>   <td>0.1996</td>   <td>-13.794</td> <td>0.0000</td>   <td>-3.1445</td>  <td>-2.3620</td>\n</tr>\n<tr>\n  <th>treated_post</th>  <td>-0.6286</td>   <td>0.2913</td>   <td>-2.1575</td> <td>0.0310</td>   <td>-1.1996</td>  <td>-0.0575</td>\n</tr>\n<tr>\n  <th>num_words</th>     <td>0.0090</td>    <td>0.0002</td>   <td>55.593</td>  <td>0.0000</td>   <td>0.0087</td>   <td>0.0093</td> \n</tr>\n<tr>\n  <th>surprise</th>      <td>-0.0056</td>   <td>0.0061</td>   <td>-0.9286</td> <td>0.3531</td>   <td>-0.0175</td>  <td>0.0063</td> \n</tr>\n<tr>\n  <th>size</th>          <td>-0.1733</td>   <td>0.1668</td>   <td>-1.0387</td> <td>0.2989</td>   <td>-0.5003</td>  <td>0.1537</td> \n</tr>\n<tr>\n  <th>roa</th>           <td>-0.1735</td>   <td>0.0489</td>   <td>-3.5462</td> <td>0.0004</td>   <td>-0.2694</td>  <td>-0.0776</td>\n</tr>\n<tr>\n  <th>leverage</th>      <td>-0.1000</td>   <td>0.9225</td>   <td>-0.1084</td> <td>0.9137</td>   <td>-1.9082</td>  <td>1.7082</td> \n</tr>\n<tr>\n  <th>loss</th>          <td>1.4467</td>    <td>0.4056</td>   <td>3.5667</td>  <td>0.0004</td>   <td>0.6517</td>   <td>2.2417</td> \n</tr>\n<tr>\n  <th>capex</th>         <td>-0.1803</td>   <td>0.0422</td>   <td>-4.2724</td> <td>0.0000</td>   <td>-0.2630</td>  <td>-0.0976</td>\n</tr>\n</table><br/><br/><br/>id: 0x252dfe28320",
      "text/plain": [
       "                          PanelOLS Estimation Summary                           \n",
       "================================================================================\n",
       "Dep. Variable:            lm_negative   R-squared:                        0.5904\n",
       "Estimator:                   PanelOLS   R-squared (Between):              0.6374\n",
       "No. Observations:               44582   R-squared (Within):               0.5713\n",
       "Date:                Thu, May 13 2021   R-squared (Overall):              0.5904\n",
       "Time:                        20:02:05   Log-likelihood                -1.599e+05\n",
       "Cov. Estimator:             Clustered                                           \n",
       "                                        F-statistic:                      6423.4\n",
       "Entities:                         601   P-value                           0.0000\n",
       "Avg Obs:                       74.180   Distribution:                F(10,44571)\n",
       "Min Obs:                       1.0000                                           \n",
       "Max Obs:                       136.00   F-statistic (robust):             454.43\n",
       "                                        P-value                           0.0000\n",
       "Time periods:                      17   Distribution:                F(10,44571)\n",
       "Avg Obs:                       2622.5                                           \n",
       "Min Obs:                       1903.0                                           \n",
       "Max Obs:                       3089.0                                           \n",
       "                                                                                \n",
       "                              Parameter Estimates                               \n",
       "================================================================================\n",
       "              Parameter  Std. Err.     T-stat    P-value    Lower CI    Upper CI\n",
       "--------------------------------------------------------------------------------\n",
       "const            9.6578     1.5922     6.0656     0.0000      6.5370      12.779\n",
       "treated         -7.5696     0.3069    -24.668     0.0000     -8.1711     -6.9682\n",
       "post            -2.7532     0.1996    -13.794     0.0000     -3.1445     -2.3620\n",
       "treated_post    -0.6286     0.2913    -2.1575     0.0310     -1.1996     -0.0575\n",
       "num_words        0.0090     0.0002     55.593     0.0000      0.0087      0.0093\n",
       "surprise        -0.0056     0.0061    -0.9286     0.3531     -0.0175      0.0063\n",
       "size            -0.1733     0.1668    -1.0387     0.2989     -0.5003      0.1537\n",
       "roa             -0.1735     0.0489    -3.5462     0.0004     -0.2694     -0.0776\n",
       "leverage        -0.1000     0.9225    -0.1084     0.9137     -1.9082      1.7082\n",
       "loss             1.4467     0.4056     3.5667     0.0004      0.6517      2.2417\n",
       "capex           -0.1803     0.0422    -4.2724     0.0000     -0.2630     -0.0976\n",
       "================================================================================\n",
       "\n",
       "\n",
       "PanelEffectsResults, id: 0x252dfe28320"
      ]
     },
     "execution_count": 11,
     "metadata": {},
     "output_type": "execute_result"
    }
   ],
   "source": [
    "ols_model(df=tone_did, \n",
    "          dependent='lm_negative',\n",
    "          exog=['treated', 'post', 'treated_post', 'num_words'] + controls,\n",
    "          ffe=False,\n",
    "          tfe=False)"
   ]
  },
  {
   "cell_type": "code",
   "execution_count": 12,
   "metadata": {},
   "outputs": [
    {
     "data": {
      "text/html": "<table class=\"simpletable\">\n<caption>PanelOLS Estimation Summary</caption>\n<tr>\n  <th>Dep. Variable:</th>       <td>lm_negative</td>   <th>  R-squared:         </th>     <td>0.5853</td>  \n</tr>\n<tr>\n  <th>Estimator:</th>            <td>PanelOLS</td>     <th>  R-squared (Between):</th>    <td>0.4737</td>  \n</tr>\n<tr>\n  <th>No. Observations:</th>       <td>44582</td>      <th>  R-squared (Within):</th>     <td>0.5174</td>  \n</tr>\n<tr>\n  <th>Date:</th>             <td>Thu, May 13 2021</td> <th>  R-squared (Overall):</th>    <td>0.5258</td>  \n</tr>\n<tr>\n  <th>Time:</th>                 <td>20:02:05</td>     <th>  Log-likelihood     </th>   <td>-1.596e+05</td>\n</tr>\n<tr>\n  <th>Cov. Estimator:</th>       <td>Clustered</td>    <th>                     </th>        <td></td>     \n</tr>\n<tr>\n  <th></th>                          <td></td>         <th>  F-statistic:       </th>    <td>1.572e+04</td>\n</tr>\n<tr>\n  <th>Entities:</th>                <td>601</td>       <th>  P-value            </th>     <td>0.0000</td>  \n</tr>\n<tr>\n  <th>Avg Obs:</th>               <td>74.180</td>      <th>  Distribution:      </th>   <td>F(4,44561)</td>\n</tr>\n<tr>\n  <th>Min Obs:</th>               <td>1.0000</td>      <th>                     </th>        <td></td>     \n</tr>\n<tr>\n  <th>Max Obs:</th>               <td>136.00</td>      <th>  F-statistic (robust):</th>   <td>1029.3</td>  \n</tr>\n<tr>\n  <th></th>                          <td></td>         <th>  P-value            </th>     <td>0.0000</td>  \n</tr>\n<tr>\n  <th>Time periods:</th>            <td>17</td>        <th>  Distribution:      </th>   <td>F(4,44561)</td>\n</tr>\n<tr>\n  <th>Avg Obs:</th>               <td>2622.5</td>      <th>                     </th>        <td></td>     \n</tr>\n<tr>\n  <th>Min Obs:</th>               <td>1903.0</td>      <th>                     </th>        <td></td>     \n</tr>\n<tr>\n  <th>Max Obs:</th>               <td>3089.0</td>      <th>                     </th>        <td></td>     \n</tr>\n<tr>\n  <th></th>                          <td></td>         <th>                     </th>        <td></td>     \n</tr>\n</table>\n<table class=\"simpletable\">\n<caption>Parameter Estimates</caption>\n<tr>\n        <td></td>       <th>Parameter</th> <th>Std. Err.</th> <th>T-stat</th>  <th>P-value</th> <th>Lower CI</th> <th>Upper CI</th>\n</tr>\n<tr>\n  <th>const</th>         <td>3.0807</td>    <td>0.3207</td>   <td>9.6055</td>  <td>0.0000</td>   <td>2.4521</td>   <td>3.7093</td> \n</tr>\n<tr>\n  <th>treated</th>       <td>-7.4642</td>   <td>0.3083</td>   <td>-24.207</td> <td>0.0000</td>   <td>-8.0686</td>  <td>-6.8599</td>\n</tr>\n<tr>\n  <th>post</th>          <td>4.0859</td>    <td>0.3205</td>   <td>12.751</td>  <td>0.0000</td>   <td>3.4578</td>   <td>4.7140</td> \n</tr>\n<tr>\n  <th>treated_post</th>  <td>-0.6079</td>   <td>0.2929</td>   <td>-2.0755</td> <td>0.0379</td>   <td>-1.1820</td>  <td>-0.0338</td>\n</tr>\n<tr>\n  <th>num_words</th>     <td>0.0089</td>    <td>0.0002</td>   <td>53.886</td>  <td>0.0000</td>   <td>0.0086</td>   <td>0.0093</td> \n</tr>\n</table><br/><br/>F-test for Poolability: 73.148<br/>P-value: 0.0000<br/>Distribution: F(16,44561)<br/><br/>Included effects: Time<br/>id: 0x252dfdfaf98",
      "text/plain": [
       "                          PanelOLS Estimation Summary                           \n",
       "================================================================================\n",
       "Dep. Variable:            lm_negative   R-squared:                        0.5853\n",
       "Estimator:                   PanelOLS   R-squared (Between):              0.4737\n",
       "No. Observations:               44582   R-squared (Within):               0.5174\n",
       "Date:                Thu, May 13 2021   R-squared (Overall):              0.5258\n",
       "Time:                        20:02:05   Log-likelihood                -1.596e+05\n",
       "Cov. Estimator:             Clustered                                           \n",
       "                                        F-statistic:                   1.572e+04\n",
       "Entities:                         601   P-value                           0.0000\n",
       "Avg Obs:                       74.180   Distribution:                 F(4,44561)\n",
       "Min Obs:                       1.0000                                           \n",
       "Max Obs:                       136.00   F-statistic (robust):             1029.3\n",
       "                                        P-value                           0.0000\n",
       "Time periods:                      17   Distribution:                 F(4,44561)\n",
       "Avg Obs:                       2622.5                                           \n",
       "Min Obs:                       1903.0                                           \n",
       "Max Obs:                       3089.0                                           \n",
       "                                                                                \n",
       "                              Parameter Estimates                               \n",
       "================================================================================\n",
       "              Parameter  Std. Err.     T-stat    P-value    Lower CI    Upper CI\n",
       "--------------------------------------------------------------------------------\n",
       "const            3.0807     0.3207     9.6055     0.0000      2.4521      3.7093\n",
       "treated         -7.4642     0.3083    -24.207     0.0000     -8.0686     -6.8599\n",
       "post             4.0859     0.3205     12.751     0.0000      3.4578      4.7140\n",
       "treated_post    -0.6079     0.2929    -2.0755     0.0379     -1.1820     -0.0338\n",
       "num_words        0.0089     0.0002     53.886     0.0000      0.0086      0.0093\n",
       "================================================================================\n",
       "\n",
       "F-test for Poolability: 73.148\n",
       "P-value: 0.0000\n",
       "Distribution: F(16,44561)\n",
       "\n",
       "Included effects: Time\n",
       "PanelEffectsResults, id: 0x252dfdfaf98"
      ]
     },
     "execution_count": 12,
     "metadata": {},
     "output_type": "execute_result"
    }
   ],
   "source": [
    "ols_model(df=tone_did, \n",
    "          dependent='lm_negative',\n",
    "          exog=['treated', 'post', 'treated_post', 'num_words'],\n",
    "          ffe=False,\n",
    "          tfe=True)"
   ]
  },
  {
   "cell_type": "code",
   "execution_count": 13,
   "metadata": {},
   "outputs": [
    {
     "data": {
      "text/html": "<table class=\"simpletable\">\n<caption>PanelOLS Estimation Summary</caption>\n<tr>\n  <th>Dep. Variable:</th>       <td>lm_negative</td>   <th>  R-squared:         </th>     <td>0.5703</td>  \n</tr>\n<tr>\n  <th>Estimator:</th>            <td>PanelOLS</td>     <th>  R-squared (Between):</th>    <td>0.4664</td>  \n</tr>\n<tr>\n  <th>No. Observations:</th>       <td>44582</td>      <th>  R-squared (Within):</th>     <td>0.5147</td>  \n</tr>\n<tr>\n  <th>Date:</th>             <td>Thu, May 13 2021</td> <th>  R-squared (Overall):</th>    <td>0.5226</td>  \n</tr>\n<tr>\n  <th>Time:</th>                 <td>20:02:06</td>     <th>  Log-likelihood     </th>    <td>-1.55e+05</td>\n</tr>\n<tr>\n  <th>Cov. Estimator:</th>       <td>Clustered</td>    <th>                     </th>        <td></td>     \n</tr>\n<tr>\n  <th></th>                          <td></td>         <th>  F-statistic:       </th>    <td>1.459e+04</td>\n</tr>\n<tr>\n  <th>Entities:</th>                <td>601</td>       <th>  P-value            </th>     <td>0.0000</td>  \n</tr>\n<tr>\n  <th>Avg Obs:</th>               <td>74.180</td>      <th>  Distribution:      </th>   <td>F(4,43961)</td>\n</tr>\n<tr>\n  <th>Min Obs:</th>               <td>1.0000</td>      <th>                     </th>        <td></td>     \n</tr>\n<tr>\n  <th>Max Obs:</th>               <td>136.00</td>      <th>  F-statistic (robust):</th>   <td>1439.6</td>  \n</tr>\n<tr>\n  <th></th>                          <td></td>         <th>  P-value            </th>     <td>0.0000</td>  \n</tr>\n<tr>\n  <th>Time periods:</th>            <td>17</td>        <th>  Distribution:      </th>   <td>F(4,43961)</td>\n</tr>\n<tr>\n  <th>Avg Obs:</th>               <td>2622.5</td>      <th>                     </th>        <td></td>     \n</tr>\n<tr>\n  <th>Min Obs:</th>               <td>1903.0</td>      <th>                     </th>        <td></td>     \n</tr>\n<tr>\n  <th>Max Obs:</th>               <td>3089.0</td>      <th>                     </th>        <td></td>     \n</tr>\n<tr>\n  <th></th>                          <td></td>         <th>                     </th>        <td></td>     \n</tr>\n</table>\n<table class=\"simpletable\">\n<caption>Parameter Estimates</caption>\n<tr>\n        <td></td>       <th>Parameter</th> <th>Std. Err.</th> <th>T-stat</th>  <th>P-value</th> <th>Lower CI</th> <th>Upper CI</th>\n</tr>\n<tr>\n  <th>const</th>         <td>3.1872</td>    <td>0.2921</td>   <td>10.912</td>  <td>0.0000</td>   <td>2.6147</td>   <td>3.7596</td> \n</tr>\n<tr>\n  <th>treated</th>       <td>-7.1971</td>   <td>0.2842</td>   <td>-25.322</td> <td>0.0000</td>   <td>-7.7542</td>  <td>-6.6400</td>\n</tr>\n<tr>\n  <th>post</th>          <td>4.2309</td>    <td>0.2189</td>   <td>19.329</td>  <td>0.0000</td>   <td>3.8019</td>   <td>4.6599</td> \n</tr>\n<tr>\n  <th>treated_post</th>  <td>-0.5240</td>   <td>0.2838</td>   <td>-1.8465</td> <td>0.0648</td>   <td>-1.0802</td>  <td>0.0322</td> \n</tr>\n<tr>\n  <th>num_words</th>     <td>0.0088</td>    <td>0.0001</td>   <td>65.898</td>  <td>0.0000</td>   <td>0.0085</td>   <td>0.0090</td> \n</tr>\n</table><br/><br/>F-test for Poolability: 18.886<br/>P-value: 0.0000<br/>Distribution: F(616,43961)<br/><br/>Included effects: Entity, Time<br/>id: 0x252dfdcac18",
      "text/plain": [
       "                          PanelOLS Estimation Summary                           \n",
       "================================================================================\n",
       "Dep. Variable:            lm_negative   R-squared:                        0.5703\n",
       "Estimator:                   PanelOLS   R-squared (Between):              0.4664\n",
       "No. Observations:               44582   R-squared (Within):               0.5147\n",
       "Date:                Thu, May 13 2021   R-squared (Overall):              0.5226\n",
       "Time:                        20:02:06   Log-likelihood                 -1.55e+05\n",
       "Cov. Estimator:             Clustered                                           \n",
       "                                        F-statistic:                   1.459e+04\n",
       "Entities:                         601   P-value                           0.0000\n",
       "Avg Obs:                       74.180   Distribution:                 F(4,43961)\n",
       "Min Obs:                       1.0000                                           \n",
       "Max Obs:                       136.00   F-statistic (robust):             1439.6\n",
       "                                        P-value                           0.0000\n",
       "Time periods:                      17   Distribution:                 F(4,43961)\n",
       "Avg Obs:                       2622.5                                           \n",
       "Min Obs:                       1903.0                                           \n",
       "Max Obs:                       3089.0                                           \n",
       "                                                                                \n",
       "                              Parameter Estimates                               \n",
       "================================================================================\n",
       "              Parameter  Std. Err.     T-stat    P-value    Lower CI    Upper CI\n",
       "--------------------------------------------------------------------------------\n",
       "const            3.1872     0.2921     10.912     0.0000      2.6147      3.7596\n",
       "treated         -7.1971     0.2842    -25.322     0.0000     -7.7542     -6.6400\n",
       "post             4.2309     0.2189     19.329     0.0000      3.8019      4.6599\n",
       "treated_post    -0.5240     0.2838    -1.8465     0.0648     -1.0802      0.0322\n",
       "num_words        0.0088     0.0001     65.898     0.0000      0.0085      0.0090\n",
       "================================================================================\n",
       "\n",
       "F-test for Poolability: 18.886\n",
       "P-value: 0.0000\n",
       "Distribution: F(616,43961)\n",
       "\n",
       "Included effects: Entity, Time\n",
       "PanelEffectsResults, id: 0x252dfdcac18"
      ]
     },
     "execution_count": 13,
     "metadata": {},
     "output_type": "execute_result"
    }
   ],
   "source": [
    "ols_model(df=tone_did, \n",
    "          dependent='lm_negative',\n",
    "          exog=['treated', 'post', 'treated_post', 'num_words'],\n",
    "          ffe=True,\n",
    "          tfe=True)"
   ]
  },
  {
   "cell_type": "code",
   "execution_count": 14,
   "metadata": {},
   "outputs": [
    {
     "data": {
      "text/html": "<table class=\"simpletable\">\n<caption>PanelOLS Estimation Summary</caption>\n<tr>\n  <th>Dep. Variable:</th>       <td>lm_positive</td>   <th>  R-squared:         </th>     <td>0.7881</td>  \n</tr>\n<tr>\n  <th>Estimator:</th>            <td>PanelOLS</td>     <th>  R-squared (Between):</th>    <td>0.6291</td>  \n</tr>\n<tr>\n  <th>No. Observations:</th>       <td>44582</td>      <th>  R-squared (Within):</th>     <td>0.8077</td>  \n</tr>\n<tr>\n  <th>Date:</th>             <td>Thu, May 13 2021</td> <th>  R-squared (Overall):</th>    <td>0.7881</td>  \n</tr>\n<tr>\n  <th>Time:</th>                 <td>20:02:06</td>     <th>  Log-likelihood     </th>   <td>-1.759e+05</td>\n</tr>\n<tr>\n  <th>Cov. Estimator:</th>       <td>Clustered</td>    <th>                     </th>        <td></td>     \n</tr>\n<tr>\n  <th></th>                          <td></td>         <th>  F-statistic:       </th>    <td>4.145e+04</td>\n</tr>\n<tr>\n  <th>Entities:</th>                <td>601</td>       <th>  P-value            </th>     <td>0.0000</td>  \n</tr>\n<tr>\n  <th>Avg Obs:</th>               <td>74.180</td>      <th>  Distribution:      </th>   <td>F(4,44577)</td>\n</tr>\n<tr>\n  <th>Min Obs:</th>               <td>1.0000</td>      <th>                     </th>        <td></td>     \n</tr>\n<tr>\n  <th>Max Obs:</th>               <td>136.00</td>      <th>  F-statistic (robust):</th>   <td>1931.2</td>  \n</tr>\n<tr>\n  <th></th>                          <td></td>         <th>  P-value            </th>     <td>0.0000</td>  \n</tr>\n<tr>\n  <th>Time periods:</th>            <td>17</td>        <th>  Distribution:      </th>   <td>F(4,44577)</td>\n</tr>\n<tr>\n  <th>Avg Obs:</th>               <td>2622.5</td>      <th>                     </th>        <td></td>     \n</tr>\n<tr>\n  <th>Min Obs:</th>               <td>1903.0</td>      <th>                     </th>        <td></td>     \n</tr>\n<tr>\n  <th>Max Obs:</th>               <td>3089.0</td>      <th>                     </th>        <td></td>     \n</tr>\n<tr>\n  <th></th>                          <td></td>         <th>                     </th>        <td></td>     \n</tr>\n</table>\n<table class=\"simpletable\">\n<caption>Parameter Estimates</caption>\n<tr>\n        <td></td>       <th>Parameter</th> <th>Std. Err.</th> <th>T-stat</th>  <th>P-value</th> <th>Lower CI</th> <th>Upper CI</th>\n</tr>\n<tr>\n  <th>const</th>         <td>-7.2629</td>   <td>0.3960</td>   <td>-18.342</td> <td>0.0000</td>   <td>-8.0390</td>  <td>-6.4867</td>\n</tr>\n<tr>\n  <th>treated</th>       <td>6.6313</td>    <td>0.4971</td>   <td>13.340</td>  <td>0.0000</td>   <td>5.6569</td>   <td>7.6056</td> \n</tr>\n<tr>\n  <th>post</th>          <td>1.8784</td>    <td>0.1705</td>   <td>11.016</td>  <td>0.0000</td>   <td>1.5441</td>   <td>2.2126</td> \n</tr>\n<tr>\n  <th>treated_post</th>  <td>4.1106</td>    <td>0.4834</td>   <td>8.5040</td>  <td>0.0000</td>   <td>3.1632</td>   <td>5.0580</td> \n</tr>\n<tr>\n  <th>num_words</th>     <td>0.0144</td>    <td>0.0003</td>   <td>55.446</td>  <td>0.0000</td>   <td>0.0139</td>   <td>0.0149</td> \n</tr>\n</table><br/><br/><br/>id: 0x252dfdae828",
      "text/plain": [
       "                          PanelOLS Estimation Summary                           \n",
       "================================================================================\n",
       "Dep. Variable:            lm_positive   R-squared:                        0.7881\n",
       "Estimator:                   PanelOLS   R-squared (Between):              0.6291\n",
       "No. Observations:               44582   R-squared (Within):               0.8077\n",
       "Date:                Thu, May 13 2021   R-squared (Overall):              0.7881\n",
       "Time:                        20:02:06   Log-likelihood                -1.759e+05\n",
       "Cov. Estimator:             Clustered                                           \n",
       "                                        F-statistic:                   4.145e+04\n",
       "Entities:                         601   P-value                           0.0000\n",
       "Avg Obs:                       74.180   Distribution:                 F(4,44577)\n",
       "Min Obs:                       1.0000                                           \n",
       "Max Obs:                       136.00   F-statistic (robust):             1931.2\n",
       "                                        P-value                           0.0000\n",
       "Time periods:                      17   Distribution:                 F(4,44577)\n",
       "Avg Obs:                       2622.5                                           \n",
       "Min Obs:                       1903.0                                           \n",
       "Max Obs:                       3089.0                                           \n",
       "                                                                                \n",
       "                              Parameter Estimates                               \n",
       "================================================================================\n",
       "              Parameter  Std. Err.     T-stat    P-value    Lower CI    Upper CI\n",
       "--------------------------------------------------------------------------------\n",
       "const           -7.2629     0.3960    -18.342     0.0000     -8.0390     -6.4867\n",
       "treated          6.6313     0.4971     13.340     0.0000      5.6569      7.6056\n",
       "post             1.8784     0.1705     11.016     0.0000      1.5441      2.2126\n",
       "treated_post     4.1106     0.4834     8.5040     0.0000      3.1632      5.0580\n",
       "num_words        0.0144     0.0003     55.446     0.0000      0.0139      0.0149\n",
       "================================================================================\n",
       "\n",
       "\n",
       "PanelEffectsResults, id: 0x252dfdae828"
      ]
     },
     "execution_count": 14,
     "metadata": {},
     "output_type": "execute_result"
    }
   ],
   "source": [
    "ols_model(df=tone_did, \n",
    "          dependent='lm_positive',\n",
    "          exog=['treated', 'post', 'treated_post', 'num_words'],\n",
    "          ffe=False,\n",
    "          tfe=False)"
   ]
  },
  {
   "cell_type": "code",
   "execution_count": 15,
   "metadata": {},
   "outputs": [
    {
     "data": {
      "text/html": "<table class=\"simpletable\">\n<caption>PanelOLS Estimation Summary</caption>\n<tr>\n  <th>Dep. Variable:</th>       <td>lm_positive</td>   <th>  R-squared:         </th>     <td>0.7903</td>   \n</tr>\n<tr>\n  <th>Estimator:</th>            <td>PanelOLS</td>     <th>  R-squared (Between):</th>    <td>0.6423</td>   \n</tr>\n<tr>\n  <th>No. Observations:</th>       <td>44582</td>      <th>  R-squared (Within):</th>     <td>0.8085</td>   \n</tr>\n<tr>\n  <th>Date:</th>             <td>Thu, May 13 2021</td> <th>  R-squared (Overall):</th>    <td>0.7903</td>   \n</tr>\n<tr>\n  <th>Time:</th>                 <td>20:02:07</td>     <th>  Log-likelihood     </th>   <td>-1.757e+05</td> \n</tr>\n<tr>\n  <th>Cov. Estimator:</th>       <td>Clustered</td>    <th>                     </th>        <td></td>      \n</tr>\n<tr>\n  <th></th>                          <td></td>         <th>  F-statistic:       </th>    <td>1.679e+04</td> \n</tr>\n<tr>\n  <th>Entities:</th>                <td>601</td>       <th>  P-value            </th>     <td>0.0000</td>   \n</tr>\n<tr>\n  <th>Avg Obs:</th>               <td>74.180</td>      <th>  Distribution:      </th>   <td>F(10,44571)</td>\n</tr>\n<tr>\n  <th>Min Obs:</th>               <td>1.0000</td>      <th>                     </th>        <td></td>      \n</tr>\n<tr>\n  <th>Max Obs:</th>               <td>136.00</td>      <th>  F-statistic (robust):</th>   <td>847.14</td>   \n</tr>\n<tr>\n  <th></th>                          <td></td>         <th>  P-value            </th>     <td>0.0000</td>   \n</tr>\n<tr>\n  <th>Time periods:</th>            <td>17</td>        <th>  Distribution:      </th>   <td>F(10,44571)</td>\n</tr>\n<tr>\n  <th>Avg Obs:</th>               <td>2622.5</td>      <th>                     </th>        <td></td>      \n</tr>\n<tr>\n  <th>Min Obs:</th>               <td>1903.0</td>      <th>                     </th>        <td></td>      \n</tr>\n<tr>\n  <th>Max Obs:</th>               <td>3089.0</td>      <th>                     </th>        <td></td>      \n</tr>\n<tr>\n  <th></th>                          <td></td>         <th>                     </th>        <td></td>      \n</tr>\n</table>\n<table class=\"simpletable\">\n<caption>Parameter Estimates</caption>\n<tr>\n        <td></td>       <th>Parameter</th> <th>Std. Err.</th> <th>T-stat</th>  <th>P-value</th> <th>Lower CI</th> <th>Upper CI</th>\n</tr>\n<tr>\n  <th>const</th>         <td>-14.713</td>   <td>2.3146</td>   <td>-6.3566</td> <td>0.0000</td>   <td>-19.249</td>  <td>-10.176</td>\n</tr>\n<tr>\n  <th>treated</th>       <td>6.7453</td>    <td>0.4885</td>   <td>13.808</td>  <td>0.0000</td>   <td>5.7878</td>   <td>7.7028</td> \n</tr>\n<tr>\n  <th>post</th>          <td>1.3322</td>    <td>0.2152</td>   <td>6.1900</td>  <td>0.0000</td>   <td>0.9104</td>   <td>1.7540</td> \n</tr>\n<tr>\n  <th>treated_post</th>  <td>4.1431</td>    <td>0.4839</td>   <td>8.5622</td>  <td>0.0000</td>   <td>3.1947</td>   <td>5.0915</td> \n</tr>\n<tr>\n  <th>num_words</th>     <td>0.0143</td>    <td>0.0003</td>   <td>56.279</td>  <td>0.0000</td>   <td>0.0138</td>   <td>0.0148</td> \n</tr>\n<tr>\n  <th>surprise</th>      <td>0.0125</td>    <td>0.0025</td>   <td>5.0114</td>  <td>0.0000</td>   <td>0.0076</td>   <td>0.0174</td> \n</tr>\n<tr>\n  <th>size</th>          <td>0.7932</td>    <td>0.2365</td>   <td>3.3537</td>  <td>0.0008</td>   <td>0.3296</td>   <td>1.2568</td> \n</tr>\n<tr>\n  <th>roa</th>           <td>0.2540</td>    <td>0.0801</td>   <td>3.1699</td>  <td>0.0015</td>   <td>0.0969</td>   <td>0.4110</td> \n</tr>\n<tr>\n  <th>leverage</th>      <td>0.3515</td>    <td>1.2616</td>   <td>0.2786</td>  <td>0.7806</td>   <td>-2.1214</td>  <td>2.8243</td> \n</tr>\n<tr>\n  <th>loss</th>          <td>-0.2054</td>   <td>0.5221</td>   <td>-0.3934</td> <td>0.6941</td>   <td>-1.2286</td>  <td>0.8179</td> \n</tr>\n<tr>\n  <th>capex</th>         <td>-0.1615</td>   <td>0.0728</td>   <td>-2.2177</td> <td>0.0266</td>   <td>-0.3043</td>  <td>-0.0188</td>\n</tr>\n</table><br/><br/><br/>id: 0x252dfd90c88",
      "text/plain": [
       "                          PanelOLS Estimation Summary                           \n",
       "================================================================================\n",
       "Dep. Variable:            lm_positive   R-squared:                        0.7903\n",
       "Estimator:                   PanelOLS   R-squared (Between):              0.6423\n",
       "No. Observations:               44582   R-squared (Within):               0.8085\n",
       "Date:                Thu, May 13 2021   R-squared (Overall):              0.7903\n",
       "Time:                        20:02:07   Log-likelihood                -1.757e+05\n",
       "Cov. Estimator:             Clustered                                           \n",
       "                                        F-statistic:                   1.679e+04\n",
       "Entities:                         601   P-value                           0.0000\n",
       "Avg Obs:                       74.180   Distribution:                F(10,44571)\n",
       "Min Obs:                       1.0000                                           \n",
       "Max Obs:                       136.00   F-statistic (robust):             847.14\n",
       "                                        P-value                           0.0000\n",
       "Time periods:                      17   Distribution:                F(10,44571)\n",
       "Avg Obs:                       2622.5                                           \n",
       "Min Obs:                       1903.0                                           \n",
       "Max Obs:                       3089.0                                           \n",
       "                                                                                \n",
       "                              Parameter Estimates                               \n",
       "================================================================================\n",
       "              Parameter  Std. Err.     T-stat    P-value    Lower CI    Upper CI\n",
       "--------------------------------------------------------------------------------\n",
       "const           -14.713     2.3146    -6.3566     0.0000     -19.249     -10.176\n",
       "treated          6.7453     0.4885     13.808     0.0000      5.7878      7.7028\n",
       "post             1.3322     0.2152     6.1900     0.0000      0.9104      1.7540\n",
       "treated_post     4.1431     0.4839     8.5622     0.0000      3.1947      5.0915\n",
       "num_words        0.0143     0.0003     56.279     0.0000      0.0138      0.0148\n",
       "surprise         0.0125     0.0025     5.0114     0.0000      0.0076      0.0174\n",
       "size             0.7932     0.2365     3.3537     0.0008      0.3296      1.2568\n",
       "roa              0.2540     0.0801     3.1699     0.0015      0.0969      0.4110\n",
       "leverage         0.3515     1.2616     0.2786     0.7806     -2.1214      2.8243\n",
       "loss            -0.2054     0.5221    -0.3934     0.6941     -1.2286      0.8179\n",
       "capex           -0.1615     0.0728    -2.2177     0.0266     -0.3043     -0.0188\n",
       "================================================================================\n",
       "\n",
       "\n",
       "PanelEffectsResults, id: 0x252dfd90c88"
      ]
     },
     "execution_count": 15,
     "metadata": {},
     "output_type": "execute_result"
    }
   ],
   "source": [
    "ols_model(df=tone_did, \n",
    "          dependent='lm_positive',\n",
    "          exog=['treated', 'post', 'treated_post', 'num_words'] + controls,\n",
    "          ffe=False,\n",
    "          tfe=False)"
   ]
  },
  {
   "cell_type": "code",
   "execution_count": 16,
   "metadata": {},
   "outputs": [
    {
     "data": {
      "text/html": "<table class=\"simpletable\">\n<caption>PanelOLS Estimation Summary</caption>\n<tr>\n  <th>Dep. Variable:</th>       <td>lm_positive</td>   <th>  R-squared:         </th>     <td>0.7882</td>  \n</tr>\n<tr>\n  <th>Estimator:</th>            <td>PanelOLS</td>     <th>  R-squared (Between):</th>    <td>0.2195</td>  \n</tr>\n<tr>\n  <th>No. Observations:</th>       <td>44582</td>      <th>  R-squared (Within):</th>     <td>0.7169</td>  \n</tr>\n<tr>\n  <th>Date:</th>             <td>Thu, May 13 2021</td> <th>  R-squared (Overall):</th>    <td>0.6836</td>  \n</tr>\n<tr>\n  <th>Time:</th>                 <td>20:02:07</td>     <th>  Log-likelihood     </th>   <td>-1.756e+05</td>\n</tr>\n<tr>\n  <th>Cov. Estimator:</th>       <td>Clustered</td>    <th>                     </th>        <td></td>     \n</tr>\n<tr>\n  <th></th>                          <td></td>         <th>  F-statistic:       </th>    <td>4.147e+04</td>\n</tr>\n<tr>\n  <th>Entities:</th>                <td>601</td>       <th>  P-value            </th>     <td>0.0000</td>  \n</tr>\n<tr>\n  <th>Avg Obs:</th>               <td>74.180</td>      <th>  Distribution:      </th>   <td>F(4,44561)</td>\n</tr>\n<tr>\n  <th>Min Obs:</th>               <td>1.0000</td>      <th>                     </th>        <td></td>     \n</tr>\n<tr>\n  <th>Max Obs:</th>               <td>136.00</td>      <th>  F-statistic (robust):</th>   <td>5063.4</td>  \n</tr>\n<tr>\n  <th></th>                          <td></td>         <th>  P-value            </th>     <td>0.0000</td>  \n</tr>\n<tr>\n  <th>Time periods:</th>            <td>17</td>        <th>  Distribution:      </th>   <td>F(4,44561)</td>\n</tr>\n<tr>\n  <th>Avg Obs:</th>               <td>2622.5</td>      <th>                     </th>        <td></td>     \n</tr>\n<tr>\n  <th>Min Obs:</th>               <td>1903.0</td>      <th>                     </th>        <td></td>     \n</tr>\n<tr>\n  <th>Max Obs:</th>               <td>3089.0</td>      <th>                     </th>        <td></td>     \n</tr>\n<tr>\n  <th></th>                          <td></td>         <th>                     </th>        <td></td>     \n</tr>\n</table>\n<table class=\"simpletable\">\n<caption>Parameter Estimates</caption>\n<tr>\n        <td></td>       <th>Parameter</th> <th>Std. Err.</th> <th>T-stat</th>  <th>P-value</th> <th>Lower CI</th> <th>Upper CI</th>\n</tr>\n<tr>\n  <th>const</th>         <td>4.2059</td>    <td>0.4875</td>   <td>8.6271</td>  <td>0.0000</td>   <td>3.2504</td>   <td>5.1615</td> \n</tr>\n<tr>\n  <th>treated</th>       <td>6.5281</td>    <td>0.4985</td>   <td>13.096</td>  <td>0.0000</td>   <td>5.5511</td>   <td>7.5051</td> \n</tr>\n<tr>\n  <th>post</th>          <td>-16.350</td>   <td>0.4556</td>   <td>-35.887</td> <td>0.0000</td>   <td>-17.243</td>  <td>-15.457</td>\n</tr>\n<tr>\n  <th>treated_post</th>  <td>4.0635</td>    <td>0.4825</td>   <td>8.4213</td>  <td>0.0000</td>   <td>3.1178</td>   <td>5.0093</td> \n</tr>\n<tr>\n  <th>num_words</th>     <td>0.0145</td>    <td>0.0003</td>   <td>55.732</td>  <td>0.0000</td>   <td>0.0140</td>   <td>0.0150</td> \n</tr>\n</table><br/><br/>F-test for Poolability: 37.106<br/>P-value: 0.0000<br/>Distribution: F(16,44561)<br/><br/>Included effects: Time<br/>id: 0x252dfdc2780",
      "text/plain": [
       "                          PanelOLS Estimation Summary                           \n",
       "================================================================================\n",
       "Dep. Variable:            lm_positive   R-squared:                        0.7882\n",
       "Estimator:                   PanelOLS   R-squared (Between):              0.2195\n",
       "No. Observations:               44582   R-squared (Within):               0.7169\n",
       "Date:                Thu, May 13 2021   R-squared (Overall):              0.6836\n",
       "Time:                        20:02:07   Log-likelihood                -1.756e+05\n",
       "Cov. Estimator:             Clustered                                           \n",
       "                                        F-statistic:                   4.147e+04\n",
       "Entities:                         601   P-value                           0.0000\n",
       "Avg Obs:                       74.180   Distribution:                 F(4,44561)\n",
       "Min Obs:                       1.0000                                           \n",
       "Max Obs:                       136.00   F-statistic (robust):             5063.4\n",
       "                                        P-value                           0.0000\n",
       "Time periods:                      17   Distribution:                 F(4,44561)\n",
       "Avg Obs:                       2622.5                                           \n",
       "Min Obs:                       1903.0                                           \n",
       "Max Obs:                       3089.0                                           \n",
       "                                                                                \n",
       "                              Parameter Estimates                               \n",
       "================================================================================\n",
       "              Parameter  Std. Err.     T-stat    P-value    Lower CI    Upper CI\n",
       "--------------------------------------------------------------------------------\n",
       "const            4.2059     0.4875     8.6271     0.0000      3.2504      5.1615\n",
       "treated          6.5281     0.4985     13.096     0.0000      5.5511      7.5051\n",
       "post            -16.350     0.4556    -35.887     0.0000     -17.243     -15.457\n",
       "treated_post     4.0635     0.4825     8.4213     0.0000      3.1178      5.0093\n",
       "num_words        0.0145     0.0003     55.732     0.0000      0.0140      0.0150\n",
       "================================================================================\n",
       "\n",
       "F-test for Poolability: 37.106\n",
       "P-value: 0.0000\n",
       "Distribution: F(16,44561)\n",
       "\n",
       "Included effects: Time\n",
       "PanelEffectsResults, id: 0x252dfdc2780"
      ]
     },
     "execution_count": 16,
     "metadata": {},
     "output_type": "execute_result"
    }
   ],
   "source": [
    "ols_model(df=tone_did, \n",
    "          dependent='lm_positive',\n",
    "          exog=['treated', 'post', 'treated_post', 'num_words'],\n",
    "          ffe=False,\n",
    "          tfe=True)"
   ]
  },
  {
   "cell_type": "code",
   "execution_count": 17,
   "metadata": {},
   "outputs": [
    {
     "data": {
      "text/html": "<table class=\"simpletable\">\n<caption>PanelOLS Estimation Summary</caption>\n<tr>\n  <th>Dep. Variable:</th>       <td>lm_positive</td>   <th>  R-squared:         </th>     <td>0.8084</td>  \n</tr>\n<tr>\n  <th>Estimator:</th>            <td>PanelOLS</td>     <th>  R-squared (Between):</th>    <td>0.6017</td>  \n</tr>\n<tr>\n  <th>No. Observations:</th>       <td>44582</td>      <th>  R-squared (Within):</th>     <td>0.8054</td>  \n</tr>\n<tr>\n  <th>Date:</th>             <td>Thu, May 13 2021</td> <th>  R-squared (Overall):</th>    <td>0.7845</td>  \n</tr>\n<tr>\n  <th>Time:</th>                 <td>20:02:08</td>     <th>  Log-likelihood     </th>   <td>-1.701e+05</td>\n</tr>\n<tr>\n  <th>Cov. Estimator:</th>       <td>Clustered</td>    <th>                     </th>        <td></td>     \n</tr>\n<tr>\n  <th></th>                          <td></td>         <th>  F-statistic:       </th>    <td>4.638e+04</td>\n</tr>\n<tr>\n  <th>Entities:</th>                <td>601</td>       <th>  P-value            </th>     <td>0.0000</td>  \n</tr>\n<tr>\n  <th>Avg Obs:</th>               <td>74.180</td>      <th>  Distribution:      </th>   <td>F(4,43961)</td>\n</tr>\n<tr>\n  <th>Min Obs:</th>               <td>1.0000</td>      <th>                     </th>        <td></td>     \n</tr>\n<tr>\n  <th>Max Obs:</th>               <td>136.00</td>      <th>  F-statistic (robust):</th>   <td>1988.4</td>  \n</tr>\n<tr>\n  <th></th>                          <td></td>         <th>  P-value            </th>     <td>0.0000</td>  \n</tr>\n<tr>\n  <th>Time periods:</th>            <td>17</td>        <th>  Distribution:      </th>   <td>F(4,43961)</td>\n</tr>\n<tr>\n  <th>Avg Obs:</th>               <td>2622.5</td>      <th>                     </th>        <td></td>     \n</tr>\n<tr>\n  <th>Min Obs:</th>               <td>1903.0</td>      <th>                     </th>        <td></td>     \n</tr>\n<tr>\n  <th>Max Obs:</th>               <td>3089.0</td>      <th>                     </th>        <td></td>     \n</tr>\n<tr>\n  <th></th>                          <td></td>         <th>                     </th>        <td></td>     \n</tr>\n</table>\n<table class=\"simpletable\">\n<caption>Parameter Estimates</caption>\n<tr>\n        <td></td>       <th>Parameter</th> <th>Std. Err.</th> <th>T-stat</th>  <th>P-value</th> <th>Lower CI</th> <th>Upper CI</th>\n</tr>\n<tr>\n  <th>const</th>         <td>-4.9708</td>   <td>0.4666</td>   <td>-10.654</td> <td>0.0000</td>   <td>-5.8853</td>  <td>-4.0563</td>\n</tr>\n<tr>\n  <th>treated</th>       <td>6.7758</td>    <td>0.4466</td>   <td>15.173</td>  <td>0.0000</td>   <td>5.9005</td>   <td>7.6511</td> \n</tr>\n<tr>\n  <th>post</th>          <td>-1.5236</td>   <td>0.3252</td>   <td>-4.6845</td> <td>0.0000</td>   <td>-2.1610</td>  <td>-0.8861</td>\n</tr>\n<tr>\n  <th>treated_post</th>  <td>4.1630</td>    <td>0.4775</td>   <td>8.7189</td>  <td>0.0000</td>   <td>3.2272</td>   <td>5.0989</td> \n</tr>\n<tr>\n  <th>num_words</th>     <td>0.0143</td>    <td>0.0002</td>   <td>66.215</td>  <td>0.0000</td>   <td>0.0139</td>   <td>0.0147</td> \n</tr>\n</table><br/><br/>F-test for Poolability: 21.091<br/>P-value: 0.0000<br/>Distribution: F(616,43961)<br/><br/>Included effects: Entity, Time<br/>id: 0x252dfdeab38",
      "text/plain": [
       "                          PanelOLS Estimation Summary                           \n",
       "================================================================================\n",
       "Dep. Variable:            lm_positive   R-squared:                        0.8084\n",
       "Estimator:                   PanelOLS   R-squared (Between):              0.6017\n",
       "No. Observations:               44582   R-squared (Within):               0.8054\n",
       "Date:                Thu, May 13 2021   R-squared (Overall):              0.7845\n",
       "Time:                        20:02:08   Log-likelihood                -1.701e+05\n",
       "Cov. Estimator:             Clustered                                           \n",
       "                                        F-statistic:                   4.638e+04\n",
       "Entities:                         601   P-value                           0.0000\n",
       "Avg Obs:                       74.180   Distribution:                 F(4,43961)\n",
       "Min Obs:                       1.0000                                           \n",
       "Max Obs:                       136.00   F-statistic (robust):             1988.4\n",
       "                                        P-value                           0.0000\n",
       "Time periods:                      17   Distribution:                 F(4,43961)\n",
       "Avg Obs:                       2622.5                                           \n",
       "Min Obs:                       1903.0                                           \n",
       "Max Obs:                       3089.0                                           \n",
       "                                                                                \n",
       "                              Parameter Estimates                               \n",
       "================================================================================\n",
       "              Parameter  Std. Err.     T-stat    P-value    Lower CI    Upper CI\n",
       "--------------------------------------------------------------------------------\n",
       "const           -4.9708     0.4666    -10.654     0.0000     -5.8853     -4.0563\n",
       "treated          6.7758     0.4466     15.173     0.0000      5.9005      7.6511\n",
       "post            -1.5236     0.3252    -4.6845     0.0000     -2.1610     -0.8861\n",
       "treated_post     4.1630     0.4775     8.7189     0.0000      3.2272      5.0989\n",
       "num_words        0.0143     0.0002     66.215     0.0000      0.0139      0.0147\n",
       "================================================================================\n",
       "\n",
       "F-test for Poolability: 21.091\n",
       "P-value: 0.0000\n",
       "Distribution: F(616,43961)\n",
       "\n",
       "Included effects: Entity, Time\n",
       "PanelEffectsResults, id: 0x252dfdeab38"
      ]
     },
     "execution_count": 17,
     "metadata": {},
     "output_type": "execute_result"
    }
   ],
   "source": [
    "ols_model(df=tone_did, \n",
    "          dependent='lm_positive',\n",
    "          exog=['treated', 'post', 'treated_post', 'num_words'],\n",
    "          ffe=True,\n",
    "          tfe=True)"
   ]
  }
 ],
 "metadata": {
  "interpreter": {
   "hash": "4ad8bff83ca7a203c8f5c1f2f3a00576dbcaaca98e752b3367803050219b2dc1"
  },
  "kernelspec": {
   "display_name": "Python 3.7.0 64-bit ('ccs': conda)",
   "name": "python3"
  },
  "language_info": {
   "name": "python",
   "version": ""
  },
  "orig_nbformat": 2
 },
 "nbformat": 4,
 "nbformat_minor": 2
}