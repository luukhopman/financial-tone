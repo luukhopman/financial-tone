{
 "cells": [
  {
   "cell_type": "markdown",
   "metadata": {},
   "source": [
    "# Descriptives Sample"
   ]
  },
  {
   "cell_type": "code",
   "execution_count": 2,
   "metadata": {},
   "outputs": [],
   "source": [
    "NAME = '08-01_descriptives_sample'\n",
    "PROJECT = 'conference-calls-sentiment'\n",
    "PYTHON_VERSION = '3.7.0'"
   ]
  },
  {
   "cell_type": "markdown",
   "metadata": {},
   "source": [
    "### Imports"
   ]
  },
  {
   "cell_type": "code",
   "execution_count": 3,
   "metadata": {},
   "outputs": [],
   "source": [
    "import os\n",
    "import re\n",
    "import numpy as np\n",
    "import pandas as pd"
   ]
  },
  {
   "cell_type": "markdown",
   "metadata": {},
   "source": [
    "### Settings"
   ]
  },
  {
   "cell_type": "code",
   "execution_count": 4,
   "metadata": {},
   "outputs": [],
   "source": [
    "workdir = re.sub(\"(?<={})[\\w\\W]*\".format(PROJECT), \"\", os.getcwd())\n",
    "os.chdir(workdir)"
   ]
  },
  {
   "cell_type": "markdown",
   "metadata": {},
   "source": [
    "---\n",
    "# Main Code"
   ]
  },
  {
   "cell_type": "markdown",
   "metadata": {},
   "source": [
    "## Dataset"
   ]
  },
  {
   "cell_type": "code",
   "execution_count": 4,
   "metadata": {},
   "outputs": [],
   "source": [
    "dataset = pd.read_feather(os.path.join('2_pipeline', '07-02_dataset_construction', 'out', 'dataset.feather'))"
   ]
  },
  {
   "cell_type": "code",
   "execution_count": 5,
   "metadata": {},
   "outputs": [],
   "source": [
    "descriptive_columns = {'lm_tone': '$Tone_{LM}$',\n",
    "                       'finbert_tone': '$Tone_{FinBERT}$',\n",
    "                       'car_st': '$CAR[-1,+1]$',\n",
    "                       'surprise': '$Surprise$',\n",
    "                       'size': '$Size$',\n",
    "                       'roa': '$ROA$',\n",
    "                       'leverage': '$Leverage$',\n",
    "                       'loss': '$Loss$',\n",
    "                       'capex': '$Capex$'}"
   ]
  },
  {
   "cell_type": "code",
   "execution_count": 6,
   "metadata": {},
   "outputs": [
    {
     "data": {
      "text/html": "<div>\n<style scoped>\n    .dataframe tbody tr th:only-of-type {\n        vertical-align: middle;\n    }\n\n    .dataframe tbody tr th {\n        vertical-align: top;\n    }\n\n    .dataframe thead th {\n        text-align: right;\n    }\n</style>\n<table border=\"1\" class=\"dataframe\">\n  <thead>\n    <tr style=\"text-align: right;\">\n      <th></th>\n      <th>Mean</th>\n      <th>Std. Dev.</th>\n      <th>Pctl(25)</th>\n      <th>Median</th>\n      <th>Pctl(75)</th>\n      <th>N</th>\n    </tr>\n  </thead>\n  <tbody>\n    <tr>\n      <th>$Tone_{LM}$</th>\n      <td>0.154</td>\n      <td>0.242</td>\n      <td>0.000</td>\n      <td>0.172</td>\n      <td>0.326</td>\n      <td>21,966</td>\n    </tr>\n    <tr>\n      <th>$Tone_{FinBERT}$</th>\n      <td>0.302</td>\n      <td>0.272</td>\n      <td>0.126</td>\n      <td>0.322</td>\n      <td>0.500</td>\n      <td>21,966</td>\n    </tr>\n    <tr>\n      <th>$CAR[-1,+1]$</th>\n      <td>0.098</td>\n      <td>6.074</td>\n      <td>-2.893</td>\n      <td>0.110</td>\n      <td>3.231</td>\n      <td>21,966</td>\n    </tr>\n    <tr>\n      <th>$Surprise$</th>\n      <td>1.381</td>\n      <td>16.842</td>\n      <td>0.885</td>\n      <td>1.331</td>\n      <td>1.821</td>\n      <td>21,966</td>\n    </tr>\n    <tr>\n      <th>$Size$</th>\n      <td>9.792</td>\n      <td>1.118</td>\n      <td>9.037</td>\n      <td>9.669</td>\n      <td>10.442</td>\n      <td>21,966</td>\n    </tr>\n    <tr>\n      <th>$ROA$</th>\n      <td>1.609</td>\n      <td>2.453</td>\n      <td>0.610</td>\n      <td>1.417</td>\n      <td>2.539</td>\n      <td>21,966</td>\n    </tr>\n    <tr>\n      <th>$Leverage$</th>\n      <td>0.233</td>\n      <td>0.165</td>\n      <td>0.115</td>\n      <td>0.213</td>\n      <td>0.323</td>\n      <td>21,966</td>\n    </tr>\n    <tr>\n      <th>$Loss$</th>\n      <td>0.082</td>\n      <td>0.274</td>\n      <td>0.000</td>\n      <td>0.000</td>\n      <td>0.000</td>\n      <td>21,966</td>\n    </tr>\n    <tr>\n      <th>$Capex$</th>\n      <td>2.367</td>\n      <td>2.777</td>\n      <td>0.592</td>\n      <td>1.479</td>\n      <td>3.137</td>\n      <td>21,966</td>\n    </tr>\n  </tbody>\n</table>\n</div>",
      "text/plain": "                   Mean  Std. Dev.  Pctl(25)  Median  Pctl(75)       N\n$Tone_{LM}$       0.154      0.242     0.000   0.172     0.326  21,966\n$Tone_{FinBERT}$  0.302      0.272     0.126   0.322     0.500  21,966\n$CAR[-1,+1]$      0.098      6.074    -2.893   0.110     3.231  21,966\n$Surprise$        1.381     16.842     0.885   1.331     1.821  21,966\n$Size$            9.792      1.118     9.037   9.669    10.442  21,966\n$ROA$             1.609      2.453     0.610   1.417     2.539  21,966\n$Leverage$        0.233      0.165     0.115   0.213     0.323  21,966\n$Loss$            0.082      0.274     0.000   0.000     0.000  21,966\n$Capex$           2.367      2.777     0.592   1.479     3.137  21,966"
     },
     "execution_count": 6,
     "metadata": {},
     "output_type": "execute_result"
    }
   ],
   "source": [
    "descriptives = (dataset\r\n",
    "                .drop(columns=['gvkey', 'year'])\r\n",
    "                .dropna()\r\n",
    "                .filter(descriptive_columns.keys())\r\n",
    "                .rename(descriptive_columns, axis=1)\r\n",
    "                .describe().transpose()\r\n",
    "                .filter(['mean', 'std', '25%', '50%', '75%', 'count'])\r\n",
    "                .round(3)\r\n",
    "                .assign(count=lambda x: x['count'].apply(lambda x : \"{:,.0f}\".format(x)))\r\n",
    "                .rename(columns={'mean': 'Mean', 'std': 'Std. Dev.', '25%': 'Pctl(25)',\r\n",
    "                                 '50%': 'Median', '75%': 'Pctl(75)', 'count': 'N'}))\r\n",
    "descriptives"
   ]
  },
  {
   "cell_type": "code",
   "execution_count": 7,
   "metadata": {},
   "outputs": [
    {
     "data": {
      "text/html": "<div>\n<style scoped>\n    .dataframe tbody tr th:only-of-type {\n        vertical-align: middle;\n    }\n\n    .dataframe tbody tr th {\n        vertical-align: top;\n    }\n\n    .dataframe thead th {\n        text-align: right;\n    }\n</style>\n<table border=\"1\" class=\"dataframe\">\n  <thead>\n    <tr style=\"text-align: right;\">\n      <th></th>\n      <th>(1)</th>\n      <th>(2)</th>\n      <th>(3)</th>\n      <th>(4)</th>\n      <th>(5)</th>\n      <th>(6)</th>\n      <th>(7)</th>\n      <th>(8)</th>\n      <th>(9)</th>\n    </tr>\n  </thead>\n  <tbody>\n    <tr>\n      <th>(1) $Tone_{LM}$</th>\n      <td>1.000</td>\n      <td></td>\n      <td></td>\n      <td></td>\n      <td></td>\n      <td></td>\n      <td></td>\n      <td></td>\n      <td></td>\n    </tr>\n    <tr>\n      <th>(2) $Tone_{FinBERT}$</th>\n      <td>0.710</td>\n      <td>1.000</td>\n      <td></td>\n      <td></td>\n      <td></td>\n      <td></td>\n      <td></td>\n      <td></td>\n      <td></td>\n    </tr>\n    <tr>\n      <th>(3) $CAR[-1,+1]$</th>\n      <td>0.114</td>\n      <td>0.163</td>\n      <td>1.000</td>\n      <td></td>\n      <td></td>\n      <td></td>\n      <td></td>\n      <td></td>\n      <td></td>\n    </tr>\n    <tr>\n      <th>(4) $Surprise$</th>\n      <td>0.036</td>\n      <td>0.018</td>\n      <td>0.005</td>\n      <td>1.000</td>\n      <td></td>\n      <td></td>\n      <td></td>\n      <td></td>\n      <td></td>\n    </tr>\n    <tr>\n      <th>(5) $Size$</th>\n      <td>0.142</td>\n      <td>0.173</td>\n      <td>-0.009</td>\n      <td>0.020</td>\n      <td>1.000</td>\n      <td></td>\n      <td></td>\n      <td></td>\n      <td></td>\n    </tr>\n    <tr>\n      <th>(6) $ROA$</th>\n      <td>0.106</td>\n      <td>0.057</td>\n      <td>0.046</td>\n      <td>0.073</td>\n      <td>0.174</td>\n      <td>1.000</td>\n      <td></td>\n      <td></td>\n      <td></td>\n    </tr>\n    <tr>\n      <th>(7) $Leverage$</th>\n      <td>0.027</td>\n      <td>0.024</td>\n      <td>-0.015</td>\n      <td>0.013</td>\n      <td>-0.042</td>\n      <td>-0.094</td>\n      <td>1.000</td>\n      <td></td>\n      <td></td>\n    </tr>\n    <tr>\n      <th>(8) $Loss$</th>\n      <td>-0.090</td>\n      <td>-0.026</td>\n      <td>-0.054</td>\n      <td>-0.081</td>\n      <td>-0.164</td>\n      <td>-0.486</td>\n      <td>0.081</td>\n      <td>1.000</td>\n      <td></td>\n    </tr>\n    <tr>\n      <th>(9) $Capex$</th>\n      <td>-0.032</td>\n      <td>-0.047</td>\n      <td>-0.003</td>\n      <td>0.047</td>\n      <td>-0.013</td>\n      <td>0.029</td>\n      <td>0.046</td>\n      <td>0.033</td>\n      <td>1.000</td>\n    </tr>\n  </tbody>\n</table>\n</div>",
      "text/plain": "                         (1)     (2)     (3)     (4)     (5)     (6)    (7)  \\\n(1) $Tone_{LM}$        1.000                                                  \n(2) $Tone_{FinBERT}$   0.710   1.000                                          \n(3) $CAR[-1,+1]$       0.114   0.163   1.000                                  \n(4) $Surprise$         0.036   0.018   0.005   1.000                          \n(5) $Size$             0.142   0.173  -0.009   0.020   1.000                  \n(6) $ROA$              0.106   0.057   0.046   0.073   0.174   1.000          \n(7) $Leverage$         0.027   0.024  -0.015   0.013  -0.042  -0.094  1.000   \n(8) $Loss$            -0.090  -0.026  -0.054  -0.081  -0.164  -0.486  0.081   \n(9) $Capex$           -0.032  -0.047  -0.003   0.047  -0.013   0.029  0.046   \n\n                        (8)    (9)  \n(1) $Tone_{LM}$                     \n(2) $Tone_{FinBERT}$                \n(3) $CAR[-1,+1]$                    \n(4) $Surprise$                      \n(5) $Size$                          \n(6) $ROA$                           \n(7) $Leverage$                      \n(8) $Loss$            1.000         \n(9) $Capex$           0.033  1.000  "
     },
     "execution_count": 7,
     "metadata": {},
     "output_type": "execute_result"
    }
   ],
   "source": [
    "correlation = (dataset\n",
    "               .drop(columns=['gvkey', 'year'])\n",
    "               .filter(descriptive_columns.keys())\n",
    "               .rename(descriptive_columns, axis=1)\n",
    "               .corr()\n",
    "               .apply(lambda s: s.apply(lambda x: f'{x:.3f}')))\n",
    "\n",
    "# Convert table to one-sided\n",
    "for i, _ in enumerate(correlation):\n",
    "    for j, _ in enumerate(correlation):\n",
    "        if i < j:\n",
    "            correlation.iloc[i, j] = ''\n",
    "\n",
    "# Fix index and columns\n",
    "correlation.index = [f'({i+1}) {index}' for i, index in enumerate(correlation.columns)]\n",
    "correlation.columns = [f'({i+1})' for i, _ in enumerate(correlation.columns)]\n",
    "\n",
    "correlation"
   ]
  },
  {
   "cell_type": "markdown",
   "metadata": {},
   "source": [
    "## LaTeX"
   ]
  },
  {
   "cell_type": "code",
   "execution_count": 8,
   "metadata": {},
   "outputs": [
    {
     "name": "stdout",
     "output_type": "stream",
     "text": [
      "\\begin{tabular}{lYYYYYY}\n",
      "\\toprule\n",
      "{} &   Mean &  Std. Dev. &  Pctl(25) &  Median &  Pctl(75) &       N \\\\\n",
      "\\midrule\n",
      "$Tone_{LM}$      &  0.154 &      0.242 &     0.000 &   0.172 &     0.326 &  21,966 \\\\\n",
      "$Tone_{FinBERT}$ &  0.302 &      0.272 &     0.126 &   0.322 &     0.500 &  21,966 \\\\\n",
      "$CAR[-1,+1]$     &  0.098 &      6.074 &    -2.893 &   0.110 &     3.231 &  21,966 \\\\\n",
      "$Surprise$       &  1.381 &     16.842 &     0.885 &   1.331 &     1.821 &  21,966 \\\\\n",
      "$Size$           &  9.792 &      1.118 &     9.037 &   9.669 &    10.442 &  21,966 \\\\\n",
      "$ROA$            &  1.609 &      2.453 &     0.610 &   1.417 &     2.539 &  21,966 \\\\\n",
      "$Leverage$       &  0.233 &      0.165 &     0.115 &   0.213 &     0.323 &  21,966 \\\\\n",
      "$Loss$           &  0.082 &      0.274 &     0.000 &   0.000 &     0.000 &  21,966 \\\\\n",
      "$Capex$          &  2.367 &      2.777 &     0.592 &   1.479 &     3.137 &  21,966 \\\\\n",
      "\\bottomrule\n",
      "\\end{tabular}\n",
      "\n"
     ]
    }
   ],
   "source": [
    "print(descriptives.to_latex(column_format='lYYYYYY', escape=False))"
   ]
  },
  {
   "cell_type": "code",
   "execution_count": 9,
   "metadata": {},
   "outputs": [
    {
     "name": "stdout",
     "output_type": "stream",
     "text": [
      "\\begin{tabular}{lYYYYYYYYY}\n",
      "\\toprule\n",
      "{} &     (1) &     (2) &     (3) &     (4) &     (5) &     (6) &    (7) &    (8) &    (9) \\\\\n",
      "\\midrule\n",
      "(1) $Tone_{LM}$      &   1.000 &         &         &         &         &         &        &        &        \\\\\n",
      "(2) $Tone_{FinBERT}$ &   0.710 &   1.000 &         &         &         &         &        &        &        \\\\\n",
      "(3) $CAR[-1,+1]$     &   0.114 &   0.163 &   1.000 &         &         &         &        &        &        \\\\\n",
      "(4) $Surprise$       &   0.036 &   0.018 &   0.005 &   1.000 &         &         &        &        &        \\\\\n",
      "(5) $Size$           &   0.142 &   0.173 &  -0.009 &   0.020 &   1.000 &         &        &        &        \\\\\n",
      "(6) $ROA$            &   0.106 &   0.057 &   0.046 &   0.073 &   0.174 &   1.000 &        &        &        \\\\\n",
      "(7) $Leverage$       &   0.027 &   0.024 &  -0.015 &   0.013 &  -0.042 &  -0.094 &  1.000 &        &        \\\\\n",
      "(8) $Loss$           &  -0.090 &  -0.026 &  -0.054 &  -0.081 &  -0.164 &  -0.486 &  0.081 &  1.000 &        \\\\\n",
      "(9) $Capex$          &  -0.032 &  -0.047 &  -0.003 &   0.047 &  -0.013 &   0.029 &  0.046 &  0.033 &  1.000 \\\\\n",
      "\\bottomrule\n",
      "\\end{tabular}\n",
      "\n"
     ]
    }
   ],
   "source": [
    "print(correlation.to_latex(column_format='lYYYYYYYYY', escape=False))"
   ]
  },
  {
   "cell_type": "markdown",
   "metadata": {},
   "source": [
    "## Processed transcripts\r\n"
   ]
  },
  {
   "cell_type": "code",
   "execution_count": 5,
   "metadata": {},
   "outputs": [],
   "source": [
    "cc = pd.read_feather(os.path.join('2_pipeline', '02-02_conference_calls_preprocess', 'out', 'cc_transcripts.feather'))"
   ]
  },
  {
   "cell_type": "code",
   "execution_count": 6,
   "metadata": {},
   "outputs": [
    {
     "name": "stdout",
     "output_type": "stream",
     "text": [
      "Number of transcripts: 26,237\n"
     ]
    }
   ],
   "source": [
    "num_transcripts = cc['transcript_id'].nunique()\r\n",
    "print(f\"Number of transcripts: {num_transcripts:,}\")"
   ]
  },
  {
   "cell_type": "code",
   "execution_count": 17,
   "metadata": {},
   "outputs": [
    {
     "name": "stdout",
     "output_type": "stream",
     "text": [
      "Number of unique firms: 715\n"
     ]
    }
   ],
   "source": [
    "num_firms = cc['gvkey'].nunique()\r\n",
    "print(f\"Number of unique firms: {num_firms:,}\")"
   ]
  },
  {
   "cell_type": "code",
   "execution_count": 7,
   "metadata": {},
   "outputs": [
    {
     "data": {
      "text/html": "<div>\n<style scoped>\n    .dataframe tbody tr th:only-of-type {\n        vertical-align: middle;\n    }\n\n    .dataframe tbody tr th {\n        vertical-align: top;\n    }\n\n    .dataframe thead th {\n        text-align: right;\n    }\n</style>\n<table border=\"1\" class=\"dataframe\">\n  <thead>\n    <tr style=\"text-align: right;\">\n      <th></th>\n      <th>Sentences</th>\n    </tr>\n    <tr>\n      <th>speaker_role</th>\n      <th></th>\n    </tr>\n  </thead>\n  <tbody>\n    <tr>\n      <th>Analyst</th>\n      <td>1,840,233</td>\n    </tr>\n    <tr>\n      <th>Management</th>\n      <td>4,232,635</td>\n    </tr>\n  </tbody>\n</table>\n</div>",
      "text/plain": "              Sentences\nspeaker_role           \nAnalyst       1,840,233\nManagement    4,232,635"
     },
     "execution_count": 7,
     "metadata": {},
     "output_type": "execute_result"
    }
   ],
   "source": [
    "(cc.groupby('speaker_role').size()\r\n",
    "   .to_frame('Sentences')\r\n",
    "   .apply(lambda s: s.apply(lambda x: f'{x:,}')))"
   ]
  },
  {
   "cell_type": "code",
   "execution_count": 8,
   "metadata": {},
   "outputs": [
    {
     "data": {
      "text/html": "<div>\n<style scoped>\n    .dataframe tbody tr th:only-of-type {\n        vertical-align: middle;\n    }\n\n    .dataframe tbody tr th {\n        vertical-align: top;\n    }\n\n    .dataframe thead th {\n        text-align: right;\n    }\n</style>\n<table border=\"1\" class=\"dataframe\">\n  <thead>\n    <tr style=\"text-align: right;\">\n      <th></th>\n      <th>Words</th>\n    </tr>\n    <tr>\n      <th>speaker_role</th>\n      <th></th>\n    </tr>\n  </thead>\n  <tbody>\n    <tr>\n      <th>Analyst</th>\n      <td>35,095,298</td>\n    </tr>\n    <tr>\n      <th>Management</th>\n      <td>85,330,348</td>\n    </tr>\n  </tbody>\n</table>\n</div>",
      "text/plain": "                   Words\nspeaker_role            \nAnalyst       35,095,298\nManagement    85,330,348"
     },
     "execution_count": 8,
     "metadata": {},
     "output_type": "execute_result"
    }
   ],
   "source": [
    "(cc\r\n",
    " .groupby('speaker_role')['num_words'].sum()\r\n",
    " .to_frame('Words')\r\n",
    " .apply(lambda s: s.apply(lambda x: f'{x:,}')))"
   ]
  },
  {
   "cell_type": "code",
   "execution_count": 9,
   "metadata": {},
   "outputs": [
    {
     "data": {
      "text/plain": "False    0.991653\nTrue     0.008347\nName: num_words, dtype: float64"
     },
     "execution_count": 9,
     "metadata": {},
     "output_type": "execute_result"
    }
   ],
   "source": [
    "(cc['num_words'] > 64).value_counts(normalize=True)"
   ]
  },
  {
   "cell_type": "code",
   "execution_count": 10,
   "metadata": {},
   "outputs": [
    {
     "data": {
      "text/plain": "<AxesSubplot:xlabel='year'>"
     },
     "execution_count": 10,
     "metadata": {},
     "output_type": "execute_result"
    },
    {
     "data": {
      "image/png": "[encoded data removed]",
      "text/plain": "<Figure size 432x288 with 1 Axes>"
     },
     "metadata": {
      "needs_background": "light"
     },
     "output_type": "display_data"
    }
   ],
   "source": [
    "cc[cc['speaker_role'] == 'Management'].groupby('year').size().plot(label='Management', legend=True)\r\n",
    "cc[cc['speaker_role'] == 'Analyst'].groupby('year').size().plot(label='Analysts', legend=True)"
   ]
  },
  {
   "cell_type": "code",
   "execution_count": 11,
   "metadata": {},
   "outputs": [
    {
     "data": {
      "text/plain": "<AxesSubplot:xlabel='year'>"
     },
     "execution_count": 11,
     "metadata": {},
     "output_type": "execute_result"
    },
    {
     "data": {
      "image/png": "[encoded data removed]",
      "text/plain": "<Figure size 432x288 with 1 Axes>"
     },
     "metadata": {
      "needs_background": "light"
     },
     "output_type": "display_data"
    }
   ],
   "source": [
    "cc[cc['speaker_role'] == 'Management'].groupby('year')['num_words'].sum().plot(label='Management', legend=True)\r\n",
    "cc[cc['speaker_role'] == 'Analyst'].groupby('year')['num_words'].sum().plot(label='Analysts', legend=True)"
   ]
  },
  {
   "cell_type": "code",
   "execution_count": 6,
   "metadata": {},
   "outputs": [
    {
     "data": {
      "text/html": "<div>\n<style scoped>\n    .dataframe tbody tr th:only-of-type {\n        vertical-align: middle;\n    }\n\n    .dataframe tbody tr th {\n        vertical-align: top;\n    }\n\n    .dataframe thead th {\n        text-align: right;\n    }\n</style>\n<table border=\"1\" class=\"dataframe\">\n  <thead>\n    <tr style=\"text-align: right;\">\n      <th></th>\n      <th>year</th>\n      <th>Frequency</th>\n      <th>Percent</th>\n      <th>Cumulative</th>\n    </tr>\n  </thead>\n  <tbody>\n    <tr>\n      <th>0</th>\n      <td>2004</td>\n      <td>1370</td>\n      <td>5.221634</td>\n      <td>5.221634</td>\n    </tr>\n    <tr>\n      <th>1</th>\n      <td>2005</td>\n      <td>1451</td>\n      <td>5.530358</td>\n      <td>10.751991</td>\n    </tr>\n    <tr>\n      <th>2</th>\n      <td>2006</td>\n      <td>1455</td>\n      <td>5.545604</td>\n      <td>16.297595</td>\n    </tr>\n    <tr>\n      <th>3</th>\n      <td>2007</td>\n      <td>1497</td>\n      <td>5.705683</td>\n      <td>22.003278</td>\n    </tr>\n    <tr>\n      <th>4</th>\n      <td>2008</td>\n      <td>1537</td>\n      <td>5.858139</td>\n      <td>27.861417</td>\n    </tr>\n    <tr>\n      <th>5</th>\n      <td>2009</td>\n      <td>1550</td>\n      <td>5.907688</td>\n      <td>33.769105</td>\n    </tr>\n    <tr>\n      <th>6</th>\n      <td>2010</td>\n      <td>1580</td>\n      <td>6.022030</td>\n      <td>39.791135</td>\n    </tr>\n    <tr>\n      <th>7</th>\n      <td>2011</td>\n      <td>1575</td>\n      <td>6.002973</td>\n      <td>45.794108</td>\n    </tr>\n    <tr>\n      <th>8</th>\n      <td>2012</td>\n      <td>1591</td>\n      <td>6.063955</td>\n      <td>51.858063</td>\n    </tr>\n    <tr>\n      <th>9</th>\n      <td>2013</td>\n      <td>1605</td>\n      <td>6.117315</td>\n      <td>57.975378</td>\n    </tr>\n    <tr>\n      <th>10</th>\n      <td>2014</td>\n      <td>1584</td>\n      <td>6.037276</td>\n      <td>64.012654</td>\n    </tr>\n    <tr>\n      <th>11</th>\n      <td>2015</td>\n      <td>1561</td>\n      <td>5.949613</td>\n      <td>69.962267</td>\n    </tr>\n    <tr>\n      <th>12</th>\n      <td>2016</td>\n      <td>1566</td>\n      <td>5.968670</td>\n      <td>75.930937</td>\n    </tr>\n    <tr>\n      <th>13</th>\n      <td>2017</td>\n      <td>1587</td>\n      <td>6.048710</td>\n      <td>81.979647</td>\n    </tr>\n    <tr>\n      <th>14</th>\n      <td>2018</td>\n      <td>1592</td>\n      <td>6.067767</td>\n      <td>88.047414</td>\n    </tr>\n    <tr>\n      <th>15</th>\n      <td>2019</td>\n      <td>1599</td>\n      <td>6.094447</td>\n      <td>94.141861</td>\n    </tr>\n    <tr>\n      <th>16</th>\n      <td>2020</td>\n      <td>1537</td>\n      <td>5.858139</td>\n      <td>100.000000</td>\n    </tr>\n  </tbody>\n</table>\n</div>",
      "text/plain": "    year  Frequency   Percent  Cumulative\n0   2004       1370  5.221634    5.221634\n1   2005       1451  5.530358   10.751991\n2   2006       1455  5.545604   16.297595\n3   2007       1497  5.705683   22.003278\n4   2008       1537  5.858139   27.861417\n5   2009       1550  5.907688   33.769105\n6   2010       1580  6.022030   39.791135\n7   2011       1575  6.002973   45.794108\n8   2012       1591  6.063955   51.858063\n9   2013       1605  6.117315   57.975378\n10  2014       1584  6.037276   64.012654\n11  2015       1561  5.949613   69.962267\n12  2016       1566  5.968670   75.930937\n13  2017       1587  6.048710   81.979647\n14  2018       1592  6.067767   88.047414\n15  2019       1599  6.094447   94.141861\n16  2020       1537  5.858139  100.000000"
     },
     "execution_count": 6,
     "metadata": {},
     "output_type": "execute_result"
    }
   ],
   "source": [
    "distribution = (cc.groupby('year')['transcript_id']\r\n",
    "                  .nunique()\r\n",
    "                  .sort_index()\r\n",
    "                  .to_frame('Frequency')\r\n",
    "                  .assign(Percent=lambda x: x['Frequency'] / x['Frequency'].sum() * 100,\r\n",
    "                          Cumulative=lambda x: x['Percent'].cumsum())\r\n",
    "                  .reset_index())\r\n",
    "distribution"
   ]
  }
 ],
 "metadata": {
  "interpreter": {
   "hash": "4ad8bff83ca7a203c8f5c1f2f3a00576dbcaaca98e752b3367803050219b2dc1"
  },
  "kernelspec": {
   "display_name": "Python 3.7.0 64-bit ('ccs': conda)",
   "name": "python3"
  },
  "language_info": {
   "name": "python",
   "version": ""
  },
  "orig_nbformat": 2
 },
 "nbformat": 4,
 "nbformat_minor": 2
}